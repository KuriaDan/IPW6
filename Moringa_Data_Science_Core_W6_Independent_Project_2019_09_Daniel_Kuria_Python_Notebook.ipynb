{
 "cells": [
  {
   "cell_type": "markdown",
   "metadata": {
    "colab_type": "text",
    "id": "xMxtPsqcTsSH"
   },
   "source": [
    "# National team match prediction"
   ]
  },
  {
   "cell_type": "markdown",
   "metadata": {
    "colab_type": "text",
    "id": "kLG2VTrnTvYL"
   },
   "source": [
    "## 1. Defining the Question"
   ]
  },
  {
   "cell_type": "markdown",
   "metadata": {
    "colab_type": "text",
    "id": "XecOwPNorl2W"
   },
   "source": [
    "### a) Specifying the Question"
   ]
  },
  {
   "cell_type": "markdown",
   "metadata": {
    "colab_type": "text",
    "id": "8l3-hBO6bODP"
   },
   "source": [
    "\n",
    "> You have been recruited as a football analyst in a company - Mchezopesa Ltd and tasked to accomplish the task below.\n",
    "\n",
    ">A Prediction result of a game between team 1 and team 2, based on who's home and who's away, and on whether or not the game is friendly (include rank in your training).\n",
    "\n",
    ">You have two possible approaches (as  shown below) given the datasets that will be provided\n",
    "\n",
    ">Input: Home team, Away team, Tournament type (World cup, Friendly, Other)\n",
    "\n",
    ">Approach 1: Polynomial approach\n",
    "\n",
    ">What to train given:\n",
    "\n",
    ">Rank of home team\n",
    "Rank of away team\n",
    "Tournament type\n",
    "Model 1: Predict how many goals the home team scores\n",
    "\n",
    ">Model 2: Predict how many goals the away team scores\n",
    "\n",
    " \n",
    "\n",
    ">Approach 2 Logistic approach\n",
    "\n",
    ">Feature Engineering: Figure out from the home team’s perspective if the game is a Win, Lose or Draw (W, L, D)\n",
    "\n"
   ]
  },
  {
   "cell_type": "markdown",
   "metadata": {
    "colab_type": "text",
    "id": "J4wfHZwQrs-t"
   },
   "source": [
    "### b) Defining the Metric for Success"
   ]
  },
  {
   "cell_type": "markdown",
   "metadata": {},
   "source": [
    "> 1. Create a model that can predict if the home team wins, draws or loses with 95% or more accuracy.\n",
    "> 2. Create a model that can correctly predict number of goals scored by a team based on it's FIFA ranking.\n"
   ]
  },
  {
   "cell_type": "markdown",
   "metadata": {
    "colab_type": "text",
    "id": "a9BPYqunry97"
   },
   "source": [
    "### c) Understanding the context "
   ]
  },
  {
   "cell_type": "markdown",
   "metadata": {},
   "source": [
    "> The data provided in the results dataset is the results of national team matches from 1874 to 2019.\n",
    "> In the FIFA rankings dataset, the data is the historical ranking and variation of ranking of national teams with time from 1993 to 2018."
   ]
  },
  {
   "cell_type": "markdown",
   "metadata": {
    "colab_type": "text",
    "id": "7KMRBJ7zr9HD"
   },
   "source": [
    "### d) Recording the Experimental Design"
   ]
  },
  {
   "cell_type": "markdown",
   "metadata": {},
   "source": [
    ">This project was carried out using the following procession:\n",
    "\n",
    ">1. Define the question, the metric for success, the context, experimental design taken and the appropriateness of the available data to answer the given question\n",
    "Expected flow for the assessment:\n",
    ">2. Perform your EDA\n",
    "- Perform any necessary feature engineering\n",
    "- Check of multicollinearity\n",
    "- Start building the model\n",
    "- Cross-validate the model\n",
    "- Compute RMSE\n",
    "- Create residual plots for your models, and assess their heteroscedasticity using Bartlett’s test\n",
    ">3. Perform appropriate regressions on the data including your justification\n",
    ">4. Challenge your solution by providing insights on how you can make improvements."
   ]
  },
  {
   "cell_type": "markdown",
   "metadata": {
    "colab_type": "text",
    "id": "iUNbvIvnT7ep"
   },
   "source": [
    "## 2. Reading the Data"
   ]
  },
  {
   "cell_type": "code",
   "execution_count": 1,
   "metadata": {},
   "outputs": [],
   "source": [
    "# Loading the Libraries we will need\n",
    "import pandas as pd\n",
    "import numpy as np\n",
    "import seaborn as sns\n",
    "sns.set_style('darkgrid')\n",
    "import matplotlib.pyplot as plt\n",
    "from sklearn.preprocessing import PolynomialFeatures\n",
    "from sklearn.model_selection import train_test_split\n",
    "from sklearn.linear_model import LinearRegression\n",
    "from sklearn.model_selection import train_test_split\n",
    "from sklearn.decomposition import PCA\n",
    "from xgboost import XGBRegressor\n",
    "from sklearn import metrics\n",
    "from sklearn.preprocessing import StandardScaler\n",
    "from sklearn.discriminant_analysis import LinearDiscriminantAnalysis as LDA\n",
    "from sklearn.linear_model import LogisticRegression\n",
    "from sklearn.metrics import confusion_matrix, accuracy_score, classification_report, f1_score\n",
    "from sklearn import model_selection\n",
    "from sklearn.tree import DecisionTreeClassifier\n",
    "from sklearn.neighbors import KNeighborsClassifier\n",
    "from sklearn.discriminant_analysis import LinearDiscriminantAnalysis\n",
    "from sklearn.naive_bayes import GaussianNB\n",
    "from sklearn.svm import SVC\n",
    "import random\n",
    "from sklearn.model_selection import GridSearchCV\n",
    "import scipy as sp"
   ]
  },
  {
   "cell_type": "code",
   "execution_count": 44,
   "metadata": {
    "colab": {},
    "colab_type": "code",
    "id": "XJn2KjW-WMlG"
   },
   "outputs": [],
   "source": [
    "# Loading the Datasets\n",
    "results = pd.read_csv('results.csv')\n",
    "fifa_ranking = pd.read_csv('fifa_ranking.csv')"
   ]
  },
  {
   "cell_type": "code",
   "execution_count": 45,
   "metadata": {},
   "outputs": [
    {
     "data": {
      "text/html": [
       "<div>\n",
       "<style scoped>\n",
       "    .dataframe tbody tr th:only-of-type {\n",
       "        vertical-align: middle;\n",
       "    }\n",
       "\n",
       "    .dataframe tbody tr th {\n",
       "        vertical-align: top;\n",
       "    }\n",
       "\n",
       "    .dataframe thead th {\n",
       "        text-align: right;\n",
       "    }\n",
       "</style>\n",
       "<table border=\"1\" class=\"dataframe\">\n",
       "  <thead>\n",
       "    <tr style=\"text-align: right;\">\n",
       "      <th></th>\n",
       "      <th>rank</th>\n",
       "      <th>country_full</th>\n",
       "      <th>country_abrv</th>\n",
       "      <th>total_points</th>\n",
       "      <th>previous_points</th>\n",
       "      <th>rank_change</th>\n",
       "      <th>cur_year_avg</th>\n",
       "      <th>cur_year_avg_weighted</th>\n",
       "      <th>last_year_avg</th>\n",
       "      <th>last_year_avg_weighted</th>\n",
       "      <th>two_year_ago_avg</th>\n",
       "      <th>two_year_ago_weighted</th>\n",
       "      <th>three_year_ago_avg</th>\n",
       "      <th>three_year_ago_weighted</th>\n",
       "      <th>confederation</th>\n",
       "      <th>rank_date</th>\n",
       "    </tr>\n",
       "  </thead>\n",
       "  <tbody>\n",
       "    <tr>\n",
       "      <th>0</th>\n",
       "      <td>1</td>\n",
       "      <td>Germany</td>\n",
       "      <td>GER</td>\n",
       "      <td>0.0</td>\n",
       "      <td>57</td>\n",
       "      <td>0</td>\n",
       "      <td>0.0</td>\n",
       "      <td>0.0</td>\n",
       "      <td>0.0</td>\n",
       "      <td>0.0</td>\n",
       "      <td>0.0</td>\n",
       "      <td>0.0</td>\n",
       "      <td>0.0</td>\n",
       "      <td>0.0</td>\n",
       "      <td>UEFA</td>\n",
       "      <td>1993-08-08</td>\n",
       "    </tr>\n",
       "    <tr>\n",
       "      <th>1</th>\n",
       "      <td>2</td>\n",
       "      <td>Italy</td>\n",
       "      <td>ITA</td>\n",
       "      <td>0.0</td>\n",
       "      <td>57</td>\n",
       "      <td>0</td>\n",
       "      <td>0.0</td>\n",
       "      <td>0.0</td>\n",
       "      <td>0.0</td>\n",
       "      <td>0.0</td>\n",
       "      <td>0.0</td>\n",
       "      <td>0.0</td>\n",
       "      <td>0.0</td>\n",
       "      <td>0.0</td>\n",
       "      <td>UEFA</td>\n",
       "      <td>1993-08-08</td>\n",
       "    </tr>\n",
       "    <tr>\n",
       "      <th>2</th>\n",
       "      <td>3</td>\n",
       "      <td>Switzerland</td>\n",
       "      <td>SUI</td>\n",
       "      <td>0.0</td>\n",
       "      <td>50</td>\n",
       "      <td>9</td>\n",
       "      <td>0.0</td>\n",
       "      <td>0.0</td>\n",
       "      <td>0.0</td>\n",
       "      <td>0.0</td>\n",
       "      <td>0.0</td>\n",
       "      <td>0.0</td>\n",
       "      <td>0.0</td>\n",
       "      <td>0.0</td>\n",
       "      <td>UEFA</td>\n",
       "      <td>1993-08-08</td>\n",
       "    </tr>\n",
       "    <tr>\n",
       "      <th>3</th>\n",
       "      <td>4</td>\n",
       "      <td>Sweden</td>\n",
       "      <td>SWE</td>\n",
       "      <td>0.0</td>\n",
       "      <td>55</td>\n",
       "      <td>0</td>\n",
       "      <td>0.0</td>\n",
       "      <td>0.0</td>\n",
       "      <td>0.0</td>\n",
       "      <td>0.0</td>\n",
       "      <td>0.0</td>\n",
       "      <td>0.0</td>\n",
       "      <td>0.0</td>\n",
       "      <td>0.0</td>\n",
       "      <td>UEFA</td>\n",
       "      <td>1993-08-08</td>\n",
       "    </tr>\n",
       "    <tr>\n",
       "      <th>4</th>\n",
       "      <td>5</td>\n",
       "      <td>Argentina</td>\n",
       "      <td>ARG</td>\n",
       "      <td>0.0</td>\n",
       "      <td>51</td>\n",
       "      <td>5</td>\n",
       "      <td>0.0</td>\n",
       "      <td>0.0</td>\n",
       "      <td>0.0</td>\n",
       "      <td>0.0</td>\n",
       "      <td>0.0</td>\n",
       "      <td>0.0</td>\n",
       "      <td>0.0</td>\n",
       "      <td>0.0</td>\n",
       "      <td>CONMEBOL</td>\n",
       "      <td>1993-08-08</td>\n",
       "    </tr>\n",
       "  </tbody>\n",
       "</table>\n",
       "</div>"
      ],
      "text/plain": [
       "   rank country_full country_abrv  total_points  previous_points  rank_change  \\\n",
       "0     1      Germany          GER           0.0               57            0   \n",
       "1     2        Italy          ITA           0.0               57            0   \n",
       "2     3  Switzerland          SUI           0.0               50            9   \n",
       "3     4       Sweden          SWE           0.0               55            0   \n",
       "4     5    Argentina          ARG           0.0               51            5   \n",
       "\n",
       "   cur_year_avg  cur_year_avg_weighted  last_year_avg  last_year_avg_weighted  \\\n",
       "0           0.0                    0.0            0.0                     0.0   \n",
       "1           0.0                    0.0            0.0                     0.0   \n",
       "2           0.0                    0.0            0.0                     0.0   \n",
       "3           0.0                    0.0            0.0                     0.0   \n",
       "4           0.0                    0.0            0.0                     0.0   \n",
       "\n",
       "   two_year_ago_avg  two_year_ago_weighted  three_year_ago_avg  \\\n",
       "0               0.0                    0.0                 0.0   \n",
       "1               0.0                    0.0                 0.0   \n",
       "2               0.0                    0.0                 0.0   \n",
       "3               0.0                    0.0                 0.0   \n",
       "4               0.0                    0.0                 0.0   \n",
       "\n",
       "   three_year_ago_weighted confederation   rank_date  \n",
       "0                      0.0          UEFA  1993-08-08  \n",
       "1                      0.0          UEFA  1993-08-08  \n",
       "2                      0.0          UEFA  1993-08-08  \n",
       "3                      0.0          UEFA  1993-08-08  \n",
       "4                      0.0      CONMEBOL  1993-08-08  "
      ]
     },
     "execution_count": 45,
     "metadata": {},
     "output_type": "execute_result"
    }
   ],
   "source": [
    "fifa_ranking.head()"
   ]
  },
  {
   "cell_type": "markdown",
   "metadata": {
    "colab_type": "text",
    "id": "OI3P3YnHUEBk"
   },
   "source": [
    "## 3. Checking the Data"
   ]
  },
  {
   "cell_type": "code",
   "execution_count": 87,
   "metadata": {
    "colab": {},
    "colab_type": "code",
    "id": "YjSVNwgptHxY",
    "scrolled": false
   },
   "outputs": [
    {
     "name": "stdout",
     "output_type": "stream",
     "text": [
      "<class 'pandas.core.frame.DataFrame'>\n",
      "RangeIndex: 40839 entries, 0 to 40838\n",
      "Data columns (total 9 columns):\n",
      "date          40839 non-null object\n",
      "home_team     40839 non-null object\n",
      "away_team     40839 non-null object\n",
      "home_score    40839 non-null int64\n",
      "away_score    40839 non-null int64\n",
      "tournament    40839 non-null object\n",
      "city          40839 non-null object\n",
      "country       40839 non-null object\n",
      "neutral       40839 non-null bool\n",
      "dtypes: bool(1), int64(2), object(6)\n",
      "memory usage: 2.5+ MB\n",
      "None\n",
      "\n",
      "\n",
      "*****************************************\n",
      "\n",
      "\n",
      "<class 'pandas.core.frame.DataFrame'>\n",
      "RangeIndex: 57793 entries, 0 to 57792\n",
      "Data columns (total 16 columns):\n",
      "rank                       57793 non-null int64\n",
      "country_full               57793 non-null object\n",
      "country_abrv               57793 non-null object\n",
      "total_points               57793 non-null float64\n",
      "previous_points            57793 non-null int64\n",
      "rank_change                57793 non-null int64\n",
      "cur_year_avg               57793 non-null float64\n",
      "cur_year_avg_weighted      57793 non-null float64\n",
      "last_year_avg              57793 non-null float64\n",
      "last_year_avg_weighted     57793 non-null float64\n",
      "two_year_ago_avg           57793 non-null float64\n",
      "two_year_ago_weighted      57793 non-null float64\n",
      "three_year_ago_avg         57793 non-null float64\n",
      "three_year_ago_weighted    57793 non-null float64\n",
      "confederation              57793 non-null object\n",
      "rank_date                  57793 non-null object\n",
      "dtypes: float64(9), int64(3), object(4)\n",
      "memory usage: 7.1+ MB\n",
      "None\n"
     ]
    }
   ],
   "source": [
    "# Determining the no. of records in our dataset\n",
    "#\n",
    "print(results.info())\n",
    "print('\\n')\n",
    "print('*****************************************')\n",
    "print('\\n')\n",
    "print(fifa_ranking.info())\n"
   ]
  },
  {
   "cell_type": "markdown",
   "metadata": {},
   "source": [
    ">The Results dataset has 40893 entries.\n",
    "The Fifa Ranking dataset has 57793 entries."
   ]
  },
  {
   "cell_type": "code",
   "execution_count": 88,
   "metadata": {
    "colab": {},
    "colab_type": "code",
    "id": "xHhTw5eKWr0n",
    "scrolled": true
   },
   "outputs": [
    {
     "data": {
      "text/html": [
       "<div>\n",
       "<style scoped>\n",
       "    .dataframe tbody tr th:only-of-type {\n",
       "        vertical-align: middle;\n",
       "    }\n",
       "\n",
       "    .dataframe tbody tr th {\n",
       "        vertical-align: top;\n",
       "    }\n",
       "\n",
       "    .dataframe thead th {\n",
       "        text-align: right;\n",
       "    }\n",
       "</style>\n",
       "<table border=\"1\" class=\"dataframe\">\n",
       "  <thead>\n",
       "    <tr style=\"text-align: right;\">\n",
       "      <th></th>\n",
       "      <th>date</th>\n",
       "      <th>home_team</th>\n",
       "      <th>away_team</th>\n",
       "      <th>home_score</th>\n",
       "      <th>away_score</th>\n",
       "      <th>tournament</th>\n",
       "      <th>city</th>\n",
       "      <th>country</th>\n",
       "      <th>neutral</th>\n",
       "    </tr>\n",
       "  </thead>\n",
       "  <tbody>\n",
       "    <tr>\n",
       "      <th>0</th>\n",
       "      <td>1872-11-30</td>\n",
       "      <td>Scotland</td>\n",
       "      <td>England</td>\n",
       "      <td>0</td>\n",
       "      <td>0</td>\n",
       "      <td>Friendly</td>\n",
       "      <td>Glasgow</td>\n",
       "      <td>Scotland</td>\n",
       "      <td>False</td>\n",
       "    </tr>\n",
       "    <tr>\n",
       "      <th>1</th>\n",
       "      <td>1873-03-08</td>\n",
       "      <td>England</td>\n",
       "      <td>Scotland</td>\n",
       "      <td>4</td>\n",
       "      <td>2</td>\n",
       "      <td>Friendly</td>\n",
       "      <td>London</td>\n",
       "      <td>England</td>\n",
       "      <td>False</td>\n",
       "    </tr>\n",
       "    <tr>\n",
       "      <th>2</th>\n",
       "      <td>1874-03-07</td>\n",
       "      <td>Scotland</td>\n",
       "      <td>England</td>\n",
       "      <td>2</td>\n",
       "      <td>1</td>\n",
       "      <td>Friendly</td>\n",
       "      <td>Glasgow</td>\n",
       "      <td>Scotland</td>\n",
       "      <td>False</td>\n",
       "    </tr>\n",
       "    <tr>\n",
       "      <th>3</th>\n",
       "      <td>1875-03-06</td>\n",
       "      <td>England</td>\n",
       "      <td>Scotland</td>\n",
       "      <td>2</td>\n",
       "      <td>2</td>\n",
       "      <td>Friendly</td>\n",
       "      <td>London</td>\n",
       "      <td>England</td>\n",
       "      <td>False</td>\n",
       "    </tr>\n",
       "    <tr>\n",
       "      <th>4</th>\n",
       "      <td>1876-03-04</td>\n",
       "      <td>Scotland</td>\n",
       "      <td>England</td>\n",
       "      <td>3</td>\n",
       "      <td>0</td>\n",
       "      <td>Friendly</td>\n",
       "      <td>Glasgow</td>\n",
       "      <td>Scotland</td>\n",
       "      <td>False</td>\n",
       "    </tr>\n",
       "  </tbody>\n",
       "</table>\n",
       "</div>"
      ],
      "text/plain": [
       "         date home_team away_team  home_score  away_score tournament     city  \\\n",
       "0  1872-11-30  Scotland   England           0           0   Friendly  Glasgow   \n",
       "1  1873-03-08   England  Scotland           4           2   Friendly   London   \n",
       "2  1874-03-07  Scotland   England           2           1   Friendly  Glasgow   \n",
       "3  1875-03-06   England  Scotland           2           2   Friendly   London   \n",
       "4  1876-03-04  Scotland   England           3           0   Friendly  Glasgow   \n",
       "\n",
       "    country  neutral  \n",
       "0  Scotland    False  \n",
       "1   England    False  \n",
       "2  Scotland    False  \n",
       "3   England    False  \n",
       "4  Scotland    False  "
      ]
     },
     "execution_count": 88,
     "metadata": {},
     "output_type": "execute_result"
    }
   ],
   "source": [
    "# Previewing the top of our results dataset\n",
    "#\n",
    "results.head()"
   ]
  },
  {
   "cell_type": "code",
   "execution_count": 89,
   "metadata": {},
   "outputs": [
    {
     "data": {
      "text/html": [
       "<div>\n",
       "<style scoped>\n",
       "    .dataframe tbody tr th:only-of-type {\n",
       "        vertical-align: middle;\n",
       "    }\n",
       "\n",
       "    .dataframe tbody tr th {\n",
       "        vertical-align: top;\n",
       "    }\n",
       "\n",
       "    .dataframe thead th {\n",
       "        text-align: right;\n",
       "    }\n",
       "</style>\n",
       "<table border=\"1\" class=\"dataframe\">\n",
       "  <thead>\n",
       "    <tr style=\"text-align: right;\">\n",
       "      <th></th>\n",
       "      <th>rank</th>\n",
       "      <th>country_full</th>\n",
       "      <th>country_abrv</th>\n",
       "      <th>total_points</th>\n",
       "      <th>previous_points</th>\n",
       "      <th>rank_change</th>\n",
       "      <th>cur_year_avg</th>\n",
       "      <th>cur_year_avg_weighted</th>\n",
       "      <th>last_year_avg</th>\n",
       "      <th>last_year_avg_weighted</th>\n",
       "      <th>two_year_ago_avg</th>\n",
       "      <th>two_year_ago_weighted</th>\n",
       "      <th>three_year_ago_avg</th>\n",
       "      <th>three_year_ago_weighted</th>\n",
       "      <th>confederation</th>\n",
       "      <th>rank_date</th>\n",
       "    </tr>\n",
       "  </thead>\n",
       "  <tbody>\n",
       "    <tr>\n",
       "      <th>0</th>\n",
       "      <td>1</td>\n",
       "      <td>Germany</td>\n",
       "      <td>GER</td>\n",
       "      <td>0.0</td>\n",
       "      <td>57</td>\n",
       "      <td>0</td>\n",
       "      <td>0.0</td>\n",
       "      <td>0.0</td>\n",
       "      <td>0.0</td>\n",
       "      <td>0.0</td>\n",
       "      <td>0.0</td>\n",
       "      <td>0.0</td>\n",
       "      <td>0.0</td>\n",
       "      <td>0.0</td>\n",
       "      <td>UEFA</td>\n",
       "      <td>1993-08-08</td>\n",
       "    </tr>\n",
       "    <tr>\n",
       "      <th>1</th>\n",
       "      <td>2</td>\n",
       "      <td>Italy</td>\n",
       "      <td>ITA</td>\n",
       "      <td>0.0</td>\n",
       "      <td>57</td>\n",
       "      <td>0</td>\n",
       "      <td>0.0</td>\n",
       "      <td>0.0</td>\n",
       "      <td>0.0</td>\n",
       "      <td>0.0</td>\n",
       "      <td>0.0</td>\n",
       "      <td>0.0</td>\n",
       "      <td>0.0</td>\n",
       "      <td>0.0</td>\n",
       "      <td>UEFA</td>\n",
       "      <td>1993-08-08</td>\n",
       "    </tr>\n",
       "    <tr>\n",
       "      <th>2</th>\n",
       "      <td>3</td>\n",
       "      <td>Switzerland</td>\n",
       "      <td>SUI</td>\n",
       "      <td>0.0</td>\n",
       "      <td>50</td>\n",
       "      <td>9</td>\n",
       "      <td>0.0</td>\n",
       "      <td>0.0</td>\n",
       "      <td>0.0</td>\n",
       "      <td>0.0</td>\n",
       "      <td>0.0</td>\n",
       "      <td>0.0</td>\n",
       "      <td>0.0</td>\n",
       "      <td>0.0</td>\n",
       "      <td>UEFA</td>\n",
       "      <td>1993-08-08</td>\n",
       "    </tr>\n",
       "    <tr>\n",
       "      <th>3</th>\n",
       "      <td>4</td>\n",
       "      <td>Sweden</td>\n",
       "      <td>SWE</td>\n",
       "      <td>0.0</td>\n",
       "      <td>55</td>\n",
       "      <td>0</td>\n",
       "      <td>0.0</td>\n",
       "      <td>0.0</td>\n",
       "      <td>0.0</td>\n",
       "      <td>0.0</td>\n",
       "      <td>0.0</td>\n",
       "      <td>0.0</td>\n",
       "      <td>0.0</td>\n",
       "      <td>0.0</td>\n",
       "      <td>UEFA</td>\n",
       "      <td>1993-08-08</td>\n",
       "    </tr>\n",
       "    <tr>\n",
       "      <th>4</th>\n",
       "      <td>5</td>\n",
       "      <td>Argentina</td>\n",
       "      <td>ARG</td>\n",
       "      <td>0.0</td>\n",
       "      <td>51</td>\n",
       "      <td>5</td>\n",
       "      <td>0.0</td>\n",
       "      <td>0.0</td>\n",
       "      <td>0.0</td>\n",
       "      <td>0.0</td>\n",
       "      <td>0.0</td>\n",
       "      <td>0.0</td>\n",
       "      <td>0.0</td>\n",
       "      <td>0.0</td>\n",
       "      <td>CONMEBOL</td>\n",
       "      <td>1993-08-08</td>\n",
       "    </tr>\n",
       "  </tbody>\n",
       "</table>\n",
       "</div>"
      ],
      "text/plain": [
       "   rank country_full country_abrv  total_points  previous_points  rank_change  \\\n",
       "0     1      Germany          GER           0.0               57            0   \n",
       "1     2        Italy          ITA           0.0               57            0   \n",
       "2     3  Switzerland          SUI           0.0               50            9   \n",
       "3     4       Sweden          SWE           0.0               55            0   \n",
       "4     5    Argentina          ARG           0.0               51            5   \n",
       "\n",
       "   cur_year_avg  cur_year_avg_weighted  last_year_avg  last_year_avg_weighted  \\\n",
       "0           0.0                    0.0            0.0                     0.0   \n",
       "1           0.0                    0.0            0.0                     0.0   \n",
       "2           0.0                    0.0            0.0                     0.0   \n",
       "3           0.0                    0.0            0.0                     0.0   \n",
       "4           0.0                    0.0            0.0                     0.0   \n",
       "\n",
       "   two_year_ago_avg  two_year_ago_weighted  three_year_ago_avg  \\\n",
       "0               0.0                    0.0                 0.0   \n",
       "1               0.0                    0.0                 0.0   \n",
       "2               0.0                    0.0                 0.0   \n",
       "3               0.0                    0.0                 0.0   \n",
       "4               0.0                    0.0                 0.0   \n",
       "\n",
       "   three_year_ago_weighted confederation   rank_date  \n",
       "0                      0.0          UEFA  1993-08-08  \n",
       "1                      0.0          UEFA  1993-08-08  \n",
       "2                      0.0          UEFA  1993-08-08  \n",
       "3                      0.0          UEFA  1993-08-08  \n",
       "4                      0.0      CONMEBOL  1993-08-08  "
      ]
     },
     "execution_count": 89,
     "metadata": {},
     "output_type": "execute_result"
    }
   ],
   "source": [
    "# Previewing the top of the Fifa rankings dataset\n",
    "fifa_ranking.head()"
   ]
  },
  {
   "cell_type": "code",
   "execution_count": 9,
   "metadata": {
    "colab": {},
    "colab_type": "code",
    "id": "e9AzGcZFrIIr",
    "scrolled": true
   },
   "outputs": [
    {
     "data": {
      "text/html": [
       "<div>\n",
       "<style scoped>\n",
       "    .dataframe tbody tr th:only-of-type {\n",
       "        vertical-align: middle;\n",
       "    }\n",
       "\n",
       "    .dataframe tbody tr th {\n",
       "        vertical-align: top;\n",
       "    }\n",
       "\n",
       "    .dataframe thead th {\n",
       "        text-align: right;\n",
       "    }\n",
       "</style>\n",
       "<table border=\"1\" class=\"dataframe\">\n",
       "  <thead>\n",
       "    <tr style=\"text-align: right;\">\n",
       "      <th></th>\n",
       "      <th>date</th>\n",
       "      <th>home_team</th>\n",
       "      <th>away_team</th>\n",
       "      <th>home_score</th>\n",
       "      <th>away_score</th>\n",
       "      <th>tournament</th>\n",
       "      <th>city</th>\n",
       "      <th>country</th>\n",
       "      <th>neutral</th>\n",
       "    </tr>\n",
       "  </thead>\n",
       "  <tbody>\n",
       "    <tr>\n",
       "      <th>40834</th>\n",
       "      <td>2019-07-18</td>\n",
       "      <td>American Samoa</td>\n",
       "      <td>Tahiti</td>\n",
       "      <td>8</td>\n",
       "      <td>1</td>\n",
       "      <td>Pacific Games</td>\n",
       "      <td>Apia</td>\n",
       "      <td>Samoa</td>\n",
       "      <td>True</td>\n",
       "    </tr>\n",
       "    <tr>\n",
       "      <th>40835</th>\n",
       "      <td>2019-07-18</td>\n",
       "      <td>Fiji</td>\n",
       "      <td>Solomon Islands</td>\n",
       "      <td>4</td>\n",
       "      <td>4</td>\n",
       "      <td>Pacific Games</td>\n",
       "      <td>Apia</td>\n",
       "      <td>Samoa</td>\n",
       "      <td>True</td>\n",
       "    </tr>\n",
       "    <tr>\n",
       "      <th>40836</th>\n",
       "      <td>2019-07-19</td>\n",
       "      <td>Senegal</td>\n",
       "      <td>Algeria</td>\n",
       "      <td>0</td>\n",
       "      <td>1</td>\n",
       "      <td>African Cup of Nations</td>\n",
       "      <td>Cairo</td>\n",
       "      <td>Egypt</td>\n",
       "      <td>True</td>\n",
       "    </tr>\n",
       "    <tr>\n",
       "      <th>40837</th>\n",
       "      <td>2019-07-19</td>\n",
       "      <td>Tajikistan</td>\n",
       "      <td>North Korea</td>\n",
       "      <td>0</td>\n",
       "      <td>1</td>\n",
       "      <td>Intercontinental Cup</td>\n",
       "      <td>Ahmedabad</td>\n",
       "      <td>India</td>\n",
       "      <td>True</td>\n",
       "    </tr>\n",
       "    <tr>\n",
       "      <th>40838</th>\n",
       "      <td>2019-07-20</td>\n",
       "      <td>Papua New Guinea</td>\n",
       "      <td>Fiji</td>\n",
       "      <td>1</td>\n",
       "      <td>1</td>\n",
       "      <td>Pacific Games</td>\n",
       "      <td>Apia</td>\n",
       "      <td>Samoa</td>\n",
       "      <td>True</td>\n",
       "    </tr>\n",
       "  </tbody>\n",
       "</table>\n",
       "</div>"
      ],
      "text/plain": [
       "             date         home_team        away_team  home_score  away_score  \\\n",
       "40834  2019-07-18    American Samoa           Tahiti           8           1   \n",
       "40835  2019-07-18              Fiji  Solomon Islands           4           4   \n",
       "40836  2019-07-19           Senegal          Algeria           0           1   \n",
       "40837  2019-07-19        Tajikistan      North Korea           0           1   \n",
       "40838  2019-07-20  Papua New Guinea             Fiji           1           1   \n",
       "\n",
       "                   tournament       city country  neutral  \n",
       "40834           Pacific Games       Apia   Samoa     True  \n",
       "40835           Pacific Games       Apia   Samoa     True  \n",
       "40836  African Cup of Nations      Cairo   Egypt     True  \n",
       "40837    Intercontinental Cup  Ahmedabad   India     True  \n",
       "40838           Pacific Games       Apia   Samoa     True  "
      ]
     },
     "execution_count": 9,
     "metadata": {},
     "output_type": "execute_result"
    }
   ],
   "source": [
    "# Previewing the bottom of the results dataset\n",
    "results.tail()"
   ]
  },
  {
   "cell_type": "code",
   "execution_count": 10,
   "metadata": {},
   "outputs": [
    {
     "data": {
      "text/html": [
       "<div>\n",
       "<style scoped>\n",
       "    .dataframe tbody tr th:only-of-type {\n",
       "        vertical-align: middle;\n",
       "    }\n",
       "\n",
       "    .dataframe tbody tr th {\n",
       "        vertical-align: top;\n",
       "    }\n",
       "\n",
       "    .dataframe thead th {\n",
       "        text-align: right;\n",
       "    }\n",
       "</style>\n",
       "<table border=\"1\" class=\"dataframe\">\n",
       "  <thead>\n",
       "    <tr style=\"text-align: right;\">\n",
       "      <th></th>\n",
       "      <th>rank</th>\n",
       "      <th>country_full</th>\n",
       "      <th>country_abrv</th>\n",
       "      <th>total_points</th>\n",
       "      <th>previous_points</th>\n",
       "      <th>rank_change</th>\n",
       "      <th>cur_year_avg</th>\n",
       "      <th>cur_year_avg_weighted</th>\n",
       "      <th>last_year_avg</th>\n",
       "      <th>last_year_avg_weighted</th>\n",
       "      <th>two_year_ago_avg</th>\n",
       "      <th>two_year_ago_weighted</th>\n",
       "      <th>three_year_ago_avg</th>\n",
       "      <th>three_year_ago_weighted</th>\n",
       "      <th>confederation</th>\n",
       "      <th>rank_date</th>\n",
       "    </tr>\n",
       "  </thead>\n",
       "  <tbody>\n",
       "    <tr>\n",
       "      <th>57788</th>\n",
       "      <td>206</td>\n",
       "      <td>Anguilla</td>\n",
       "      <td>AIA</td>\n",
       "      <td>0.0</td>\n",
       "      <td>0</td>\n",
       "      <td>1</td>\n",
       "      <td>0.0</td>\n",
       "      <td>0.0</td>\n",
       "      <td>0.0</td>\n",
       "      <td>0.0</td>\n",
       "      <td>0.0</td>\n",
       "      <td>0.0</td>\n",
       "      <td>0.0</td>\n",
       "      <td>0.0</td>\n",
       "      <td>CONCACAF</td>\n",
       "      <td>2018-06-07</td>\n",
       "    </tr>\n",
       "    <tr>\n",
       "      <th>57789</th>\n",
       "      <td>206</td>\n",
       "      <td>Bahamas</td>\n",
       "      <td>BAH</td>\n",
       "      <td>0.0</td>\n",
       "      <td>0</td>\n",
       "      <td>1</td>\n",
       "      <td>0.0</td>\n",
       "      <td>0.0</td>\n",
       "      <td>0.0</td>\n",
       "      <td>0.0</td>\n",
       "      <td>0.0</td>\n",
       "      <td>0.0</td>\n",
       "      <td>0.0</td>\n",
       "      <td>0.0</td>\n",
       "      <td>CONCACAF</td>\n",
       "      <td>2018-06-07</td>\n",
       "    </tr>\n",
       "    <tr>\n",
       "      <th>57790</th>\n",
       "      <td>206</td>\n",
       "      <td>Eritrea</td>\n",
       "      <td>ERI</td>\n",
       "      <td>0.0</td>\n",
       "      <td>0</td>\n",
       "      <td>1</td>\n",
       "      <td>0.0</td>\n",
       "      <td>0.0</td>\n",
       "      <td>0.0</td>\n",
       "      <td>0.0</td>\n",
       "      <td>0.0</td>\n",
       "      <td>0.0</td>\n",
       "      <td>0.0</td>\n",
       "      <td>0.0</td>\n",
       "      <td>CAF</td>\n",
       "      <td>2018-06-07</td>\n",
       "    </tr>\n",
       "    <tr>\n",
       "      <th>57791</th>\n",
       "      <td>206</td>\n",
       "      <td>Somalia</td>\n",
       "      <td>SOM</td>\n",
       "      <td>0.0</td>\n",
       "      <td>0</td>\n",
       "      <td>1</td>\n",
       "      <td>0.0</td>\n",
       "      <td>0.0</td>\n",
       "      <td>0.0</td>\n",
       "      <td>0.0</td>\n",
       "      <td>0.0</td>\n",
       "      <td>0.0</td>\n",
       "      <td>0.0</td>\n",
       "      <td>0.0</td>\n",
       "      <td>CAF</td>\n",
       "      <td>2018-06-07</td>\n",
       "    </tr>\n",
       "    <tr>\n",
       "      <th>57792</th>\n",
       "      <td>206</td>\n",
       "      <td>Tonga</td>\n",
       "      <td>TGA</td>\n",
       "      <td>0.0</td>\n",
       "      <td>0</td>\n",
       "      <td>1</td>\n",
       "      <td>0.0</td>\n",
       "      <td>0.0</td>\n",
       "      <td>0.0</td>\n",
       "      <td>0.0</td>\n",
       "      <td>0.0</td>\n",
       "      <td>0.0</td>\n",
       "      <td>0.0</td>\n",
       "      <td>0.0</td>\n",
       "      <td>OFC</td>\n",
       "      <td>2018-06-07</td>\n",
       "    </tr>\n",
       "  </tbody>\n",
       "</table>\n",
       "</div>"
      ],
      "text/plain": [
       "       rank country_full country_abrv  total_points  previous_points  \\\n",
       "57788   206     Anguilla          AIA           0.0                0   \n",
       "57789   206      Bahamas          BAH           0.0                0   \n",
       "57790   206      Eritrea          ERI           0.0                0   \n",
       "57791   206      Somalia          SOM           0.0                0   \n",
       "57792   206        Tonga          TGA           0.0                0   \n",
       "\n",
       "       rank_change  cur_year_avg  cur_year_avg_weighted  last_year_avg  \\\n",
       "57788            1           0.0                    0.0            0.0   \n",
       "57789            1           0.0                    0.0            0.0   \n",
       "57790            1           0.0                    0.0            0.0   \n",
       "57791            1           0.0                    0.0            0.0   \n",
       "57792            1           0.0                    0.0            0.0   \n",
       "\n",
       "       last_year_avg_weighted  two_year_ago_avg  two_year_ago_weighted  \\\n",
       "57788                     0.0               0.0                    0.0   \n",
       "57789                     0.0               0.0                    0.0   \n",
       "57790                     0.0               0.0                    0.0   \n",
       "57791                     0.0               0.0                    0.0   \n",
       "57792                     0.0               0.0                    0.0   \n",
       "\n",
       "       three_year_ago_avg  three_year_ago_weighted confederation   rank_date  \n",
       "57788                 0.0                      0.0      CONCACAF  2018-06-07  \n",
       "57789                 0.0                      0.0      CONCACAF  2018-06-07  \n",
       "57790                 0.0                      0.0           CAF  2018-06-07  \n",
       "57791                 0.0                      0.0           CAF  2018-06-07  \n",
       "57792                 0.0                      0.0           OFC  2018-06-07  "
      ]
     },
     "execution_count": 10,
     "metadata": {},
     "output_type": "execute_result"
    }
   ],
   "source": [
    "# Previewing the bottom of the fifa results dataset\n",
    "fifa_ranking.tail()"
   ]
  },
  {
   "cell_type": "code",
   "execution_count": 15,
   "metadata": {
    "colab": {},
    "colab_type": "code",
    "id": "n8-dW4sQWzbc",
    "scrolled": false
   },
   "outputs": [
    {
     "data": {
      "text/plain": [
       "date          object\n",
       "home_team     object\n",
       "away_team     object\n",
       "home_score     int64\n",
       "away_score     int64\n",
       "tournament    object\n",
       "city          object\n",
       "country       object\n",
       "neutral         bool\n",
       "dtype: object"
      ]
     },
     "execution_count": 15,
     "metadata": {},
     "output_type": "execute_result"
    }
   ],
   "source": [
    "# Checking whether each column in the results dataset has an appropriate datatype\n",
    "results.dtypes"
   ]
  },
  {
   "cell_type": "markdown",
   "metadata": {},
   "source": [
    ">The date column does not have an appropriate data type."
   ]
  },
  {
   "cell_type": "code",
   "execution_count": 14,
   "metadata": {
    "scrolled": false
   },
   "outputs": [
    {
     "data": {
      "text/plain": [
       "rank                         int64\n",
       "country_full                object\n",
       "country_abrv                object\n",
       "total_points               float64\n",
       "previous_points              int64\n",
       "rank_change                  int64\n",
       "cur_year_avg               float64\n",
       "cur_year_avg_weighted      float64\n",
       "last_year_avg              float64\n",
       "last_year_avg_weighted     float64\n",
       "two_year_ago_avg           float64\n",
       "two_year_ago_weighted      float64\n",
       "three_year_ago_avg         float64\n",
       "three_year_ago_weighted    float64\n",
       "confederation               object\n",
       "rank_date                   object\n",
       "dtype: object"
      ]
     },
     "execution_count": 14,
     "metadata": {},
     "output_type": "execute_result"
    }
   ],
   "source": [
    "# Checking whether each column in the fifa ranking has an appropriate data type\n",
    "fifa_ranking.dtypes\n"
   ]
  },
  {
   "cell_type": "markdown",
   "metadata": {},
   "source": [
    ">The rank date column does not have an appropriate data type."
   ]
  },
  {
   "cell_type": "code",
   "execution_count": 46,
   "metadata": {},
   "outputs": [],
   "source": [
    "# converting both columns in the two datasets to an appropriate data type.\n",
    "results['date'] = pd.to_datetime(results['date'])\n",
    "fifa_ranking['rank_date'] = pd.to_datetime(fifa_ranking['rank_date'])"
   ]
  },
  {
   "cell_type": "code",
   "execution_count": 91,
   "metadata": {},
   "outputs": [
    {
     "name": "stdout",
     "output_type": "stream",
     "text": [
      "date          datetime64[ns]\n",
      "home_team             object\n",
      "away_team             object\n",
      "home_score             int64\n",
      "away_score             int64\n",
      "tournament            object\n",
      "city                  object\n",
      "country               object\n",
      "neutral                 bool\n",
      "dtype: object\n",
      "\n",
      "\n",
      "**********************************************\n",
      "\n",
      "\n",
      "rank                                int64\n",
      "country_full                       object\n",
      "country_abrv                       object\n",
      "total_points                      float64\n",
      "previous_points                     int64\n",
      "rank_change                         int64\n",
      "cur_year_avg                      float64\n",
      "cur_year_avg_weighted             float64\n",
      "last_year_avg                     float64\n",
      "last_year_avg_weighted            float64\n",
      "two_year_ago_avg                  float64\n",
      "two_year_ago_weighted             float64\n",
      "three_year_ago_avg                float64\n",
      "three_year_ago_weighted           float64\n",
      "confederation                      object\n",
      "rank_date                  datetime64[ns]\n",
      "dtype: object\n"
     ]
    }
   ],
   "source": [
    "# confirming the changes made.\n",
    "print(results.dtypes)\n",
    "print('\\n')\n",
    "print('**********************************************')\n",
    "print('\\n')\n",
    "print(fifa_ranking.dtypes)"
   ]
  },
  {
   "cell_type": "markdown",
   "metadata": {
    "colab_type": "text",
    "id": "ckfufNrcUHeH"
   },
   "source": [
    "## 4. External Data Source Validation"
   ]
  },
  {
   "cell_type": "markdown",
   "metadata": {
    "colab_type": "text",
    "id": "6L4sl_0WXlbg"
   },
   "source": [
    "The data was confirmed that it potrayed fifa rankings and results of national teams that existed in this physical universe."
   ]
  },
  {
   "cell_type": "markdown",
   "metadata": {
    "colab_type": "text",
    "id": "FlBMxEDBUc9B"
   },
   "source": [
    "## 5. Tidying the Dataset"
   ]
  },
  {
   "cell_type": "code",
   "execution_count": 92,
   "metadata": {},
   "outputs": [
    {
     "data": {
      "image/png": "[encoded data removed]",
      "text/plain": [
       "<Figure size 432x288 with 1 Axes>"
      ]
     },
     "metadata": {
      "needs_background": "light"
     },
     "output_type": "display_data"
    }
   ],
   "source": [
    "# checking for outliers\n",
    "a=sns.boxplot(x=results['home_score'])\n"
   ]
  },
  {
   "cell_type": "code",
   "execution_count": 93,
   "metadata": {
    "scrolled": true
   },
   "outputs": [
    {
     "data": {
      "text/plain": [
       "<matplotlib.axes._subplots.AxesSubplot at 0x7f98a5ce5208>"
      ]
     },
     "execution_count": 93,
     "metadata": {},
     "output_type": "execute_result"
    },
    {
     "data": {
      "image/png": "[encoded data removed]",
      "text/plain": [
       "<Figure size 432x288 with 1 Axes>"
      ]
     },
     "metadata": {
      "needs_background": "light"
     },
     "output_type": "display_data"
    }
   ],
   "source": [
    "sns.boxplot(x=results['away_score'])"
   ]
  },
  {
   "cell_type": "code",
   "execution_count": 47,
   "metadata": {},
   "outputs": [],
   "source": [
    "# Dropping outliers\n",
    "# dropping values greater than 5 since the probability of a team scoring more than 5 goals is very low.\n",
    "results=results[results['home_score']<=5]\n",
    "results=results[results['away_score']<=5]"
   ]
  },
  {
   "cell_type": "code",
   "execution_count": 48,
   "metadata": {
    "colab": {},
    "colab_type": "code",
    "id": "5o_bQcT5W3Wz"
   },
   "outputs": [],
   "source": [
    "# separating the year and month from the date columns in both datasets.\n",
    "results['year']=results['date'].dt.year\n",
    "results['month']=results['date'].dt.month\n",
    "fifa_ranking['year']=fifa_ranking['rank_date'].dt.year\n",
    "fifa_ranking['month']=fifa_ranking['rank_date'].dt.month\n"
   ]
  },
  {
   "cell_type": "code",
   "execution_count": 49,
   "metadata": {
    "colab": {},
    "colab_type": "code",
    "id": "PWlukLKUvFQN"
   },
   "outputs": [],
   "source": [
    "# Creating a column of if a home team won or lost in the results dataset\n",
    "\n",
    "# First we create a column of the goal difference between the scores.\n",
    "\n",
    "results['goal_difference'] = results['home_score'] - results['away_score']\n",
    "\n",
    "# Then we create a function that we will use to iterate over the column created to create another column that\n",
    "# contains the outcome of the matches from the home teams perspective.\n",
    "\n",
    "def home_performance(goals):\n",
    "    if goals > 0:      # If the goal difference is greater than 0, the home team won the game\n",
    "        return 'Win'\n",
    "    elif goals < 0:    # If the goal difference is less than 0, the home team lost the game.\n",
    "        return 'Loss'\n",
    "    else:\n",
    "        return 'Draw'  # If the goal difference is zero, the match ended in a draw.\n",
    "    \n",
    "# Applying the function through the whole dataframe.\n",
    "results['home_performance'] = results.goal_difference.apply(lambda x: home_performance(x))"
   ]
  },
  {
   "cell_type": "code",
   "execution_count": 50,
   "metadata": {},
   "outputs": [
    {
     "data": {
      "text/html": [
       "<div>\n",
       "<style scoped>\n",
       "    .dataframe tbody tr th:only-of-type {\n",
       "        vertical-align: middle;\n",
       "    }\n",
       "\n",
       "    .dataframe tbody tr th {\n",
       "        vertical-align: top;\n",
       "    }\n",
       "\n",
       "    .dataframe thead th {\n",
       "        text-align: right;\n",
       "    }\n",
       "</style>\n",
       "<table border=\"1\" class=\"dataframe\">\n",
       "  <thead>\n",
       "    <tr style=\"text-align: right;\">\n",
       "      <th></th>\n",
       "      <th>date</th>\n",
       "      <th>home_team</th>\n",
       "      <th>away_team</th>\n",
       "      <th>home_score</th>\n",
       "      <th>away_score</th>\n",
       "      <th>tournament</th>\n",
       "      <th>city</th>\n",
       "      <th>country</th>\n",
       "      <th>neutral</th>\n",
       "      <th>year</th>\n",
       "      <th>month</th>\n",
       "      <th>home_performance</th>\n",
       "    </tr>\n",
       "  </thead>\n",
       "  <tbody>\n",
       "    <tr>\n",
       "      <th>0</th>\n",
       "      <td>1872-11-30</td>\n",
       "      <td>Scotland</td>\n",
       "      <td>England</td>\n",
       "      <td>0</td>\n",
       "      <td>0</td>\n",
       "      <td>Friendly</td>\n",
       "      <td>Glasgow</td>\n",
       "      <td>Scotland</td>\n",
       "      <td>False</td>\n",
       "      <td>1872</td>\n",
       "      <td>11</td>\n",
       "      <td>Draw</td>\n",
       "    </tr>\n",
       "    <tr>\n",
       "      <th>1</th>\n",
       "      <td>1873-03-08</td>\n",
       "      <td>England</td>\n",
       "      <td>Scotland</td>\n",
       "      <td>4</td>\n",
       "      <td>2</td>\n",
       "      <td>Friendly</td>\n",
       "      <td>London</td>\n",
       "      <td>England</td>\n",
       "      <td>False</td>\n",
       "      <td>1873</td>\n",
       "      <td>3</td>\n",
       "      <td>Win</td>\n",
       "    </tr>\n",
       "    <tr>\n",
       "      <th>2</th>\n",
       "      <td>1874-03-07</td>\n",
       "      <td>Scotland</td>\n",
       "      <td>England</td>\n",
       "      <td>2</td>\n",
       "      <td>1</td>\n",
       "      <td>Friendly</td>\n",
       "      <td>Glasgow</td>\n",
       "      <td>Scotland</td>\n",
       "      <td>False</td>\n",
       "      <td>1874</td>\n",
       "      <td>3</td>\n",
       "      <td>Win</td>\n",
       "    </tr>\n",
       "    <tr>\n",
       "      <th>3</th>\n",
       "      <td>1875-03-06</td>\n",
       "      <td>England</td>\n",
       "      <td>Scotland</td>\n",
       "      <td>2</td>\n",
       "      <td>2</td>\n",
       "      <td>Friendly</td>\n",
       "      <td>London</td>\n",
       "      <td>England</td>\n",
       "      <td>False</td>\n",
       "      <td>1875</td>\n",
       "      <td>3</td>\n",
       "      <td>Draw</td>\n",
       "    </tr>\n",
       "    <tr>\n",
       "      <th>4</th>\n",
       "      <td>1876-03-04</td>\n",
       "      <td>Scotland</td>\n",
       "      <td>England</td>\n",
       "      <td>3</td>\n",
       "      <td>0</td>\n",
       "      <td>Friendly</td>\n",
       "      <td>Glasgow</td>\n",
       "      <td>Scotland</td>\n",
       "      <td>False</td>\n",
       "      <td>1876</td>\n",
       "      <td>3</td>\n",
       "      <td>Win</td>\n",
       "    </tr>\n",
       "  </tbody>\n",
       "</table>\n",
       "</div>"
      ],
      "text/plain": [
       "        date home_team away_team  home_score  away_score tournament     city  \\\n",
       "0 1872-11-30  Scotland   England           0           0   Friendly  Glasgow   \n",
       "1 1873-03-08   England  Scotland           4           2   Friendly   London   \n",
       "2 1874-03-07  Scotland   England           2           1   Friendly  Glasgow   \n",
       "3 1875-03-06   England  Scotland           2           2   Friendly   London   \n",
       "4 1876-03-04  Scotland   England           3           0   Friendly  Glasgow   \n",
       "\n",
       "    country  neutral  year  month home_performance  \n",
       "0  Scotland    False  1872     11             Draw  \n",
       "1   England    False  1873      3              Win  \n",
       "2  Scotland    False  1874      3              Win  \n",
       "3   England    False  1875      3             Draw  \n",
       "4  Scotland    False  1876      3              Win  "
      ]
     },
     "execution_count": 50,
     "metadata": {},
     "output_type": "execute_result"
    }
   ],
   "source": [
    "# Dropping the goal difference column\n",
    "results=results.drop('goal_difference', axis=1)\n",
    "# Previewing the dataset once more to confirm.\n",
    "\n",
    "results.head()"
   ]
  },
  {
   "cell_type": "code",
   "execution_count": 51,
   "metadata": {
    "colab": {},
    "colab_type": "code",
    "id": "PvCYb6dgW4yh",
    "scrolled": false
   },
   "outputs": [
    {
     "name": "stdout",
     "output_type": "stream",
     "text": [
      "date                0\n",
      "home_team           0\n",
      "away_team           0\n",
      "home_score          0\n",
      "away_score          0\n",
      "tournament          0\n",
      "city                0\n",
      "country             0\n",
      "neutral             0\n",
      "year                0\n",
      "month               0\n",
      "home_performance    0\n",
      "dtype: int64\n",
      "\n",
      "\n",
      "***************************\n",
      "\n",
      "\n",
      "rank                       0\n",
      "country_full               0\n",
      "country_abrv               0\n",
      "total_points               0\n",
      "previous_points            0\n",
      "rank_change                0\n",
      "cur_year_avg               0\n",
      "cur_year_avg_weighted      0\n",
      "last_year_avg              0\n",
      "last_year_avg_weighted     0\n",
      "two_year_ago_avg           0\n",
      "two_year_ago_weighted      0\n",
      "three_year_ago_avg         0\n",
      "three_year_ago_weighted    0\n",
      "confederation              0\n",
      "rank_date                  0\n",
      "year                       0\n",
      "month                      0\n",
      "dtype: int64\n"
     ]
    }
   ],
   "source": [
    "# Identifying the Missing Data\n",
    "print(results.isnull().sum())\n",
    "print('\\n')\n",
    "print('***************************')\n",
    "print('\\n')\n",
    "print(fifa_ranking.isnull().sum())"
   ]
  },
  {
   "cell_type": "markdown",
   "metadata": {},
   "source": [
    ">The two datasets have no missing data"
   ]
  },
  {
   "cell_type": "code",
   "execution_count": 51,
   "metadata": {
    "colab": {},
    "colab_type": "code",
    "id": "MpsDGKZHsf_W"
   },
   "outputs": [],
   "source": [
    "# Since the Fifa ranking dataset starts at 1993-08-08 and ends on 2018-06-07\n",
    "# and the results dataset starts at 1874 and ends at 2019, we will drop the data whose \n",
    "# rankings we dont have.\n",
    "results=results[results['date']>='1993-08-08']\n",
    "results=results[results['date']<= '2018-06-07']"
   ]
  },
  {
   "cell_type": "code",
   "execution_count": 52,
   "metadata": {
    "colab": {},
    "colab_type": "code",
    "id": "D-4I__6Os4C5"
   },
   "outputs": [],
   "source": [
    "# Importing the rankings of home team and away team from the fifa ranking dataset from when they played.\n",
    "# before merging, we make sure that the columns we want to merge on have similar names.\n",
    "fifa_home=fifa_ranking.copy()\n",
    "fifa_home=fifa_home.rename({'country_full': 'home_team'}, axis=1)\n",
    "home_team=pd.merge(results, fifa_home, how='left', on=['home_team', 'year', 'month'])\n"
   ]
  },
  {
   "cell_type": "code",
   "execution_count": 100,
   "metadata": {},
   "outputs": [
    {
     "data": {
      "text/html": [
       "<div>\n",
       "<style scoped>\n",
       "    .dataframe tbody tr th:only-of-type {\n",
       "        vertical-align: middle;\n",
       "    }\n",
       "\n",
       "    .dataframe tbody tr th {\n",
       "        vertical-align: top;\n",
       "    }\n",
       "\n",
       "    .dataframe thead th {\n",
       "        text-align: right;\n",
       "    }\n",
       "</style>\n",
       "<table border=\"1\" class=\"dataframe\">\n",
       "  <thead>\n",
       "    <tr style=\"text-align: right;\">\n",
       "      <th></th>\n",
       "      <th>date_x</th>\n",
       "      <th>home_team</th>\n",
       "      <th>away_team</th>\n",
       "      <th>home_score</th>\n",
       "      <th>away_score</th>\n",
       "      <th>tournament</th>\n",
       "      <th>city</th>\n",
       "      <th>country</th>\n",
       "      <th>neutral</th>\n",
       "      <th>year</th>\n",
       "      <th>...</th>\n",
       "      <th>cur_year_avg</th>\n",
       "      <th>cur_year_avg_weighted</th>\n",
       "      <th>last_year_avg</th>\n",
       "      <th>last_year_avg_weighted</th>\n",
       "      <th>two_year_ago_avg</th>\n",
       "      <th>two_year_ago_weighted</th>\n",
       "      <th>three_year_ago_avg</th>\n",
       "      <th>three_year_ago_weighted</th>\n",
       "      <th>confederation</th>\n",
       "      <th>date_y</th>\n",
       "    </tr>\n",
       "  </thead>\n",
       "  <tbody>\n",
       "    <tr>\n",
       "      <th>0</th>\n",
       "      <td>1993-08-08</td>\n",
       "      <td>Bolivia</td>\n",
       "      <td>Uruguay</td>\n",
       "      <td>3</td>\n",
       "      <td>1</td>\n",
       "      <td>FIFA World Cup qualification</td>\n",
       "      <td>La Paz</td>\n",
       "      <td>Bolivia</td>\n",
       "      <td>False</td>\n",
       "      <td>1993</td>\n",
       "      <td>...</td>\n",
       "      <td>0.0</td>\n",
       "      <td>0.0</td>\n",
       "      <td>0.0</td>\n",
       "      <td>0.0</td>\n",
       "      <td>0.0</td>\n",
       "      <td>0.0</td>\n",
       "      <td>0.0</td>\n",
       "      <td>0.0</td>\n",
       "      <td>CONMEBOL</td>\n",
       "      <td>1993-08-08</td>\n",
       "    </tr>\n",
       "    <tr>\n",
       "      <th>1</th>\n",
       "      <td>1993-08-08</td>\n",
       "      <td>Brazil</td>\n",
       "      <td>Mexico</td>\n",
       "      <td>1</td>\n",
       "      <td>1</td>\n",
       "      <td>Friendly</td>\n",
       "      <td>Maceió</td>\n",
       "      <td>Brazil</td>\n",
       "      <td>False</td>\n",
       "      <td>1993</td>\n",
       "      <td>...</td>\n",
       "      <td>0.0</td>\n",
       "      <td>0.0</td>\n",
       "      <td>0.0</td>\n",
       "      <td>0.0</td>\n",
       "      <td>0.0</td>\n",
       "      <td>0.0</td>\n",
       "      <td>0.0</td>\n",
       "      <td>0.0</td>\n",
       "      <td>CONMEBOL</td>\n",
       "      <td>1993-08-08</td>\n",
       "    </tr>\n",
       "    <tr>\n",
       "      <th>2</th>\n",
       "      <td>1993-08-08</td>\n",
       "      <td>Ecuador</td>\n",
       "      <td>Venezuela</td>\n",
       "      <td>5</td>\n",
       "      <td>0</td>\n",
       "      <td>FIFA World Cup qualification</td>\n",
       "      <td>Quito</td>\n",
       "      <td>Ecuador</td>\n",
       "      <td>False</td>\n",
       "      <td>1993</td>\n",
       "      <td>...</td>\n",
       "      <td>0.0</td>\n",
       "      <td>0.0</td>\n",
       "      <td>0.0</td>\n",
       "      <td>0.0</td>\n",
       "      <td>0.0</td>\n",
       "      <td>0.0</td>\n",
       "      <td>0.0</td>\n",
       "      <td>0.0</td>\n",
       "      <td>CONMEBOL</td>\n",
       "      <td>1993-08-08</td>\n",
       "    </tr>\n",
       "    <tr>\n",
       "      <th>3</th>\n",
       "      <td>1993-08-08</td>\n",
       "      <td>Guinea</td>\n",
       "      <td>Sierra Leone</td>\n",
       "      <td>1</td>\n",
       "      <td>0</td>\n",
       "      <td>Friendly</td>\n",
       "      <td>Conakry</td>\n",
       "      <td>Guinea</td>\n",
       "      <td>False</td>\n",
       "      <td>1993</td>\n",
       "      <td>...</td>\n",
       "      <td>0.0</td>\n",
       "      <td>0.0</td>\n",
       "      <td>0.0</td>\n",
       "      <td>0.0</td>\n",
       "      <td>0.0</td>\n",
       "      <td>0.0</td>\n",
       "      <td>0.0</td>\n",
       "      <td>0.0</td>\n",
       "      <td>CAF</td>\n",
       "      <td>1993-08-08</td>\n",
       "    </tr>\n",
       "    <tr>\n",
       "      <th>4</th>\n",
       "      <td>1993-08-08</td>\n",
       "      <td>Paraguay</td>\n",
       "      <td>Argentina</td>\n",
       "      <td>1</td>\n",
       "      <td>3</td>\n",
       "      <td>FIFA World Cup qualification</td>\n",
       "      <td>Asunción</td>\n",
       "      <td>Paraguay</td>\n",
       "      <td>False</td>\n",
       "      <td>1993</td>\n",
       "      <td>...</td>\n",
       "      <td>0.0</td>\n",
       "      <td>0.0</td>\n",
       "      <td>0.0</td>\n",
       "      <td>0.0</td>\n",
       "      <td>0.0</td>\n",
       "      <td>0.0</td>\n",
       "      <td>0.0</td>\n",
       "      <td>0.0</td>\n",
       "      <td>CONMEBOL</td>\n",
       "      <td>1993-08-08</td>\n",
       "    </tr>\n",
       "  </tbody>\n",
       "</table>\n",
       "<p>5 rows × 27 columns</p>\n",
       "</div>"
      ],
      "text/plain": [
       "      date_x home_team     away_team  home_score  away_score  \\\n",
       "0 1993-08-08   Bolivia       Uruguay           3           1   \n",
       "1 1993-08-08    Brazil        Mexico           1           1   \n",
       "2 1993-08-08   Ecuador     Venezuela           5           0   \n",
       "3 1993-08-08    Guinea  Sierra Leone           1           0   \n",
       "4 1993-08-08  Paraguay     Argentina           1           3   \n",
       "\n",
       "                     tournament      city   country  neutral  year  ...  \\\n",
       "0  FIFA World Cup qualification    La Paz   Bolivia    False  1993  ...   \n",
       "1                      Friendly    Maceió    Brazil    False  1993  ...   \n",
       "2  FIFA World Cup qualification     Quito   Ecuador    False  1993  ...   \n",
       "3                      Friendly   Conakry    Guinea    False  1993  ...   \n",
       "4  FIFA World Cup qualification  Asunción  Paraguay    False  1993  ...   \n",
       "\n",
       "   cur_year_avg cur_year_avg_weighted  last_year_avg last_year_avg_weighted  \\\n",
       "0           0.0                   0.0            0.0                    0.0   \n",
       "1           0.0                   0.0            0.0                    0.0   \n",
       "2           0.0                   0.0            0.0                    0.0   \n",
       "3           0.0                   0.0            0.0                    0.0   \n",
       "4           0.0                   0.0            0.0                    0.0   \n",
       "\n",
       "   two_year_ago_avg  two_year_ago_weighted  three_year_ago_avg  \\\n",
       "0               0.0                    0.0                 0.0   \n",
       "1               0.0                    0.0                 0.0   \n",
       "2               0.0                    0.0                 0.0   \n",
       "3               0.0                    0.0                 0.0   \n",
       "4               0.0                    0.0                 0.0   \n",
       "\n",
       "   three_year_ago_weighted  confederation     date_y  \n",
       "0                      0.0       CONMEBOL 1993-08-08  \n",
       "1                      0.0       CONMEBOL 1993-08-08  \n",
       "2                      0.0       CONMEBOL 1993-08-08  \n",
       "3                      0.0            CAF 1993-08-08  \n",
       "4                      0.0       CONMEBOL 1993-08-08  \n",
       "\n",
       "[5 rows x 27 columns]"
      ]
     },
     "execution_count": 100,
     "metadata": {},
     "output_type": "execute_result"
    }
   ],
   "source": [
    "home_team.head()"
   ]
  },
  {
   "cell_type": "code",
   "execution_count": 53,
   "metadata": {
    "scrolled": true
   },
   "outputs": [],
   "source": [
    "home_team=home_team.rename({'rank': 'home_team_rank', 'rank_change': 'home_team_rank_change', 'total_points': 'home_team_total_points', 'previous_points': 'home_team_previous_points'}, axis=1)"
   ]
  },
  {
   "cell_type": "code",
   "execution_count": 54,
   "metadata": {},
   "outputs": [],
   "source": [
    "# Dropping unnecessary columns\n",
    "home_team.drop(columns=['cur_year_avg', 'cur_year_avg_weighted',\n",
    "       'last_year_avg', 'last_year_avg_weighted', 'two_year_ago_avg',\n",
    "       'two_year_ago_weighted', 'three_year_ago_avg',\n",
    "       'three_year_ago_weighted', 'confederation', 'city', 'country', 'country_abrv'], inplace=True)"
   ]
  },
  {
   "cell_type": "code",
   "execution_count": 55,
   "metadata": {
    "scrolled": false
   },
   "outputs": [
    {
     "data": {
      "text/html": [
       "<div>\n",
       "<style scoped>\n",
       "    .dataframe tbody tr th:only-of-type {\n",
       "        vertical-align: middle;\n",
       "    }\n",
       "\n",
       "    .dataframe tbody tr th {\n",
       "        vertical-align: top;\n",
       "    }\n",
       "\n",
       "    .dataframe thead th {\n",
       "        text-align: right;\n",
       "    }\n",
       "</style>\n",
       "<table border=\"1\" class=\"dataframe\">\n",
       "  <thead>\n",
       "    <tr style=\"text-align: right;\">\n",
       "      <th></th>\n",
       "      <th>date</th>\n",
       "      <th>home_team</th>\n",
       "      <th>away_team</th>\n",
       "      <th>home_score</th>\n",
       "      <th>away_score</th>\n",
       "      <th>tournament</th>\n",
       "      <th>neutral</th>\n",
       "      <th>year</th>\n",
       "      <th>month</th>\n",
       "      <th>home_performance</th>\n",
       "      <th>home_team_rank</th>\n",
       "      <th>home_team_total_points</th>\n",
       "      <th>home_team_previous_points</th>\n",
       "      <th>home_team_rank_change</th>\n",
       "      <th>rank_date</th>\n",
       "    </tr>\n",
       "  </thead>\n",
       "  <tbody>\n",
       "    <tr>\n",
       "      <th>0</th>\n",
       "      <td>1993-08-08</td>\n",
       "      <td>Bolivia</td>\n",
       "      <td>Uruguay</td>\n",
       "      <td>3</td>\n",
       "      <td>1</td>\n",
       "      <td>FIFA World Cup qualification</td>\n",
       "      <td>False</td>\n",
       "      <td>1993</td>\n",
       "      <td>8</td>\n",
       "      <td>Win</td>\n",
       "      <td>59.0</td>\n",
       "      <td>0.0</td>\n",
       "      <td>13.0</td>\n",
       "      <td>28.0</td>\n",
       "      <td>1993-08-08</td>\n",
       "    </tr>\n",
       "    <tr>\n",
       "      <th>1</th>\n",
       "      <td>1993-08-08</td>\n",
       "      <td>Brazil</td>\n",
       "      <td>Mexico</td>\n",
       "      <td>1</td>\n",
       "      <td>1</td>\n",
       "      <td>Friendly</td>\n",
       "      <td>False</td>\n",
       "      <td>1993</td>\n",
       "      <td>8</td>\n",
       "      <td>Draw</td>\n",
       "      <td>8.0</td>\n",
       "      <td>0.0</td>\n",
       "      <td>55.0</td>\n",
       "      <td>-5.0</td>\n",
       "      <td>1993-08-08</td>\n",
       "    </tr>\n",
       "    <tr>\n",
       "      <th>2</th>\n",
       "      <td>1993-08-08</td>\n",
       "      <td>Ecuador</td>\n",
       "      <td>Venezuela</td>\n",
       "      <td>5</td>\n",
       "      <td>0</td>\n",
       "      <td>FIFA World Cup qualification</td>\n",
       "      <td>False</td>\n",
       "      <td>1993</td>\n",
       "      <td>8</td>\n",
       "      <td>Win</td>\n",
       "      <td>35.0</td>\n",
       "      <td>0.0</td>\n",
       "      <td>23.0</td>\n",
       "      <td>30.0</td>\n",
       "      <td>1993-08-08</td>\n",
       "    </tr>\n",
       "    <tr>\n",
       "      <th>3</th>\n",
       "      <td>1993-08-08</td>\n",
       "      <td>Guinea</td>\n",
       "      <td>Sierra Leone</td>\n",
       "      <td>1</td>\n",
       "      <td>0</td>\n",
       "      <td>Friendly</td>\n",
       "      <td>False</td>\n",
       "      <td>1993</td>\n",
       "      <td>8</td>\n",
       "      <td>Win</td>\n",
       "      <td>65.0</td>\n",
       "      <td>0.0</td>\n",
       "      <td>23.0</td>\n",
       "      <td>-2.0</td>\n",
       "      <td>1993-08-08</td>\n",
       "    </tr>\n",
       "    <tr>\n",
       "      <th>4</th>\n",
       "      <td>1993-08-08</td>\n",
       "      <td>Paraguay</td>\n",
       "      <td>Argentina</td>\n",
       "      <td>1</td>\n",
       "      <td>3</td>\n",
       "      <td>FIFA World Cup qualification</td>\n",
       "      <td>False</td>\n",
       "      <td>1993</td>\n",
       "      <td>8</td>\n",
       "      <td>Loss</td>\n",
       "      <td>67.0</td>\n",
       "      <td>0.0</td>\n",
       "      <td>22.0</td>\n",
       "      <td>1.0</td>\n",
       "      <td>1993-08-08</td>\n",
       "    </tr>\n",
       "  </tbody>\n",
       "</table>\n",
       "</div>"
      ],
      "text/plain": [
       "        date home_team     away_team  home_score  away_score  \\\n",
       "0 1993-08-08   Bolivia       Uruguay           3           1   \n",
       "1 1993-08-08    Brazil        Mexico           1           1   \n",
       "2 1993-08-08   Ecuador     Venezuela           5           0   \n",
       "3 1993-08-08    Guinea  Sierra Leone           1           0   \n",
       "4 1993-08-08  Paraguay     Argentina           1           3   \n",
       "\n",
       "                     tournament  neutral  year  month home_performance  \\\n",
       "0  FIFA World Cup qualification    False  1993      8              Win   \n",
       "1                      Friendly    False  1993      8             Draw   \n",
       "2  FIFA World Cup qualification    False  1993      8              Win   \n",
       "3                      Friendly    False  1993      8              Win   \n",
       "4  FIFA World Cup qualification    False  1993      8             Loss   \n",
       "\n",
       "   home_team_rank  home_team_total_points  home_team_previous_points  \\\n",
       "0            59.0                     0.0                       13.0   \n",
       "1             8.0                     0.0                       55.0   \n",
       "2            35.0                     0.0                       23.0   \n",
       "3            65.0                     0.0                       23.0   \n",
       "4            67.0                     0.0                       22.0   \n",
       "\n",
       "   home_team_rank_change  rank_date  \n",
       "0                   28.0 1993-08-08  \n",
       "1                   -5.0 1993-08-08  \n",
       "2                   30.0 1993-08-08  \n",
       "3                   -2.0 1993-08-08  \n",
       "4                    1.0 1993-08-08  "
      ]
     },
     "execution_count": 55,
     "metadata": {},
     "output_type": "execute_result"
    }
   ],
   "source": [
    "home_team.head()"
   ]
  },
  {
   "cell_type": "code",
   "execution_count": 56,
   "metadata": {},
   "outputs": [
    {
     "data": {
      "text/plain": [
       "Index(['date', 'home_team', 'away_team', 'home_score', 'away_score',\n",
       "       'tournament', 'neutral', 'year', 'month', 'home_performance',\n",
       "       'home_team_rank', 'home_team_total_points', 'home_team_previous_points',\n",
       "       'home_team_rank_change', 'rank_date'],\n",
       "      dtype='object')"
      ]
     },
     "execution_count": 56,
     "metadata": {},
     "output_type": "execute_result"
    }
   ],
   "source": [
    "home_team.columns"
   ]
  },
  {
   "cell_type": "code",
   "execution_count": 57,
   "metadata": {},
   "outputs": [],
   "source": [
    "# Adding the away team ranking and necessary columns from the FIFA rankings dataset.\n",
    "fifa_away=fifa_ranking.copy()\n",
    "fifa_away=fifa_away.rename({'country_full': 'away_team', 'rank_date': 'date_x'}, axis=1)\n",
    "cleaned_results=pd.merge(home_team, fifa_away, how='left', on=['away_team', 'year', 'month'])\n"
   ]
  },
  {
   "cell_type": "code",
   "execution_count": 58,
   "metadata": {
    "scrolled": false
   },
   "outputs": [
    {
     "data": {
      "text/plain": [
       "Index(['date', 'home_team', 'away_team', 'home_score', 'away_score',\n",
       "       'tournament', 'neutral', 'year', 'month', 'home_performance',\n",
       "       'home_team_rank', 'home_team_total_points', 'home_team_previous_points',\n",
       "       'home_team_rank_change', 'rank_date', 'rank', 'country_abrv',\n",
       "       'total_points', 'previous_points', 'rank_change', 'cur_year_avg',\n",
       "       'cur_year_avg_weighted', 'last_year_avg', 'last_year_avg_weighted',\n",
       "       'two_year_ago_avg', 'two_year_ago_weighted', 'three_year_ago_avg',\n",
       "       'three_year_ago_weighted', 'confederation', 'date_x'],\n",
       "      dtype='object')"
      ]
     },
     "execution_count": 58,
     "metadata": {},
     "output_type": "execute_result"
    }
   ],
   "source": [
    "cleaned_results.columns"
   ]
  },
  {
   "cell_type": "code",
   "execution_count": 59,
   "metadata": {},
   "outputs": [],
   "source": [
    "cleaned_results=cleaned_results.rename({'rank': 'away_team_rank', 'rank_change': 'away_team_rank_change', 'total_points': 'away_team_total_points', 'previous_points': 'away_team_previous_points'}, axis=1)"
   ]
  },
  {
   "cell_type": "code",
   "execution_count": 60,
   "metadata": {},
   "outputs": [
    {
     "data": {
      "text/plain": [
       "Index(['date', 'home_team', 'away_team', 'home_score', 'away_score',\n",
       "       'tournament', 'neutral', 'year', 'month', 'home_performance',\n",
       "       'home_team_rank', 'home_team_total_points', 'home_team_previous_points',\n",
       "       'home_team_rank_change', 'rank_date', 'away_team_rank', 'country_abrv',\n",
       "       'away_team_total_points', 'away_team_previous_points',\n",
       "       'away_team_rank_change', 'cur_year_avg', 'cur_year_avg_weighted',\n",
       "       'last_year_avg', 'last_year_avg_weighted', 'two_year_ago_avg',\n",
       "       'two_year_ago_weighted', 'three_year_ago_avg',\n",
       "       'three_year_ago_weighted', 'confederation', 'date_x'],\n",
       "      dtype='object')"
      ]
     },
     "execution_count": 60,
     "metadata": {},
     "output_type": "execute_result"
    }
   ],
   "source": [
    "cleaned_results.columns"
   ]
  },
  {
   "cell_type": "code",
   "execution_count": 61,
   "metadata": {},
   "outputs": [],
   "source": [
    "# Dropping unnecessary columns from the cleaned dataset containing home and away team ranks.\n",
    "cleaned_results.drop(columns=['country_abrv', 'cur_year_avg', 'cur_year_avg_weighted',\n",
    "       'last_year_avg', 'last_year_avg_weighted', 'two_year_ago_avg',\n",
    "       'two_year_ago_weighted', 'three_year_ago_avg',\n",
    "       'three_year_ago_weighted', 'confederation', 'date_x'], inplace=True)"
   ]
  },
  {
   "cell_type": "code",
   "execution_count": 62,
   "metadata": {},
   "outputs": [
    {
     "data": {
      "text/plain": [
       "Index(['date', 'home_team', 'away_team', 'home_score', 'away_score',\n",
       "       'tournament', 'neutral', 'year', 'month', 'home_performance',\n",
       "       'home_team_rank', 'home_team_total_points', 'home_team_previous_points',\n",
       "       'home_team_rank_change', 'rank_date', 'away_team_rank',\n",
       "       'away_team_total_points', 'away_team_previous_points',\n",
       "       'away_team_rank_change'],\n",
       "      dtype='object')"
      ]
     },
     "execution_count": 62,
     "metadata": {},
     "output_type": "execute_result"
    }
   ],
   "source": [
    "cleaned_results.columns"
   ]
  },
  {
   "cell_type": "markdown",
   "metadata": {},
   "source": [
    ">After adding the rank, some of the teams in the dataset are not ranked in the FIFA list. Therefore, these results were dropped"
   ]
  },
  {
   "cell_type": "code",
   "execution_count": 63,
   "metadata": {},
   "outputs": [
    {
     "data": {
      "text/plain": [
       "date                            0\n",
       "home_team                       0\n",
       "away_team                       0\n",
       "home_score                      0\n",
       "away_score                      0\n",
       "tournament                      0\n",
       "neutral                         0\n",
       "year                            0\n",
       "month                           0\n",
       "home_performance                0\n",
       "home_team_rank               3229\n",
       "home_team_total_points       3229\n",
       "home_team_previous_points    3229\n",
       "home_team_rank_change        3229\n",
       "rank_date                    3229\n",
       "away_team_rank               3300\n",
       "away_team_total_points       3300\n",
       "away_team_previous_points    3300\n",
       "away_team_rank_change        3300\n",
       "dtype: int64"
      ]
     },
     "execution_count": 63,
     "metadata": {},
     "output_type": "execute_result"
    }
   ],
   "source": [
    "# checking the null values\n",
    "cleaned_results.isnull().sum()"
   ]
  },
  {
   "cell_type": "code",
   "execution_count": 64,
   "metadata": {},
   "outputs": [],
   "source": [
    "# Dropping the rows with null values\n",
    "cleaned_results=cleaned_results.dropna()"
   ]
  },
  {
   "cell_type": "code",
   "execution_count": 65,
   "metadata": {
    "scrolled": false
   },
   "outputs": [
    {
     "data": {
      "text/html": [
       "<div>\n",
       "<style scoped>\n",
       "    .dataframe tbody tr th:only-of-type {\n",
       "        vertical-align: middle;\n",
       "    }\n",
       "\n",
       "    .dataframe tbody tr th {\n",
       "        vertical-align: top;\n",
       "    }\n",
       "\n",
       "    .dataframe thead th {\n",
       "        text-align: right;\n",
       "    }\n",
       "</style>\n",
       "<table border=\"1\" class=\"dataframe\">\n",
       "  <thead>\n",
       "    <tr style=\"text-align: right;\">\n",
       "      <th></th>\n",
       "      <th>date</th>\n",
       "      <th>home_team</th>\n",
       "      <th>away_team</th>\n",
       "      <th>home_score</th>\n",
       "      <th>away_score</th>\n",
       "      <th>tournament</th>\n",
       "      <th>neutral</th>\n",
       "      <th>year</th>\n",
       "      <th>month</th>\n",
       "      <th>home_performance</th>\n",
       "      <th>home_team_rank</th>\n",
       "      <th>home_team_total_points</th>\n",
       "      <th>home_team_previous_points</th>\n",
       "      <th>home_team_rank_change</th>\n",
       "      <th>rank_date</th>\n",
       "      <th>away_team_rank</th>\n",
       "      <th>away_team_total_points</th>\n",
       "      <th>away_team_previous_points</th>\n",
       "      <th>away_team_rank_change</th>\n",
       "    </tr>\n",
       "  </thead>\n",
       "  <tbody>\n",
       "    <tr>\n",
       "      <th>0</th>\n",
       "      <td>1993-08-08</td>\n",
       "      <td>Bolivia</td>\n",
       "      <td>Uruguay</td>\n",
       "      <td>3</td>\n",
       "      <td>1</td>\n",
       "      <td>FIFA World Cup qualification</td>\n",
       "      <td>False</td>\n",
       "      <td>1993</td>\n",
       "      <td>8</td>\n",
       "      <td>Win</td>\n",
       "      <td>59.0</td>\n",
       "      <td>0.0</td>\n",
       "      <td>13.0</td>\n",
       "      <td>28.0</td>\n",
       "      <td>1993-08-08</td>\n",
       "      <td>22.0</td>\n",
       "      <td>0.0</td>\n",
       "      <td>47.0</td>\n",
       "      <td>-6.0</td>\n",
       "    </tr>\n",
       "    <tr>\n",
       "      <th>1</th>\n",
       "      <td>1993-08-08</td>\n",
       "      <td>Brazil</td>\n",
       "      <td>Mexico</td>\n",
       "      <td>1</td>\n",
       "      <td>1</td>\n",
       "      <td>Friendly</td>\n",
       "      <td>False</td>\n",
       "      <td>1993</td>\n",
       "      <td>8</td>\n",
       "      <td>Draw</td>\n",
       "      <td>8.0</td>\n",
       "      <td>0.0</td>\n",
       "      <td>55.0</td>\n",
       "      <td>-5.0</td>\n",
       "      <td>1993-08-08</td>\n",
       "      <td>14.0</td>\n",
       "      <td>0.0</td>\n",
       "      <td>42.0</td>\n",
       "      <td>11.0</td>\n",
       "    </tr>\n",
       "    <tr>\n",
       "      <th>2</th>\n",
       "      <td>1993-08-08</td>\n",
       "      <td>Ecuador</td>\n",
       "      <td>Venezuela</td>\n",
       "      <td>5</td>\n",
       "      <td>0</td>\n",
       "      <td>FIFA World Cup qualification</td>\n",
       "      <td>False</td>\n",
       "      <td>1993</td>\n",
       "      <td>8</td>\n",
       "      <td>Win</td>\n",
       "      <td>35.0</td>\n",
       "      <td>0.0</td>\n",
       "      <td>23.0</td>\n",
       "      <td>30.0</td>\n",
       "      <td>1993-08-08</td>\n",
       "      <td>94.0</td>\n",
       "      <td>0.0</td>\n",
       "      <td>4.0</td>\n",
       "      <td>31.0</td>\n",
       "    </tr>\n",
       "    <tr>\n",
       "      <th>3</th>\n",
       "      <td>1993-08-08</td>\n",
       "      <td>Guinea</td>\n",
       "      <td>Sierra Leone</td>\n",
       "      <td>1</td>\n",
       "      <td>0</td>\n",
       "      <td>Friendly</td>\n",
       "      <td>False</td>\n",
       "      <td>1993</td>\n",
       "      <td>8</td>\n",
       "      <td>Win</td>\n",
       "      <td>65.0</td>\n",
       "      <td>0.0</td>\n",
       "      <td>23.0</td>\n",
       "      <td>-2.0</td>\n",
       "      <td>1993-08-08</td>\n",
       "      <td>86.0</td>\n",
       "      <td>0.0</td>\n",
       "      <td>16.0</td>\n",
       "      <td>-7.0</td>\n",
       "    </tr>\n",
       "    <tr>\n",
       "      <th>4</th>\n",
       "      <td>1993-08-08</td>\n",
       "      <td>Paraguay</td>\n",
       "      <td>Argentina</td>\n",
       "      <td>1</td>\n",
       "      <td>3</td>\n",
       "      <td>FIFA World Cup qualification</td>\n",
       "      <td>False</td>\n",
       "      <td>1993</td>\n",
       "      <td>8</td>\n",
       "      <td>Loss</td>\n",
       "      <td>67.0</td>\n",
       "      <td>0.0</td>\n",
       "      <td>22.0</td>\n",
       "      <td>1.0</td>\n",
       "      <td>1993-08-08</td>\n",
       "      <td>5.0</td>\n",
       "      <td>0.0</td>\n",
       "      <td>51.0</td>\n",
       "      <td>5.0</td>\n",
       "    </tr>\n",
       "  </tbody>\n",
       "</table>\n",
       "</div>"
      ],
      "text/plain": [
       "        date home_team     away_team  home_score  away_score  \\\n",
       "0 1993-08-08   Bolivia       Uruguay           3           1   \n",
       "1 1993-08-08    Brazil        Mexico           1           1   \n",
       "2 1993-08-08   Ecuador     Venezuela           5           0   \n",
       "3 1993-08-08    Guinea  Sierra Leone           1           0   \n",
       "4 1993-08-08  Paraguay     Argentina           1           3   \n",
       "\n",
       "                     tournament  neutral  year  month home_performance  \\\n",
       "0  FIFA World Cup qualification    False  1993      8              Win   \n",
       "1                      Friendly    False  1993      8             Draw   \n",
       "2  FIFA World Cup qualification    False  1993      8              Win   \n",
       "3                      Friendly    False  1993      8              Win   \n",
       "4  FIFA World Cup qualification    False  1993      8             Loss   \n",
       "\n",
       "   home_team_rank  home_team_total_points  home_team_previous_points  \\\n",
       "0            59.0                     0.0                       13.0   \n",
       "1             8.0                     0.0                       55.0   \n",
       "2            35.0                     0.0                       23.0   \n",
       "3            65.0                     0.0                       23.0   \n",
       "4            67.0                     0.0                       22.0   \n",
       "\n",
       "   home_team_rank_change  rank_date  away_team_rank  away_team_total_points  \\\n",
       "0                   28.0 1993-08-08            22.0                     0.0   \n",
       "1                   -5.0 1993-08-08            14.0                     0.0   \n",
       "2                   30.0 1993-08-08            94.0                     0.0   \n",
       "3                   -2.0 1993-08-08            86.0                     0.0   \n",
       "4                    1.0 1993-08-08             5.0                     0.0   \n",
       "\n",
       "   away_team_previous_points  away_team_rank_change  \n",
       "0                       47.0                   -6.0  \n",
       "1                       42.0                   11.0  \n",
       "2                        4.0                   31.0  \n",
       "3                       16.0                   -7.0  \n",
       "4                       51.0                    5.0  "
      ]
     },
     "execution_count": 65,
     "metadata": {},
     "output_type": "execute_result"
    }
   ],
   "source": [
    "# previewing the final dataset\n",
    "cleaned_results.head()"
   ]
  },
  {
   "cell_type": "code",
   "execution_count": 24,
   "metadata": {},
   "outputs": [
    {
     "data": {
      "text/plain": [
       "array(['FIFA World Cup qualification', 'Friendly',\n",
       "       'African Cup of Nations qualification', 'Amílcar Cabral Cup',\n",
       "       'United Arab Emirates Friendship Tournament',\n",
       "       'Malta International Tournament',\n",
       "       'CFU Caribbean Cup qualification', 'African Cup of Nations',\n",
       "       'CFU Caribbean Cup', 'UEFA Euro qualification', 'Kirin Cup',\n",
       "       'FIFA World Cup', 'Oceania Nations Cup qualification',\n",
       "       'Baltic Cup', 'Gulf Cup', 'Simba Tournament', 'CECAFA Cup',\n",
       "       'Dynasty Cup', \"King's Cup\", 'SAFF Cup', 'Copa Paz del Chaco',\n",
       "       'Korea Cup', 'USA Cup', 'Copa América', 'Merdeka Tournament',\n",
       "       'South Pacific Games', 'UNCAF Cup', 'Oceania Nations Cup',\n",
       "       'Windward Islands Tournament', 'Gold Cup',\n",
       "       'AFC Asian Cup qualification', 'Lunar New Year Cup',\n",
       "       'AFF Championship', 'AFC Asian Cup', 'King Hassan II Tournament',\n",
       "       'Cyprus International Tournament', 'Dunhill Cup', 'Nehru Cup',\n",
       "       'COSAFA Cup', 'Tournoi de France', 'Confederations Cup',\n",
       "       'UAFA Cup', 'Gold Cup qualification', 'UNIFFAC Cup',\n",
       "       'Nordic Championship', 'WAFF Championship', 'UEFA Euro',\n",
       "       'Millennium Cup', \"Prime Minister's Cup\", 'SKN Football Festival',\n",
       "       'EAFF Championship', 'AFC Challenge Cup', 'Copa del Pacífico',\n",
       "       'UAFA Cup qualification', 'AFC Challenge Cup qualification',\n",
       "       'African Nations Championship', 'VFF Cup', 'Dragon Cup',\n",
       "       'Nile Basin Tournament', 'Nations Cup', 'Pacific Games',\n",
       "       'ABCS Tournament', 'OSN Cup', 'Copa América qualification',\n",
       "       'Intercontinental Cup'], dtype=object)"
      ]
     },
     "execution_count": 24,
     "metadata": {},
     "output_type": "execute_result"
    }
   ],
   "source": [
    "cleaned_results.tournament.unique()"
   ]
  },
  {
   "cell_type": "code",
   "execution_count": 27,
   "metadata": {},
   "outputs": [],
   "source": [
    "def tournament(x):\n",
    "    if x=='Friendly':\n",
    "        return 'Friendly'\n",
    "    elif x=='FIFA World Cup':\n",
    "        return 'World cup'\n",
    "    else:\n",
    "        return 'Other'"
   ]
  },
  {
   "cell_type": "code",
   "execution_count": 66,
   "metadata": {},
   "outputs": [],
   "source": [
    "cleaned_results['tourna'] = cleaned_results.tournament.apply(lambda x: tournament(x))"
   ]
  },
  {
   "cell_type": "code",
   "execution_count": 68,
   "metadata": {},
   "outputs": [
    {
     "data": {
      "text/html": [
       "<div>\n",
       "<style scoped>\n",
       "    .dataframe tbody tr th:only-of-type {\n",
       "        vertical-align: middle;\n",
       "    }\n",
       "\n",
       "    .dataframe tbody tr th {\n",
       "        vertical-align: top;\n",
       "    }\n",
       "\n",
       "    .dataframe thead th {\n",
       "        text-align: right;\n",
       "    }\n",
       "</style>\n",
       "<table border=\"1\" class=\"dataframe\">\n",
       "  <thead>\n",
       "    <tr style=\"text-align: right;\">\n",
       "      <th></th>\n",
       "      <th>date</th>\n",
       "      <th>home_team</th>\n",
       "      <th>away_team</th>\n",
       "      <th>home_score</th>\n",
       "      <th>away_score</th>\n",
       "      <th>tournament</th>\n",
       "      <th>neutral</th>\n",
       "      <th>year</th>\n",
       "      <th>month</th>\n",
       "      <th>home_performance</th>\n",
       "      <th>home_team_rank</th>\n",
       "      <th>home_team_total_points</th>\n",
       "      <th>home_team_previous_points</th>\n",
       "      <th>home_team_rank_change</th>\n",
       "      <th>rank_date</th>\n",
       "      <th>away_team_rank</th>\n",
       "      <th>away_team_total_points</th>\n",
       "      <th>away_team_previous_points</th>\n",
       "      <th>away_team_rank_change</th>\n",
       "      <th>tourna</th>\n",
       "    </tr>\n",
       "  </thead>\n",
       "  <tbody>\n",
       "    <tr>\n",
       "      <th>0</th>\n",
       "      <td>1993-08-08</td>\n",
       "      <td>Bolivia</td>\n",
       "      <td>Uruguay</td>\n",
       "      <td>3</td>\n",
       "      <td>1</td>\n",
       "      <td>FIFA World Cup qualification</td>\n",
       "      <td>False</td>\n",
       "      <td>1993</td>\n",
       "      <td>8</td>\n",
       "      <td>Win</td>\n",
       "      <td>59.0</td>\n",
       "      <td>0.0</td>\n",
       "      <td>13.0</td>\n",
       "      <td>28.0</td>\n",
       "      <td>1993-08-08</td>\n",
       "      <td>22.0</td>\n",
       "      <td>0.0</td>\n",
       "      <td>47.0</td>\n",
       "      <td>-6.0</td>\n",
       "      <td>Other</td>\n",
       "    </tr>\n",
       "    <tr>\n",
       "      <th>1</th>\n",
       "      <td>1993-08-08</td>\n",
       "      <td>Brazil</td>\n",
       "      <td>Mexico</td>\n",
       "      <td>1</td>\n",
       "      <td>1</td>\n",
       "      <td>Friendly</td>\n",
       "      <td>False</td>\n",
       "      <td>1993</td>\n",
       "      <td>8</td>\n",
       "      <td>Draw</td>\n",
       "      <td>8.0</td>\n",
       "      <td>0.0</td>\n",
       "      <td>55.0</td>\n",
       "      <td>-5.0</td>\n",
       "      <td>1993-08-08</td>\n",
       "      <td>14.0</td>\n",
       "      <td>0.0</td>\n",
       "      <td>42.0</td>\n",
       "      <td>11.0</td>\n",
       "      <td>Friendly</td>\n",
       "    </tr>\n",
       "    <tr>\n",
       "      <th>2</th>\n",
       "      <td>1993-08-08</td>\n",
       "      <td>Ecuador</td>\n",
       "      <td>Venezuela</td>\n",
       "      <td>5</td>\n",
       "      <td>0</td>\n",
       "      <td>FIFA World Cup qualification</td>\n",
       "      <td>False</td>\n",
       "      <td>1993</td>\n",
       "      <td>8</td>\n",
       "      <td>Win</td>\n",
       "      <td>35.0</td>\n",
       "      <td>0.0</td>\n",
       "      <td>23.0</td>\n",
       "      <td>30.0</td>\n",
       "      <td>1993-08-08</td>\n",
       "      <td>94.0</td>\n",
       "      <td>0.0</td>\n",
       "      <td>4.0</td>\n",
       "      <td>31.0</td>\n",
       "      <td>Other</td>\n",
       "    </tr>\n",
       "    <tr>\n",
       "      <th>3</th>\n",
       "      <td>1993-08-08</td>\n",
       "      <td>Guinea</td>\n",
       "      <td>Sierra Leone</td>\n",
       "      <td>1</td>\n",
       "      <td>0</td>\n",
       "      <td>Friendly</td>\n",
       "      <td>False</td>\n",
       "      <td>1993</td>\n",
       "      <td>8</td>\n",
       "      <td>Win</td>\n",
       "      <td>65.0</td>\n",
       "      <td>0.0</td>\n",
       "      <td>23.0</td>\n",
       "      <td>-2.0</td>\n",
       "      <td>1993-08-08</td>\n",
       "      <td>86.0</td>\n",
       "      <td>0.0</td>\n",
       "      <td>16.0</td>\n",
       "      <td>-7.0</td>\n",
       "      <td>Friendly</td>\n",
       "    </tr>\n",
       "    <tr>\n",
       "      <th>4</th>\n",
       "      <td>1993-08-08</td>\n",
       "      <td>Paraguay</td>\n",
       "      <td>Argentina</td>\n",
       "      <td>1</td>\n",
       "      <td>3</td>\n",
       "      <td>FIFA World Cup qualification</td>\n",
       "      <td>False</td>\n",
       "      <td>1993</td>\n",
       "      <td>8</td>\n",
       "      <td>Loss</td>\n",
       "      <td>67.0</td>\n",
       "      <td>0.0</td>\n",
       "      <td>22.0</td>\n",
       "      <td>1.0</td>\n",
       "      <td>1993-08-08</td>\n",
       "      <td>5.0</td>\n",
       "      <td>0.0</td>\n",
       "      <td>51.0</td>\n",
       "      <td>5.0</td>\n",
       "      <td>Other</td>\n",
       "    </tr>\n",
       "  </tbody>\n",
       "</table>\n",
       "</div>"
      ],
      "text/plain": [
       "        date home_team     away_team  home_score  away_score  \\\n",
       "0 1993-08-08   Bolivia       Uruguay           3           1   \n",
       "1 1993-08-08    Brazil        Mexico           1           1   \n",
       "2 1993-08-08   Ecuador     Venezuela           5           0   \n",
       "3 1993-08-08    Guinea  Sierra Leone           1           0   \n",
       "4 1993-08-08  Paraguay     Argentina           1           3   \n",
       "\n",
       "                     tournament  neutral  year  month home_performance  \\\n",
       "0  FIFA World Cup qualification    False  1993      8              Win   \n",
       "1                      Friendly    False  1993      8             Draw   \n",
       "2  FIFA World Cup qualification    False  1993      8              Win   \n",
       "3                      Friendly    False  1993      8              Win   \n",
       "4  FIFA World Cup qualification    False  1993      8             Loss   \n",
       "\n",
       "   home_team_rank  home_team_total_points  home_team_previous_points  \\\n",
       "0            59.0                     0.0                       13.0   \n",
       "1             8.0                     0.0                       55.0   \n",
       "2            35.0                     0.0                       23.0   \n",
       "3            65.0                     0.0                       23.0   \n",
       "4            67.0                     0.0                       22.0   \n",
       "\n",
       "   home_team_rank_change  rank_date  away_team_rank  away_team_total_points  \\\n",
       "0                   28.0 1993-08-08            22.0                     0.0   \n",
       "1                   -5.0 1993-08-08            14.0                     0.0   \n",
       "2                   30.0 1993-08-08            94.0                     0.0   \n",
       "3                   -2.0 1993-08-08            86.0                     0.0   \n",
       "4                    1.0 1993-08-08             5.0                     0.0   \n",
       "\n",
       "   away_team_previous_points  away_team_rank_change    tourna  \n",
       "0                       47.0                   -6.0     Other  \n",
       "1                       42.0                   11.0  Friendly  \n",
       "2                        4.0                   31.0     Other  \n",
       "3                       16.0                   -7.0  Friendly  \n",
       "4                       51.0                    5.0     Other  "
      ]
     },
     "execution_count": 68,
     "metadata": {},
     "output_type": "execute_result"
    }
   ],
   "source": [
    "cleaned_results.head()"
   ]
  },
  {
   "cell_type": "code",
   "execution_count": null,
   "metadata": {},
   "outputs": [],
   "source": []
  },
  {
   "cell_type": "code",
   "execution_count": 69,
   "metadata": {
    "scrolled": true
   },
   "outputs": [
    {
     "data": {
      "text/html": [
       "<div>\n",
       "<style scoped>\n",
       "    .dataframe tbody tr th:only-of-type {\n",
       "        vertical-align: middle;\n",
       "    }\n",
       "\n",
       "    .dataframe tbody tr th {\n",
       "        vertical-align: top;\n",
       "    }\n",
       "\n",
       "    .dataframe thead th {\n",
       "        text-align: right;\n",
       "    }\n",
       "</style>\n",
       "<table border=\"1\" class=\"dataframe\">\n",
       "  <thead>\n",
       "    <tr style=\"text-align: right;\">\n",
       "      <th></th>\n",
       "      <th>date</th>\n",
       "      <th>home_team</th>\n",
       "      <th>away_team</th>\n",
       "      <th>home_score</th>\n",
       "      <th>away_score</th>\n",
       "      <th>tournament</th>\n",
       "      <th>neutral</th>\n",
       "      <th>year</th>\n",
       "      <th>month</th>\n",
       "      <th>home_performance</th>\n",
       "      <th>...</th>\n",
       "      <th>home_team_rank_change</th>\n",
       "      <th>rank_date</th>\n",
       "      <th>away_team_rank</th>\n",
       "      <th>away_team_total_points</th>\n",
       "      <th>away_team_previous_points</th>\n",
       "      <th>away_team_rank_change</th>\n",
       "      <th>tourna</th>\n",
       "      <th>Friendly</th>\n",
       "      <th>Other</th>\n",
       "      <th>World cup</th>\n",
       "    </tr>\n",
       "  </thead>\n",
       "  <tbody>\n",
       "    <tr>\n",
       "      <th>0</th>\n",
       "      <td>1993-08-08</td>\n",
       "      <td>Bolivia</td>\n",
       "      <td>Uruguay</td>\n",
       "      <td>3</td>\n",
       "      <td>1</td>\n",
       "      <td>FIFA World Cup qualification</td>\n",
       "      <td>False</td>\n",
       "      <td>1993</td>\n",
       "      <td>8</td>\n",
       "      <td>Win</td>\n",
       "      <td>...</td>\n",
       "      <td>28.0</td>\n",
       "      <td>1993-08-08</td>\n",
       "      <td>22.0</td>\n",
       "      <td>0.0</td>\n",
       "      <td>47.0</td>\n",
       "      <td>-6.0</td>\n",
       "      <td>Other</td>\n",
       "      <td>0</td>\n",
       "      <td>1</td>\n",
       "      <td>0</td>\n",
       "    </tr>\n",
       "    <tr>\n",
       "      <th>1</th>\n",
       "      <td>1993-08-08</td>\n",
       "      <td>Brazil</td>\n",
       "      <td>Mexico</td>\n",
       "      <td>1</td>\n",
       "      <td>1</td>\n",
       "      <td>Friendly</td>\n",
       "      <td>False</td>\n",
       "      <td>1993</td>\n",
       "      <td>8</td>\n",
       "      <td>Draw</td>\n",
       "      <td>...</td>\n",
       "      <td>-5.0</td>\n",
       "      <td>1993-08-08</td>\n",
       "      <td>14.0</td>\n",
       "      <td>0.0</td>\n",
       "      <td>42.0</td>\n",
       "      <td>11.0</td>\n",
       "      <td>Friendly</td>\n",
       "      <td>1</td>\n",
       "      <td>0</td>\n",
       "      <td>0</td>\n",
       "    </tr>\n",
       "    <tr>\n",
       "      <th>2</th>\n",
       "      <td>1993-08-08</td>\n",
       "      <td>Ecuador</td>\n",
       "      <td>Venezuela</td>\n",
       "      <td>5</td>\n",
       "      <td>0</td>\n",
       "      <td>FIFA World Cup qualification</td>\n",
       "      <td>False</td>\n",
       "      <td>1993</td>\n",
       "      <td>8</td>\n",
       "      <td>Win</td>\n",
       "      <td>...</td>\n",
       "      <td>30.0</td>\n",
       "      <td>1993-08-08</td>\n",
       "      <td>94.0</td>\n",
       "      <td>0.0</td>\n",
       "      <td>4.0</td>\n",
       "      <td>31.0</td>\n",
       "      <td>Other</td>\n",
       "      <td>0</td>\n",
       "      <td>1</td>\n",
       "      <td>0</td>\n",
       "    </tr>\n",
       "    <tr>\n",
       "      <th>3</th>\n",
       "      <td>1993-08-08</td>\n",
       "      <td>Guinea</td>\n",
       "      <td>Sierra Leone</td>\n",
       "      <td>1</td>\n",
       "      <td>0</td>\n",
       "      <td>Friendly</td>\n",
       "      <td>False</td>\n",
       "      <td>1993</td>\n",
       "      <td>8</td>\n",
       "      <td>Win</td>\n",
       "      <td>...</td>\n",
       "      <td>-2.0</td>\n",
       "      <td>1993-08-08</td>\n",
       "      <td>86.0</td>\n",
       "      <td>0.0</td>\n",
       "      <td>16.0</td>\n",
       "      <td>-7.0</td>\n",
       "      <td>Friendly</td>\n",
       "      <td>1</td>\n",
       "      <td>0</td>\n",
       "      <td>0</td>\n",
       "    </tr>\n",
       "    <tr>\n",
       "      <th>4</th>\n",
       "      <td>1993-08-08</td>\n",
       "      <td>Paraguay</td>\n",
       "      <td>Argentina</td>\n",
       "      <td>1</td>\n",
       "      <td>3</td>\n",
       "      <td>FIFA World Cup qualification</td>\n",
       "      <td>False</td>\n",
       "      <td>1993</td>\n",
       "      <td>8</td>\n",
       "      <td>Loss</td>\n",
       "      <td>...</td>\n",
       "      <td>1.0</td>\n",
       "      <td>1993-08-08</td>\n",
       "      <td>5.0</td>\n",
       "      <td>0.0</td>\n",
       "      <td>51.0</td>\n",
       "      <td>5.0</td>\n",
       "      <td>Other</td>\n",
       "      <td>0</td>\n",
       "      <td>1</td>\n",
       "      <td>0</td>\n",
       "    </tr>\n",
       "  </tbody>\n",
       "</table>\n",
       "<p>5 rows × 23 columns</p>\n",
       "</div>"
      ],
      "text/plain": [
       "        date home_team     away_team  home_score  away_score  \\\n",
       "0 1993-08-08   Bolivia       Uruguay           3           1   \n",
       "1 1993-08-08    Brazil        Mexico           1           1   \n",
       "2 1993-08-08   Ecuador     Venezuela           5           0   \n",
       "3 1993-08-08    Guinea  Sierra Leone           1           0   \n",
       "4 1993-08-08  Paraguay     Argentina           1           3   \n",
       "\n",
       "                     tournament  neutral  year  month home_performance  ...  \\\n",
       "0  FIFA World Cup qualification    False  1993      8              Win  ...   \n",
       "1                      Friendly    False  1993      8             Draw  ...   \n",
       "2  FIFA World Cup qualification    False  1993      8              Win  ...   \n",
       "3                      Friendly    False  1993      8              Win  ...   \n",
       "4  FIFA World Cup qualification    False  1993      8             Loss  ...   \n",
       "\n",
       "   home_team_rank_change  rank_date  away_team_rank  away_team_total_points  \\\n",
       "0                   28.0 1993-08-08            22.0                     0.0   \n",
       "1                   -5.0 1993-08-08            14.0                     0.0   \n",
       "2                   30.0 1993-08-08            94.0                     0.0   \n",
       "3                   -2.0 1993-08-08            86.0                     0.0   \n",
       "4                    1.0 1993-08-08             5.0                     0.0   \n",
       "\n",
       "  away_team_previous_points  away_team_rank_change    tourna  Friendly  Other  \\\n",
       "0                      47.0                   -6.0     Other         0      1   \n",
       "1                      42.0                   11.0  Friendly         1      0   \n",
       "2                       4.0                   31.0     Other         0      1   \n",
       "3                      16.0                   -7.0  Friendly         1      0   \n",
       "4                      51.0                    5.0     Other         0      1   \n",
       "\n",
       "  World cup  \n",
       "0         0  \n",
       "1         0  \n",
       "2         0  \n",
       "3         0  \n",
       "4         0  \n",
       "\n",
       "[5 rows x 23 columns]"
      ]
     },
     "execution_count": 69,
     "metadata": {},
     "output_type": "execute_result"
    }
   ],
   "source": [
    "# Creating dummy variables for the tournament column.\n",
    "dummy=pd.get_dummies(cleaned_results['tourna'])\n",
    "cleaned=pd.concat([cleaned_results, dummy], axis=1)\n",
    "cleaned.head()"
   ]
  },
  {
   "cell_type": "code",
   "execution_count": 70,
   "metadata": {},
   "outputs": [],
   "source": [
    "# dropping the tournament column\n",
    "cleaned.drop(columns=['tournament', 'tourna'], inplace=True)"
   ]
  },
  {
   "cell_type": "code",
   "execution_count": 71,
   "metadata": {},
   "outputs": [],
   "source": [
    "# creating a dummy variable for the neutral column\n",
    "dumm=pd.get_dummies(cleaned['neutral'])\n",
    "cleaned=pd.concat([cleaned, dumm], axis=1)"
   ]
  },
  {
   "cell_type": "code",
   "execution_count": 72,
   "metadata": {},
   "outputs": [
    {
     "data": {
      "text/plain": [
       "Index([                     'date',                 'home_team',\n",
       "                       'away_team',                'home_score',\n",
       "                      'away_score',                   'neutral',\n",
       "                            'year',                     'month',\n",
       "                'home_performance',            'home_team_rank',\n",
       "          'home_team_total_points', 'home_team_previous_points',\n",
       "           'home_team_rank_change',                 'rank_date',\n",
       "                  'away_team_rank',    'away_team_total_points',\n",
       "       'away_team_previous_points',     'away_team_rank_change',\n",
       "                        'Friendly',                     'Other',\n",
       "                       'World cup',                       False,\n",
       "                              True],\n",
       "      dtype='object')"
      ]
     },
     "execution_count": 72,
     "metadata": {},
     "output_type": "execute_result"
    }
   ],
   "source": [
    "cleaned.columns"
   ]
  },
  {
   "cell_type": "markdown",
   "metadata": {},
   "source": [
    ">The dataset is now ready for modelling"
   ]
  },
  {
   "cell_type": "markdown",
   "metadata": {
    "colab_type": "text",
    "id": "rF2ABPsHUtbZ"
   },
   "source": [
    "## 6. Exploratory Analysis"
   ]
  },
  {
   "cell_type": "code",
   "execution_count": 122,
   "metadata": {
    "colab": {},
    "colab_type": "code",
    "id": "5nnRToniXGDK",
    "scrolled": true
   },
   "outputs": [
    {
     "data": {
      "text/plain": [
       "<matplotlib.axes._subplots.AxesSubplot at 0x7f98a5f91c18>"
      ]
     },
     "execution_count": 122,
     "metadata": {},
     "output_type": "execute_result"
    },
    {
     "data": {
      "image/png": "[encoded data removed]",
      "text/plain": [
       "<Figure size 432x288 with 1 Axes>"
      ]
     },
     "metadata": {
      "needs_background": "light"
     },
     "output_type": "display_data"
    }
   ],
   "source": [
    "# Ploting the univariate summaries and recording our observations\n",
    "#\n",
    "# countplot of the home team results\n",
    "sns.countplot(x='home_performance', data=cleaned_results, hue='neutral')"
   ]
  },
  {
   "cell_type": "markdown",
   "metadata": {},
   "source": [
    ">From the graph we can theorize that a high proportion of home teams win matches when played on neutral grounds than when the ground is partisan."
   ]
  },
  {
   "cell_type": "code",
   "execution_count": 95,
   "metadata": {
    "scrolled": false
   },
   "outputs": [
    {
     "data": {
      "text/plain": [
       "<matplotlib.axes._subplots.AxesSubplot at 0x7fd7ce775d30>"
      ]
     },
     "execution_count": 95,
     "metadata": {},
     "output_type": "execute_result"
    },
    {
     "data": {
      "image/png": "[encoded data removed]",
      "text/plain": [
       "<Figure size 432x288 with 2 Axes>"
      ]
     },
     "metadata": {
      "needs_background": "light"
     },
     "output_type": "display_data"
    }
   ],
   "source": [
    "# Correlation heatmap of the numerical variables \n",
    "mask = np.zeros_like(cleaned_results.iloc[:, 9:].corr(), dtype=np.bool)\n",
    "mask[np.triu_indices_from(mask)] = True\n",
    "sns.heatmap(cleaned_results.iloc[:, 9:].corr(), annot=True, mask=mask)"
   ]
  },
  {
   "cell_type": "markdown",
   "metadata": {},
   "source": [
    ">From the correlation heatmap, we don't have highly correlated variables."
   ]
  },
  {
   "cell_type": "markdown",
   "metadata": {
    "colab_type": "text",
    "id": "vTbdjSrhVIiT"
   },
   "source": [
    "## 7. Implementing the Solution"
   ]
  },
  {
   "cell_type": "markdown",
   "metadata": {
    "colab": {},
    "colab_type": "code",
    "id": "PJLZaRzJXJ3w"
   },
   "source": [
    "### Approach 1: Polynomial approach"
   ]
  },
  {
   "cell_type": "code",
   "execution_count": 35,
   "metadata": {},
   "outputs": [],
   "source": [
    "#Creating a dummy variable for the home team performance\n",
    "dummm=pd.get_dummies(cleaned['home_performance'])\n",
    "polynom=pd.concat([cleaned, dummm], axis=1)\n",
    "polynom.drop(columns=['home_team', 'away_team', 'neutral', 'year', 'month', 'home_performance'], inplace=True)"
   ]
  },
  {
   "cell_type": "code",
   "execution_count": 39,
   "metadata": {
    "scrolled": true
   },
   "outputs": [
    {
     "name": "stdout",
     "output_type": "stream",
     "text": [
      "<class 'pandas.core.frame.DataFrame'>\n",
      "Int64Index: 21010 entries, 17915 to 39833\n",
      "Data columns (total 13 columns):\n",
      "date          21010 non-null datetime64[ns]\n",
      "home_score    21010 non-null int64\n",
      "away_score    21010 non-null int64\n",
      "city          21010 non-null object\n",
      "country       21010 non-null object\n",
      "Friendly      21010 non-null uint8\n",
      "Other         21010 non-null uint8\n",
      "World cup     21010 non-null uint8\n",
      "False         21010 non-null uint8\n",
      "True          21010 non-null uint8\n",
      "Draw          21010 non-null uint8\n",
      "Loss          21010 non-null uint8\n",
      "Win           21010 non-null uint8\n",
      "dtypes: datetime64[ns](1), int64(2), object(2), uint8(8)\n",
      "memory usage: 1.1+ MB\n"
     ]
    }
   ],
   "source": [
    "polynom.info()"
   ]
  },
  {
   "cell_type": "markdown",
   "metadata": {},
   "source": [
    "#### Model 1: Predicting the number of goals home team scores"
   ]
  },
  {
   "cell_type": "code",
   "execution_count": 125,
   "metadata": {},
   "outputs": [],
   "source": [
    "# The independent variable used is the home team rank\n",
    "a=polynom.home_team_rank.values.reshape(-1,1)\n",
    "# The dependent variable, what we are predicting, is the number of goals scored by the home team.\n",
    "b=polynom.home_score.values\n"
   ]
  },
  {
   "cell_type": "code",
   "execution_count": 126,
   "metadata": {},
   "outputs": [
    {
     "data": {
      "image/png": "[encoded data removed]",
      "text/plain": [
       "<Figure size 432x288 with 1 Axes>"
      ]
     },
     "metadata": {
      "needs_background": "light"
     },
     "output_type": "display_data"
    }
   ],
   "source": [
    "plt.scatter(a, b, color='magenta')\n",
    "plt.xlabel('Home team FIFA ranking')\n",
    "plt.ylabel('number of goals scored')\n",
    "plt.title('number of goals scored vs FIFA ranking')\n",
    "plt.show()"
   ]
  },
  {
   "cell_type": "code",
   "execution_count": 127,
   "metadata": {},
   "outputs": [
    {
     "data": {
      "image/png": "[encoded data removed]",
      "text/plain": [
       "<Figure size 432x288 with 1 Axes>"
      ]
     },
     "metadata": {
      "needs_background": "light"
     },
     "output_type": "display_data"
    }
   ],
   "source": [
    "# Splitting the dataset into train and test sets.\n",
    "a_train, a_test, b_train, b_test = train_test_split(a, b, test_size=0.25, random_state=0)\n",
    "# Fitting polynomial regression into the dataset\n",
    "poly_reg = PolynomialFeatures(degree=10)\n",
    "a_poly = poly_reg.fit_transform(a)\n",
    "pol_reg = LinearRegression()\n",
    "pol_reg.fit(a_poly, b)\n",
    "# Visualizing the polynomial regression result.\n",
    "plt.scatter(a, b, color='magenta')\n",
    "plt.plot(a, pol_reg.predict(a_poly), color='green')\n",
    "plt.xlabel('Home team FIFA ranking')\n",
    "plt.ylabel('number of goals scored')\n",
    "plt.title('number of goals scored polynomial prediction')\n",
    "plt.show()"
   ]
  },
  {
   "cell_type": "code",
   "execution_count": 128,
   "metadata": {},
   "outputs": [
    {
     "name": "stdout",
     "output_type": "stream",
     "text": [
      "polynomial prediction: 1\n"
     ]
    }
   ],
   "source": [
    "# Making a prediction for number of goals scored by a home team ranked 78th.\n",
    "poly_prediction=pol_reg.predict(poly_reg.fit_transform([[78]]))\n",
    "print('polynomial prediction: %d' %poly_prediction)"
   ]
  },
  {
   "cell_type": "markdown",
   "metadata": {},
   "source": [
    "#### Model 2: Predicting the number of goals the away team scores."
   ]
  },
  {
   "cell_type": "code",
   "execution_count": 129,
   "metadata": {},
   "outputs": [],
   "source": [
    "# The independent variable used is the away team rank\n",
    "c=polynom.away_team_rank.values.reshape(-1,1)\n",
    "# The dependent variable, what we are predicting, is the number of goals scored by the away team.\n",
    "d=polynom.away_score.values\n"
   ]
  },
  {
   "cell_type": "code",
   "execution_count": 130,
   "metadata": {
    "scrolled": true
   },
   "outputs": [
    {
     "data": {
      "image/png": "[encoded data removed]",
      "text/plain": [
       "<Figure size 432x288 with 1 Axes>"
      ]
     },
     "metadata": {
      "needs_background": "light"
     },
     "output_type": "display_data"
    }
   ],
   "source": [
    "plt.scatter(c, d, color='red')\n",
    "plt.xlabel('away team FIFA ranking')\n",
    "plt.ylabel('number of goals scored')\n",
    "plt.title('number of goals scored vs FIFA ranking')\n",
    "plt.show()"
   ]
  },
  {
   "cell_type": "code",
   "execution_count": 131,
   "metadata": {},
   "outputs": [
    {
     "data": {
      "image/png": "[encoded data removed]",
      "text/plain": [
       "<Figure size 432x288 with 1 Axes>"
      ]
     },
     "metadata": {
      "needs_background": "light"
     },
     "output_type": "display_data"
    }
   ],
   "source": [
    "# Splitting the dataset into train and test sets.\n",
    "c_train, c_test, d_train, d_test = train_test_split(c, d, test_size=0.25, random_state=0)\n",
    "# Fitting polynomial regression into the dataset\n",
    "poly_regr = PolynomialFeatures(degree=10)\n",
    "c_poly = poly_regr.fit_transform(c)\n",
    "pol_regr = LinearRegression()\n",
    "pol_regr.fit(c_poly, d)\n",
    "# Visualizing the polynomial regression result.\n",
    "plt.scatter(c, d, color='red')\n",
    "plt.plot(a, pol_regr.predict(c_poly), color='green')\n",
    "plt.xlabel('Away team FIFA ranking')\n",
    "plt.ylabel('number of goals scored')\n",
    "plt.title('number of goals scored polynomial prediction')\n",
    "plt.show()"
   ]
  },
  {
   "cell_type": "code",
   "execution_count": 132,
   "metadata": {},
   "outputs": [
    {
     "name": "stdout",
     "output_type": "stream",
     "text": [
      "polynomial prediction: 0\n"
     ]
    }
   ],
   "source": [
    "# Making a prediction for number of goals scored by an away team ranked 78th\n",
    "polyn_prediction=pol_regr.predict(poly_regr.fit_transform([[78]]))\n",
    "print('polynomial prediction: %d' %polyn_prediction)"
   ]
  },
  {
   "cell_type": "markdown",
   "metadata": {},
   "source": [
    "#### Model 3: Predicting the number of goals scored by the home team using XGBRegressor"
   ]
  },
  {
   "cell_type": "code",
   "execution_count": 133,
   "metadata": {
    "scrolled": true
   },
   "outputs": [],
   "source": [
    "polynom=polynom.loc[:,~polynom.columns.duplicated()]"
   ]
  },
  {
   "cell_type": "code",
   "execution_count": 134,
   "metadata": {},
   "outputs": [],
   "source": [
    "\n",
    "e=polynom.drop('home_score', axis=1)\n",
    "# The dependent variable, what we are predicting, is the number of goals scored by the away team.\n",
    "f=polynom.home_score\n"
   ]
  },
  {
   "cell_type": "code",
   "execution_count": 135,
   "metadata": {},
   "outputs": [
    {
     "name": "stderr",
     "output_type": "stream",
     "text": [
      "/usr/local/lib/python3.7/dist-packages/xgboost/core.py:587: FutureWarning: Series.base is deprecated and will be removed in a future version\n",
      "  if getattr(data, 'base', None) is not None and \\\n"
     ]
    },
    {
     "name": "stdout",
     "output_type": "stream",
     "text": [
      "[08:53:09] WARNING: /workspace/src/objective/regression_obj.cu:152: reg:linear is now deprecated in favor of reg:squarederror.\n",
      "0.7447739292299835\n"
     ]
    }
   ],
   "source": [
    "e_train, e_test, f_train, f_test = train_test_split(e, f, test_size=0.25, random_state=0)\n",
    "regress=XGBRegressor()\n",
    "regress.fit(e_train, f_train)\n",
    "f_pred=regress.predict(e_test)\n",
    "rmse=np.sqrt(metrics.mean_squared_error(f_test, f_pred))\n",
    "print(rmse)"
   ]
  },
  {
   "cell_type": "code",
   "execution_count": 136,
   "metadata": {},
   "outputs": [
    {
     "data": {
      "text/html": [
       "<div>\n",
       "<style scoped>\n",
       "    .dataframe tbody tr th:only-of-type {\n",
       "        vertical-align: middle;\n",
       "    }\n",
       "\n",
       "    .dataframe tbody tr th {\n",
       "        vertical-align: top;\n",
       "    }\n",
       "\n",
       "    .dataframe thead th {\n",
       "        text-align: right;\n",
       "    }\n",
       "</style>\n",
       "<table border=\"1\" class=\"dataframe\">\n",
       "  <thead>\n",
       "    <tr style=\"text-align: right;\">\n",
       "      <th></th>\n",
       "      <th>Actual</th>\n",
       "      <th>Prediction</th>\n",
       "    </tr>\n",
       "  </thead>\n",
       "  <tbody>\n",
       "    <tr>\n",
       "      <th>count</th>\n",
       "      <td>4079.000000</td>\n",
       "      <td>4079.000000</td>\n",
       "    </tr>\n",
       "    <tr>\n",
       "      <th>mean</th>\n",
       "      <td>1.466046</td>\n",
       "      <td>1.456874</td>\n",
       "    </tr>\n",
       "    <tr>\n",
       "      <th>std</th>\n",
       "      <td>1.273821</td>\n",
       "      <td>1.002572</td>\n",
       "    </tr>\n",
       "    <tr>\n",
       "      <th>min</th>\n",
       "      <td>0.000000</td>\n",
       "      <td>-0.176808</td>\n",
       "    </tr>\n",
       "    <tr>\n",
       "      <th>25%</th>\n",
       "      <td>0.000000</td>\n",
       "      <td>0.551166</td>\n",
       "    </tr>\n",
       "    <tr>\n",
       "      <th>50%</th>\n",
       "      <td>1.000000</td>\n",
       "      <td>1.681042</td>\n",
       "    </tr>\n",
       "    <tr>\n",
       "      <th>75%</th>\n",
       "      <td>2.000000</td>\n",
       "      <td>2.291761</td>\n",
       "    </tr>\n",
       "    <tr>\n",
       "      <th>max</th>\n",
       "      <td>5.000000</td>\n",
       "      <td>4.277902</td>\n",
       "    </tr>\n",
       "  </tbody>\n",
       "</table>\n",
       "</div>"
      ],
      "text/plain": [
       "            Actual   Prediction\n",
       "count  4079.000000  4079.000000\n",
       "mean      1.466046     1.456874\n",
       "std       1.273821     1.002572\n",
       "min       0.000000    -0.176808\n",
       "25%       0.000000     0.551166\n",
       "50%       1.000000     1.681042\n",
       "75%       2.000000     2.291761\n",
       "max       5.000000     4.277902"
      ]
     },
     "execution_count": 136,
     "metadata": {},
     "output_type": "execute_result"
    }
   ],
   "source": [
    "df=pd.DataFrame({'Actual': f_test, 'Prediction': f_pred})\n",
    "df.describe()"
   ]
  },
  {
   "cell_type": "code",
   "execution_count": 137,
   "metadata": {
    "scrolled": false
   },
   "outputs": [
    {
     "data": {
      "image/png": "[encoded data removed]",
      "text/plain": [
       "<Figure size 1440x864 with 1 Axes>"
      ]
     },
     "metadata": {
      "needs_background": "light"
     },
     "output_type": "display_data"
    }
   ],
   "source": [
    "df1=df.head(50)\n",
    "df1.plot(kind='bar', figsize=(20,12))\n",
    "plt.show()"
   ]
  },
  {
   "cell_type": "code",
   "execution_count": 138,
   "metadata": {},
   "outputs": [
    {
     "name": "stdout",
     "output_type": "stream",
     "text": [
      "Fitting 2 folds for each of 9 candidates, totalling 18 fits\n"
     ]
    },
    {
     "name": "stderr",
     "output_type": "stream",
     "text": [
      "[Parallel(n_jobs=5)]: Using backend LokyBackend with 5 concurrent workers.\n",
      "[Parallel(n_jobs=5)]: Done  18 out of  18 | elapsed: 38.0min finished\n",
      "/usr/local/lib/python3.7/dist-packages/xgboost/core.py:587: FutureWarning: Series.base is deprecated and will be removed in a future version\n",
      "  if getattr(data, 'base', None) is not None and \\\n"
     ]
    },
    {
     "name": "stdout",
     "output_type": "stream",
     "text": [
      "0.646360382053534\n",
      "{'colsample_bytree': 0.7, 'learning_rate': 0.03, 'max_depth': 5, 'min_child_weight': 4, 'n_estimators': 500, 'nthread': 4, 'objective': 'reg:linear', 'silent': 1, 'subsample': 0.7}\n"
     ]
    }
   ],
   "source": [
    "# Hyper-parameter tuning to improve the accuracy of the model.\n",
    "e_train, e_test, f_train, f_test = train_test_split(e, f, test_size=0.25, random_state=0)\n",
    "xgb1=XGBRegressor()\n",
    "parameters = {'nthread':[4], #when use hyperthread, xgboost may become slower\n",
    "              'objective':['reg:linear'],\n",
    "              'learning_rate': [.03, 0.05, .07], #so called `eta` value\n",
    "              'max_depth': [5, 6, 7],\n",
    "              'min_child_weight': [4],\n",
    "              'silent': [1],\n",
    "              'subsample': [0.7],\n",
    "              'colsample_bytree': [0.7],\n",
    "              'n_estimators': [500]}\n",
    "\n",
    "xgb_grid = GridSearchCV(xgb1,\n",
    "                        parameters,\n",
    "                        cv = 2,\n",
    "                        n_jobs = 5,\n",
    "                        verbose=True)\n",
    "\n",
    "xgb_grid.fit(e_train,f_train)\n",
    "\n",
    "print(xgb_grid.best_score_)\n",
    "print(xgb_grid.best_params_)"
   ]
  },
  {
   "cell_type": "code",
   "execution_count": 139,
   "metadata": {
    "scrolled": true
   },
   "outputs": [
    {
     "name": "stderr",
     "output_type": "stream",
     "text": [
      "/usr/local/lib/python3.7/dist-packages/xgboost/core.py:587: FutureWarning: Series.base is deprecated and will be removed in a future version\n",
      "  if getattr(data, 'base', None) is not None and \\\n"
     ]
    },
    {
     "name": "stdout",
     "output_type": "stream",
     "text": [
      "0.7451342789184414\n"
     ]
    }
   ],
   "source": [
    "e_train, e_test, f_train, f_test = train_test_split(e, f, test_size=0.25, random_state=0)\n",
    "regress=XGBRegressor(colsample_bytree = 0.7, learning_rate = 0.03, max_depth = 5, min_child_weight = 4, n_estimators = 500, nthread = 4, objective = 'reg:linear', silent = 1, subsample = 0.7)\n",
    "regress.fit(e_train, f_train)\n",
    "f_pred=regress.predict(e_test)\n",
    "rmse1=np.sqrt(metrics.mean_squared_error(f_test, f_pred))\n",
    "print(rmse1)"
   ]
  },
  {
   "cell_type": "code",
   "execution_count": 140,
   "metadata": {},
   "outputs": [
    {
     "data": {
      "text/html": [
       "<div>\n",
       "<style scoped>\n",
       "    .dataframe tbody tr th:only-of-type {\n",
       "        vertical-align: middle;\n",
       "    }\n",
       "\n",
       "    .dataframe tbody tr th {\n",
       "        vertical-align: top;\n",
       "    }\n",
       "\n",
       "    .dataframe thead th {\n",
       "        text-align: right;\n",
       "    }\n",
       "</style>\n",
       "<table border=\"1\" class=\"dataframe\">\n",
       "  <thead>\n",
       "    <tr style=\"text-align: right;\">\n",
       "      <th></th>\n",
       "      <th>Actual</th>\n",
       "      <th>Prediction</th>\n",
       "    </tr>\n",
       "  </thead>\n",
       "  <tbody>\n",
       "    <tr>\n",
       "      <th>count</th>\n",
       "      <td>4079.000000</td>\n",
       "      <td>4079.000000</td>\n",
       "    </tr>\n",
       "    <tr>\n",
       "      <th>mean</th>\n",
       "      <td>1.466046</td>\n",
       "      <td>1.458828</td>\n",
       "    </tr>\n",
       "    <tr>\n",
       "      <th>std</th>\n",
       "      <td>1.273821</td>\n",
       "      <td>1.025074</td>\n",
       "    </tr>\n",
       "    <tr>\n",
       "      <th>min</th>\n",
       "      <td>0.000000</td>\n",
       "      <td>-0.195977</td>\n",
       "    </tr>\n",
       "    <tr>\n",
       "      <th>25%</th>\n",
       "      <td>0.000000</td>\n",
       "      <td>0.565864</td>\n",
       "    </tr>\n",
       "    <tr>\n",
       "      <th>50%</th>\n",
       "      <td>1.000000</td>\n",
       "      <td>1.591634</td>\n",
       "    </tr>\n",
       "    <tr>\n",
       "      <th>75%</th>\n",
       "      <td>2.000000</td>\n",
       "      <td>2.292975</td>\n",
       "    </tr>\n",
       "    <tr>\n",
       "      <th>max</th>\n",
       "      <td>5.000000</td>\n",
       "      <td>4.420075</td>\n",
       "    </tr>\n",
       "  </tbody>\n",
       "</table>\n",
       "</div>"
      ],
      "text/plain": [
       "            Actual   Prediction\n",
       "count  4079.000000  4079.000000\n",
       "mean      1.466046     1.458828\n",
       "std       1.273821     1.025074\n",
       "min       0.000000    -0.195977\n",
       "25%       0.000000     0.565864\n",
       "50%       1.000000     1.591634\n",
       "75%       2.000000     2.292975\n",
       "max       5.000000     4.420075"
      ]
     },
     "execution_count": 140,
     "metadata": {},
     "output_type": "execute_result"
    }
   ],
   "source": [
    "df2=pd.DataFrame({'Actual': f_test, 'Prediction': f_pred})\n",
    "df2.describe()"
   ]
  },
  {
   "cell_type": "code",
   "execution_count": 141,
   "metadata": {
    "scrolled": false
   },
   "outputs": [
    {
     "data": {
      "image/png": "[encoded data removed]",
      "text/plain": [
       "<Figure size 1440x864 with 1 Axes>"
      ]
     },
     "metadata": {
      "needs_background": "light"
     },
     "output_type": "display_data"
    }
   ],
   "source": [
    "df3=df2.head(50)\n",
    "df3.plot(kind='bar', figsize=(20,12))\n",
    "plt.show()"
   ]
  },
  {
   "cell_type": "markdown",
   "metadata": {},
   "source": [
    ">We reduced the RMSE of the model marginally by hyperparameter tuning. However, the model's prediction accuracy is still very poor."
   ]
  },
  {
   "cell_type": "markdown",
   "metadata": {},
   "source": [
    "#### Heteroskedasticity testing"
   ]
  },
  {
   "cell_type": "code",
   "execution_count": 142,
   "metadata": {
    "scrolled": true
   },
   "outputs": [
    {
     "data": {
      "text/html": [
       "<div>\n",
       "<style scoped>\n",
       "    .dataframe tbody tr th:only-of-type {\n",
       "        vertical-align: middle;\n",
       "    }\n",
       "\n",
       "    .dataframe tbody tr th {\n",
       "        vertical-align: top;\n",
       "    }\n",
       "\n",
       "    .dataframe thead th {\n",
       "        text-align: right;\n",
       "    }\n",
       "</style>\n",
       "<table border=\"1\" class=\"dataframe\">\n",
       "  <thead>\n",
       "    <tr style=\"text-align: right;\">\n",
       "      <th></th>\n",
       "      <th>home_score</th>\n",
       "    </tr>\n",
       "  </thead>\n",
       "  <tbody>\n",
       "    <tr>\n",
       "      <th>count</th>\n",
       "      <td>4079.000000</td>\n",
       "    </tr>\n",
       "    <tr>\n",
       "      <th>mean</th>\n",
       "      <td>-0.007217</td>\n",
       "    </tr>\n",
       "    <tr>\n",
       "      <th>std</th>\n",
       "      <td>0.745191</td>\n",
       "    </tr>\n",
       "    <tr>\n",
       "      <th>min</th>\n",
       "      <td>-3.305555</td>\n",
       "    </tr>\n",
       "    <tr>\n",
       "      <th>25%</th>\n",
       "      <td>-0.248785</td>\n",
       "    </tr>\n",
       "    <tr>\n",
       "      <th>50%</th>\n",
       "      <td>0.009673</td>\n",
       "    </tr>\n",
       "    <tr>\n",
       "      <th>75%</th>\n",
       "      <td>0.463369</td>\n",
       "    </tr>\n",
       "    <tr>\n",
       "      <th>max</th>\n",
       "      <td>2.587060</td>\n",
       "    </tr>\n",
       "  </tbody>\n",
       "</table>\n",
       "</div>"
      ],
      "text/plain": [
       "        home_score\n",
       "count  4079.000000\n",
       "mean     -0.007217\n",
       "std       0.745191\n",
       "min      -3.305555\n",
       "25%      -0.248785\n",
       "50%       0.009673\n",
       "75%       0.463369\n",
       "max       2.587060"
      ]
     },
     "execution_count": 142,
     "metadata": {},
     "output_type": "execute_result"
    }
   ],
   "source": [
    "residuals=np.subtract(f_pred, f_test)\n",
    "pd.DataFrame(residuals).describe()"
   ]
  },
  {
   "cell_type": "code",
   "execution_count": 143,
   "metadata": {},
   "outputs": [
    {
     "data": {
      "image/png": "[encoded data removed]",
      "text/plain": [
       "<Figure size 432x288 with 1 Axes>"
      ]
     },
     "metadata": {
      "needs_background": "light"
     },
     "output_type": "display_data"
    }
   ],
   "source": [
    "plt.scatter(f_pred, residuals, color='black')\n",
    "plt.ylabel('residual')\n",
    "plt.xlabel('fitted values')\n",
    "plt.axhline(y= residuals.mean(), color='red', linewidth=1)\n",
    "plt.show()"
   ]
  },
  {
   "cell_type": "markdown",
   "metadata": {},
   "source": [
    ">This looks bad as although our residuals are centered around a mean that is very close to 0, there is a glaringly obvious pattern."
   ]
  },
  {
   "cell_type": "markdown",
   "metadata": {},
   "source": [
    "#### Bartlett's test"
   ]
  },
  {
   "cell_type": "code",
   "execution_count": 144,
   "metadata": {},
   "outputs": [
    {
     "name": "stdout",
     "output_type": "stream",
     "text": [
      "inf\n",
      "the variances are homogeneous!\n"
     ]
    }
   ],
   "source": [
    "# A Bartlett's test is used. It establishes a null hypothesis that the variance\n",
    "# is equal for all data points and that the new hypothesis that the variance is \n",
    "# different for at least one pair of the data points.\n",
    "test_result, p_value = sp.stats.bartlett(f_pred, residuals)\n",
    "\n",
    "# To interpret the results we must also compute a critical value of the chi squared distribution\n",
    "degree_of_freedom = len(f_pred)-1\n",
    "probability = 1 - p_value\n",
    "\n",
    "critical_value = sp.stats.chi2.ppf(probability, degree_of_freedom)\n",
    "print(critical_value)\n",
    "\n",
    "# If the test_result is greater than the critical value, then we reject our null\n",
    "# hypothesis. This would mean that there are patterns to the variance of the data\n",
    "\n",
    "# Otherwise, we can identify no patterns, and we accept the null hypothesis that \n",
    "# the variance is homogeneous across our data\n",
    "\n",
    "if (test_result > critical_value):\n",
    "  print('the variances are unequal, and the model should be reassessed')\n",
    "else:\n",
    "  print('the variances are homogeneous!')\n",
    "\n"
   ]
  },
  {
   "cell_type": "markdown",
   "metadata": {},
   "source": [
    "### Approach 2: Logistic regression"
   ]
  },
  {
   "cell_type": "code",
   "execution_count": 73,
   "metadata": {},
   "outputs": [],
   "source": [
    "y=cleaned.home_performance"
   ]
  },
  {
   "cell_type": "code",
   "execution_count": 74,
   "metadata": {},
   "outputs": [
    {
     "data": {
      "text/plain": [
       "Index([                     'date',                 'home_team',\n",
       "                       'away_team',                'home_score',\n",
       "                      'away_score',                   'neutral',\n",
       "                            'year',                     'month',\n",
       "                'home_performance',            'home_team_rank',\n",
       "          'home_team_total_points', 'home_team_previous_points',\n",
       "           'home_team_rank_change',                 'rank_date',\n",
       "                  'away_team_rank',    'away_team_total_points',\n",
       "       'away_team_previous_points',     'away_team_rank_change',\n",
       "                        'Friendly',                     'Other',\n",
       "                       'World cup',                       False,\n",
       "                              True],\n",
       "      dtype='object')"
      ]
     },
     "execution_count": 74,
     "metadata": {},
     "output_type": "execute_result"
    }
   ],
   "source": [
    "cleaned.columns\n"
   ]
  },
  {
   "cell_type": "code",
   "execution_count": 75,
   "metadata": {},
   "outputs": [
    {
     "data": {
      "text/html": [
       "<div>\n",
       "<style scoped>\n",
       "    .dataframe tbody tr th:only-of-type {\n",
       "        vertical-align: middle;\n",
       "    }\n",
       "\n",
       "    .dataframe tbody tr th {\n",
       "        vertical-align: top;\n",
       "    }\n",
       "\n",
       "    .dataframe thead th {\n",
       "        text-align: right;\n",
       "    }\n",
       "</style>\n",
       "<table border=\"1\" class=\"dataframe\">\n",
       "  <thead>\n",
       "    <tr style=\"text-align: right;\">\n",
       "      <th></th>\n",
       "      <th>date</th>\n",
       "      <th>home_team</th>\n",
       "      <th>away_team</th>\n",
       "      <th>home_score</th>\n",
       "      <th>away_score</th>\n",
       "      <th>neutral</th>\n",
       "      <th>year</th>\n",
       "      <th>month</th>\n",
       "      <th>home_performance</th>\n",
       "      <th>home_team_rank</th>\n",
       "      <th>...</th>\n",
       "      <th>rank_date</th>\n",
       "      <th>away_team_rank</th>\n",
       "      <th>away_team_total_points</th>\n",
       "      <th>away_team_previous_points</th>\n",
       "      <th>away_team_rank_change</th>\n",
       "      <th>Friendly</th>\n",
       "      <th>Other</th>\n",
       "      <th>World cup</th>\n",
       "      <th>False</th>\n",
       "      <th>True</th>\n",
       "    </tr>\n",
       "  </thead>\n",
       "  <tbody>\n",
       "    <tr>\n",
       "      <th>0</th>\n",
       "      <td>1993-08-08</td>\n",
       "      <td>Bolivia</td>\n",
       "      <td>Uruguay</td>\n",
       "      <td>3</td>\n",
       "      <td>1</td>\n",
       "      <td>False</td>\n",
       "      <td>1993</td>\n",
       "      <td>8</td>\n",
       "      <td>Win</td>\n",
       "      <td>59.0</td>\n",
       "      <td>...</td>\n",
       "      <td>1993-08-08</td>\n",
       "      <td>22.0</td>\n",
       "      <td>0.0</td>\n",
       "      <td>47.0</td>\n",
       "      <td>-6.0</td>\n",
       "      <td>0</td>\n",
       "      <td>1</td>\n",
       "      <td>0</td>\n",
       "      <td>1</td>\n",
       "      <td>0</td>\n",
       "    </tr>\n",
       "    <tr>\n",
       "      <th>1</th>\n",
       "      <td>1993-08-08</td>\n",
       "      <td>Brazil</td>\n",
       "      <td>Mexico</td>\n",
       "      <td>1</td>\n",
       "      <td>1</td>\n",
       "      <td>False</td>\n",
       "      <td>1993</td>\n",
       "      <td>8</td>\n",
       "      <td>Draw</td>\n",
       "      <td>8.0</td>\n",
       "      <td>...</td>\n",
       "      <td>1993-08-08</td>\n",
       "      <td>14.0</td>\n",
       "      <td>0.0</td>\n",
       "      <td>42.0</td>\n",
       "      <td>11.0</td>\n",
       "      <td>1</td>\n",
       "      <td>0</td>\n",
       "      <td>0</td>\n",
       "      <td>1</td>\n",
       "      <td>0</td>\n",
       "    </tr>\n",
       "    <tr>\n",
       "      <th>2</th>\n",
       "      <td>1993-08-08</td>\n",
       "      <td>Ecuador</td>\n",
       "      <td>Venezuela</td>\n",
       "      <td>5</td>\n",
       "      <td>0</td>\n",
       "      <td>False</td>\n",
       "      <td>1993</td>\n",
       "      <td>8</td>\n",
       "      <td>Win</td>\n",
       "      <td>35.0</td>\n",
       "      <td>...</td>\n",
       "      <td>1993-08-08</td>\n",
       "      <td>94.0</td>\n",
       "      <td>0.0</td>\n",
       "      <td>4.0</td>\n",
       "      <td>31.0</td>\n",
       "      <td>0</td>\n",
       "      <td>1</td>\n",
       "      <td>0</td>\n",
       "      <td>1</td>\n",
       "      <td>0</td>\n",
       "    </tr>\n",
       "    <tr>\n",
       "      <th>3</th>\n",
       "      <td>1993-08-08</td>\n",
       "      <td>Guinea</td>\n",
       "      <td>Sierra Leone</td>\n",
       "      <td>1</td>\n",
       "      <td>0</td>\n",
       "      <td>False</td>\n",
       "      <td>1993</td>\n",
       "      <td>8</td>\n",
       "      <td>Win</td>\n",
       "      <td>65.0</td>\n",
       "      <td>...</td>\n",
       "      <td>1993-08-08</td>\n",
       "      <td>86.0</td>\n",
       "      <td>0.0</td>\n",
       "      <td>16.0</td>\n",
       "      <td>-7.0</td>\n",
       "      <td>1</td>\n",
       "      <td>0</td>\n",
       "      <td>0</td>\n",
       "      <td>1</td>\n",
       "      <td>0</td>\n",
       "    </tr>\n",
       "    <tr>\n",
       "      <th>4</th>\n",
       "      <td>1993-08-08</td>\n",
       "      <td>Paraguay</td>\n",
       "      <td>Argentina</td>\n",
       "      <td>1</td>\n",
       "      <td>3</td>\n",
       "      <td>False</td>\n",
       "      <td>1993</td>\n",
       "      <td>8</td>\n",
       "      <td>Loss</td>\n",
       "      <td>67.0</td>\n",
       "      <td>...</td>\n",
       "      <td>1993-08-08</td>\n",
       "      <td>5.0</td>\n",
       "      <td>0.0</td>\n",
       "      <td>51.0</td>\n",
       "      <td>5.0</td>\n",
       "      <td>0</td>\n",
       "      <td>1</td>\n",
       "      <td>0</td>\n",
       "      <td>1</td>\n",
       "      <td>0</td>\n",
       "    </tr>\n",
       "  </tbody>\n",
       "</table>\n",
       "<p>5 rows × 23 columns</p>\n",
       "</div>"
      ],
      "text/plain": [
       "        date home_team     away_team  home_score  away_score  neutral  year  \\\n",
       "0 1993-08-08   Bolivia       Uruguay           3           1    False  1993   \n",
       "1 1993-08-08    Brazil        Mexico           1           1    False  1993   \n",
       "2 1993-08-08   Ecuador     Venezuela           5           0    False  1993   \n",
       "3 1993-08-08    Guinea  Sierra Leone           1           0    False  1993   \n",
       "4 1993-08-08  Paraguay     Argentina           1           3    False  1993   \n",
       "\n",
       "   month home_performance  home_team_rank  ...  rank_date  away_team_rank  \\\n",
       "0      8              Win            59.0  ... 1993-08-08            22.0   \n",
       "1      8             Draw             8.0  ... 1993-08-08            14.0   \n",
       "2      8              Win            35.0  ... 1993-08-08            94.0   \n",
       "3      8              Win            65.0  ... 1993-08-08            86.0   \n",
       "4      8             Loss            67.0  ... 1993-08-08             5.0   \n",
       "\n",
       "   away_team_total_points away_team_previous_points  away_team_rank_change  \\\n",
       "0                     0.0                      47.0                   -6.0   \n",
       "1                     0.0                      42.0                   11.0   \n",
       "2                     0.0                       4.0                   31.0   \n",
       "3                     0.0                      16.0                   -7.0   \n",
       "4                     0.0                      51.0                    5.0   \n",
       "\n",
       "   Friendly  Other  World cup  False  True  \n",
       "0         0      1          0      1     0  \n",
       "1         1      0          0      1     0  \n",
       "2         0      1          0      1     0  \n",
       "3         1      0          0      1     0  \n",
       "4         0      1          0      1     0  \n",
       "\n",
       "[5 rows x 23 columns]"
      ]
     },
     "execution_count": 75,
     "metadata": {},
     "output_type": "execute_result"
    }
   ],
   "source": [
    "cleaned.head()"
   ]
  },
  {
   "cell_type": "code",
   "execution_count": 76,
   "metadata": {
    "scrolled": true
   },
   "outputs": [
    {
     "data": {
      "text/html": [
       "<div>\n",
       "<style scoped>\n",
       "    .dataframe tbody tr th:only-of-type {\n",
       "        vertical-align: middle;\n",
       "    }\n",
       "\n",
       "    .dataframe tbody tr th {\n",
       "        vertical-align: top;\n",
       "    }\n",
       "\n",
       "    .dataframe thead th {\n",
       "        text-align: right;\n",
       "    }\n",
       "</style>\n",
       "<table border=\"1\" class=\"dataframe\">\n",
       "  <thead>\n",
       "    <tr style=\"text-align: right;\">\n",
       "      <th></th>\n",
       "      <th>home_team_rank</th>\n",
       "      <th>home_team_total_points</th>\n",
       "      <th>home_team_previous_points</th>\n",
       "      <th>home_team_rank_change</th>\n",
       "      <th>rank_date</th>\n",
       "      <th>away_team_rank</th>\n",
       "      <th>away_team_total_points</th>\n",
       "      <th>away_team_previous_points</th>\n",
       "      <th>away_team_rank_change</th>\n",
       "      <th>Friendly</th>\n",
       "      <th>Other</th>\n",
       "      <th>World cup</th>\n",
       "      <th>False</th>\n",
       "      <th>True</th>\n",
       "    </tr>\n",
       "  </thead>\n",
       "  <tbody>\n",
       "    <tr>\n",
       "      <th>0</th>\n",
       "      <td>59.0</td>\n",
       "      <td>0.0</td>\n",
       "      <td>13.0</td>\n",
       "      <td>28.0</td>\n",
       "      <td>1993-08-08</td>\n",
       "      <td>22.0</td>\n",
       "      <td>0.0</td>\n",
       "      <td>47.0</td>\n",
       "      <td>-6.0</td>\n",
       "      <td>0</td>\n",
       "      <td>1</td>\n",
       "      <td>0</td>\n",
       "      <td>1</td>\n",
       "      <td>0</td>\n",
       "    </tr>\n",
       "    <tr>\n",
       "      <th>1</th>\n",
       "      <td>8.0</td>\n",
       "      <td>0.0</td>\n",
       "      <td>55.0</td>\n",
       "      <td>-5.0</td>\n",
       "      <td>1993-08-08</td>\n",
       "      <td>14.0</td>\n",
       "      <td>0.0</td>\n",
       "      <td>42.0</td>\n",
       "      <td>11.0</td>\n",
       "      <td>1</td>\n",
       "      <td>0</td>\n",
       "      <td>0</td>\n",
       "      <td>1</td>\n",
       "      <td>0</td>\n",
       "    </tr>\n",
       "    <tr>\n",
       "      <th>2</th>\n",
       "      <td>35.0</td>\n",
       "      <td>0.0</td>\n",
       "      <td>23.0</td>\n",
       "      <td>30.0</td>\n",
       "      <td>1993-08-08</td>\n",
       "      <td>94.0</td>\n",
       "      <td>0.0</td>\n",
       "      <td>4.0</td>\n",
       "      <td>31.0</td>\n",
       "      <td>0</td>\n",
       "      <td>1</td>\n",
       "      <td>0</td>\n",
       "      <td>1</td>\n",
       "      <td>0</td>\n",
       "    </tr>\n",
       "    <tr>\n",
       "      <th>3</th>\n",
       "      <td>65.0</td>\n",
       "      <td>0.0</td>\n",
       "      <td>23.0</td>\n",
       "      <td>-2.0</td>\n",
       "      <td>1993-08-08</td>\n",
       "      <td>86.0</td>\n",
       "      <td>0.0</td>\n",
       "      <td>16.0</td>\n",
       "      <td>-7.0</td>\n",
       "      <td>1</td>\n",
       "      <td>0</td>\n",
       "      <td>0</td>\n",
       "      <td>1</td>\n",
       "      <td>0</td>\n",
       "    </tr>\n",
       "    <tr>\n",
       "      <th>4</th>\n",
       "      <td>67.0</td>\n",
       "      <td>0.0</td>\n",
       "      <td>22.0</td>\n",
       "      <td>1.0</td>\n",
       "      <td>1993-08-08</td>\n",
       "      <td>5.0</td>\n",
       "      <td>0.0</td>\n",
       "      <td>51.0</td>\n",
       "      <td>5.0</td>\n",
       "      <td>0</td>\n",
       "      <td>1</td>\n",
       "      <td>0</td>\n",
       "      <td>1</td>\n",
       "      <td>0</td>\n",
       "    </tr>\n",
       "  </tbody>\n",
       "</table>\n",
       "</div>"
      ],
      "text/plain": [
       "   home_team_rank  home_team_total_points  home_team_previous_points  \\\n",
       "0            59.0                     0.0                       13.0   \n",
       "1             8.0                     0.0                       55.0   \n",
       "2            35.0                     0.0                       23.0   \n",
       "3            65.0                     0.0                       23.0   \n",
       "4            67.0                     0.0                       22.0   \n",
       "\n",
       "   home_team_rank_change  rank_date  away_team_rank  away_team_total_points  \\\n",
       "0                   28.0 1993-08-08            22.0                     0.0   \n",
       "1                   -5.0 1993-08-08            14.0                     0.0   \n",
       "2                   30.0 1993-08-08            94.0                     0.0   \n",
       "3                   -2.0 1993-08-08            86.0                     0.0   \n",
       "4                    1.0 1993-08-08             5.0                     0.0   \n",
       "\n",
       "   away_team_previous_points  away_team_rank_change  Friendly  Other  \\\n",
       "0                       47.0                   -6.0         0      1   \n",
       "1                       42.0                   11.0         1      0   \n",
       "2                        4.0                   31.0         0      1   \n",
       "3                       16.0                   -7.0         1      0   \n",
       "4                       51.0                    5.0         0      1   \n",
       "\n",
       "   World cup  False  True  \n",
       "0          0      1     0  \n",
       "1          0      1     0  \n",
       "2          0      1     0  \n",
       "3          0      1     0  \n",
       "4          0      1     0  "
      ]
     },
     "execution_count": 76,
     "metadata": {},
     "output_type": "execute_result"
    }
   ],
   "source": [
    "logistic=cleaned.drop(columns=['home_team', 'away_team', 'neutral', 'year', 'month', 'home_performance', 'home_score',\n",
    "                                       'away_score', 'date'])\n",
    "logistic.head()"
   ]
  },
  {
   "cell_type": "code",
   "execution_count": 77,
   "metadata": {},
   "outputs": [],
   "source": [
    "logistic=logistic.drop(columns=['rank_date'])"
   ]
  },
  {
   "cell_type": "code",
   "execution_count": 79,
   "metadata": {},
   "outputs": [],
   "source": [
    "x=logistic"
   ]
  },
  {
   "cell_type": "code",
   "execution_count": 80,
   "metadata": {},
   "outputs": [
    {
     "name": "stdout",
     "output_type": "stream",
     "text": [
      "LR: 0.583555 (0.011128)\n"
     ]
    },
    {
     "name": "stderr",
     "output_type": "stream",
     "text": [
      "/usr/local/lib/python3.7/dist-packages/sklearn/discriminant_analysis.py:388: UserWarning: Variables are collinear.\n",
      "  warnings.warn(\"Variables are collinear.\")\n",
      "/usr/local/lib/python3.7/dist-packages/sklearn/discriminant_analysis.py:388: UserWarning: Variables are collinear.\n",
      "  warnings.warn(\"Variables are collinear.\")\n",
      "/usr/local/lib/python3.7/dist-packages/sklearn/discriminant_analysis.py:388: UserWarning: Variables are collinear.\n",
      "  warnings.warn(\"Variables are collinear.\")\n",
      "/usr/local/lib/python3.7/dist-packages/sklearn/discriminant_analysis.py:388: UserWarning: Variables are collinear.\n",
      "  warnings.warn(\"Variables are collinear.\")\n",
      "/usr/local/lib/python3.7/dist-packages/sklearn/discriminant_analysis.py:388: UserWarning: Variables are collinear.\n",
      "  warnings.warn(\"Variables are collinear.\")\n",
      "/usr/local/lib/python3.7/dist-packages/sklearn/discriminant_analysis.py:388: UserWarning: Variables are collinear.\n",
      "  warnings.warn(\"Variables are collinear.\")\n",
      "/usr/local/lib/python3.7/dist-packages/sklearn/discriminant_analysis.py:388: UserWarning: Variables are collinear.\n",
      "  warnings.warn(\"Variables are collinear.\")\n",
      "/usr/local/lib/python3.7/dist-packages/sklearn/discriminant_analysis.py:388: UserWarning: Variables are collinear.\n",
      "  warnings.warn(\"Variables are collinear.\")\n"
     ]
    },
    {
     "name": "stdout",
     "output_type": "stream",
     "text": [
      "LDA: 0.580260 (0.012234)\n",
      "KNN: 0.496820 (0.009038)\n",
      "CART: 0.470615 (0.010167)\n",
      "NB: 0.534288 (0.006721)\n",
      "SVM: 0.479043 (0.008617)\n"
     ]
    }
   ],
   "source": [
    "x_train, x_test, y_train, y_test = train_test_split(x, y, test_size=0.2, random_state=0)\n",
    "# Spot Check Algorithms\n",
    "models = []\n",
    "models.append(('LR', LogisticRegression(solver='liblinear', multi_class='ovr')))\n",
    "models.append(('LDA', LinearDiscriminantAnalysis()))\n",
    "models.append(('KNN', KNeighborsClassifier()))\n",
    "models.append(('CART', DecisionTreeClassifier()))\n",
    "models.append(('NB', GaussianNB()))\n",
    "models.append(('SVM', SVC(gamma='auto')))\n",
    "# evaluate each model in turn\n",
    "results = []\n",
    "names = []\n",
    "for name, model in models:\n",
    "   kfold = model_selection.KFold(n_splits=8, random_state=0)\n",
    "   cv_results = model_selection.cross_val_score(model, x_train, y_train, cv=kfold, scoring='accuracy')\n",
    "   results.append(cv_results)\n",
    "   names.append(name)\n",
    "   msg = \"%s: %f (%f)\" % (name, cv_results.mean(), cv_results.std())\n",
    "   print(msg)"
   ]
  },
  {
   "cell_type": "code",
   "execution_count": 151,
   "metadata": {
    "scrolled": true
   },
   "outputs": [
    {
     "data": {
      "image/png": "[encoded data removed]",
      "text/plain": [
       "<Figure size 432x288 with 1 Axes>"
      ]
     },
     "metadata": {
      "needs_background": "light"
     },
     "output_type": "display_data"
    }
   ],
   "source": [
    "# Compare Algorithms\n",
    "fig = plt.figure()\n",
    "fig.suptitle('Algorithm Comparison')\n",
    "ax = fig.add_subplot(111)\n",
    "plt.boxplot(results)\n",
    "ax.set_xticklabels(names)\n",
    "plt.show()"
   ]
  },
  {
   "cell_type": "markdown",
   "metadata": {},
   "source": [
    ">Logistic Regression and Decision tree classifier are the two algorithms with high accuracy. However, only Logistic Regression will be used for the analysis. "
   ]
  },
  {
   "cell_type": "code",
   "execution_count": 81,
   "metadata": {
    "scrolled": false
   },
   "outputs": [
    {
     "name": "stdout",
     "output_type": "stream",
     "text": [
      "              precision    recall  f1-score   support\n",
      "\n",
      "        Draw       0.00      0.00      0.00       843\n",
      "        Loss       0.51      0.60      0.55       894\n",
      "         Win       0.59      0.86      0.70      1526\n",
      "\n",
      "    accuracy                           0.57      3263\n",
      "   macro avg       0.37      0.49      0.42      3263\n",
      "weighted avg       0.42      0.57      0.48      3263\n",
      "\n",
      "Accuracy;  0.5651241189089795\n",
      "[[   0  295  548]\n",
      " [   2  538  354]\n",
      " [   1  219 1306]]\n"
     ]
    },
    {
     "data": {
      "text/plain": [
       "<matplotlib.axes._subplots.AxesSubplot at 0x7fb6850d7400>"
      ]
     },
     "execution_count": 81,
     "metadata": {},
     "output_type": "execute_result"
    },
    {
     "data": {
      "image/png": "[encoded data removed]",
      "text/plain": [
       "<Figure size 432x288 with 2 Axes>"
      ]
     },
     "metadata": {
      "needs_background": "light"
     },
     "output_type": "display_data"
    }
   ],
   "source": [
    "x_train, x_test, y_train, y_test=train_test_split(x,y,test_size=0.2, random_state=0)\n",
    "classify=LogisticRegression(random_state=0, solver='liblinear', multi_class='ovr')\n",
    "classify.fit(x_train, y_train)\n",
    "y_pred=classify.predict(x_test)\n",
    "\n",
    "cm=confusion_matrix(y_test, y_pred)\n",
    "acc=accuracy_score(y_test, y_pred)\n",
    "print(classification_report(y_test, y_pred))\n",
    "#print('F1 score; ', f1_score(y_test, y_pred))\n",
    "print('Accuracy; ', acc)\n",
    "print(cm)\n",
    "\n",
    "\n",
    "ax=sns.heatmap(cm, annot=True)\n",
    "ax"
   ]
  },
  {
   "cell_type": "markdown",
   "metadata": {
    "colab_type": "text",
    "id": "lQ2G4ZPDVOXE"
   },
   "source": [
    "## 8. Challenging the solution"
   ]
  },
  {
   "cell_type": "markdown",
   "metadata": {
    "colab_type": "text",
    "id": "jWVGKGuiYMWg"
   },
   "source": [
    "> The polynomial approach yielded disappointing results as the number of goals scored and conceded is not only dependent on the FIFA ranking. The models therefore cannot be used to predict the number of goals with any level of accuracy.\n",
    "The Multiple regression approach employed to predict the number of goals scored by home and away team had RMSE scores of more than 50% of the mean. They should therefore be disregarded.\n",
    "This is mainly because the outcome of a match is highly dependent on other variables like key player fitness, morale, playing surface, time of match and red cards in the game that were not present in the dataset.\n",
    "\n",
    "\n",
    "\n"
   ]
  },
  {
   "cell_type": "markdown",
   "metadata": {
    "colab": {},
    "colab_type": "code",
    "id": "j3x3SXZ4XT_L"
   },
   "source": [
    "> Approach 2 was our best performing model as we could predict with 57% accuracy whether a team would win, draw or loose at home based on the tounament, if the ground was neutral and home team and away team FIFA ranking.\n",
    "However, this result is still poor as it means that we can predict with a level of accuracy only marginally better than if it the result was picked at random. \n",
    "To increase the accuracy of the model, we need more data points to be able to predict an outcome of the match conclusively."
   ]
  },
  {
   "cell_type": "code",
   "execution_count": null,
   "metadata": {},
   "outputs": [],
   "source": []
  }
 ],
 "metadata": {
  "colab": {
   "collapsed_sections": [
    "kLG2VTrnTvYL",
    "XecOwPNorl2W",
    "J4wfHZwQrs-t",
    "a9BPYqunry97",
    "7KMRBJ7zr9HD",
    "zSGyg6kWsBUl",
    "iUNbvIvnT7ep",
    "OI3P3YnHUEBk",
    "ckfufNrcUHeH",
    "6XC_g-zKxe-r",
    "FlBMxEDBUc9B",
    "rF2ABPsHUtbZ",
    "vTbdjSrhVIiT",
    "lQ2G4ZPDVOXE",
    "xrmHVMVsVS--",
    "HPQviDmNtta8",
    "qjFHK1CKty7o",
    "HSsicSdvt4Zs"
   ],
   "name": "Supervised Learning with Exploratory Data Analysis - Exercise 1",
   "provenance": [],
   "toc_visible": true,
   "version": "0.3.2"
  },
  "kernelspec": {
   "display_name": "Python 3",
   "language": "python",
   "name": "python3"
  },
  "language_info": {
   "codemirror_mode": {
    "name": "ipython",
    "version": 3
   },
   "file_extension": ".py",
   "mimetype": "text/x-python",
   "name": "python",
   "nbconvert_exporter": "python",
   "pygments_lexer": "ipython3",
   "version": "3.7.3"
  }
 },
 "nbformat": 4,
 "nbformat_minor": 1
}
