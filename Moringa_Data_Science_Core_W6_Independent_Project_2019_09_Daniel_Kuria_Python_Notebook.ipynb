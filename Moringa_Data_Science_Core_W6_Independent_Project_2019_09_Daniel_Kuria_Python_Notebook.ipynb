{
  "nbformat": 4,
  "nbformat_minor": 0,
  "metadata": {
    "colab": {
      "name": "Moringa_Data_Science_Core_W6_Independent_Project_2019_09_Daniel_Kuria_Python_Notebook.ipynb",
      "version": "0.3.2",
      "provenance": [],
      "collapsed_sections": [
        "kLG2VTrnTvYL",
        "XecOwPNorl2W",
        "J4wfHZwQrs-t",
        "a9BPYqunry97",
        "7KMRBJ7zr9HD",
        "zSGyg6kWsBUl",
        "iUNbvIvnT7ep",
        "OI3P3YnHUEBk",
        "ckfufNrcUHeH",
        "6XC_g-zKxe-r",
        "FlBMxEDBUc9B",
        "rF2ABPsHUtbZ",
        "vTbdjSrhVIiT",
        "lQ2G4ZPDVOXE",
        "xrmHVMVsVS--",
        "HPQviDmNtta8",
        "qjFHK1CKty7o",
        "HSsicSdvt4Zs"
      ],
      "toc_visible": true,
      "include_colab_link": true
    },
    "kernelspec": {
      "display_name": "Python 3",
      "language": "python",
      "name": "python3"
    },
    "language_info": {
      "codemirror_mode": {
        "name": "ipython",
        "version": 3
      },
      "file_extension": ".py",
      "mimetype": "text/x-python",
      "name": "python",
      "nbconvert_exporter": "python",
      "pygments_lexer": "ipython3",
      "version": "3.7.3"
    }
  },
  "cells": [
    {
      "cell_type": "markdown",
      "metadata": {
        "id": "view-in-github",
        "colab_type": "text"
      },
      "source": [
        "<a href=\"https://colab.research.google.com/github/KuriaDan/IPW6/blob/master/Moringa_Data_Science_Core_W6_Independent_Project_2019_09_Daniel_Kuria_Python_Notebook.ipynb\" target=\"_parent\"><img src=\"https://colab.research.google.com/assets/colab-badge.svg\" alt=\"Open In Colab\"/></a>"
      ]
    },
    {
      "cell_type": "markdown",
      "metadata": {
        "colab_type": "text",
        "id": "xMxtPsqcTsSH"
      },
      "source": [
        "# National team match prediction"
      ]
    },
    {
      "cell_type": "markdown",
      "metadata": {
        "colab_type": "text",
        "id": "kLG2VTrnTvYL"
      },
      "source": [
        "## 1. Defining the Question"
      ]
    },
    {
      "cell_type": "markdown",
      "metadata": {
        "colab_type": "text",
        "id": "XecOwPNorl2W"
      },
      "source": [
        "### a) Specifying the Question"
      ]
    },
    {
      "cell_type": "markdown",
      "metadata": {
        "colab_type": "text",
        "id": "8l3-hBO6bODP"
      },
      "source": [
        "\n",
        "> You have been recruited as a football analyst in a company - Mchezopesa Ltd and tasked to accomplish the task below.\n",
        "\n",
        ">A Prediction result of a game between team 1 and team 2, based on who's home and who's away, and on whether or not the game is friendly (include rank in your training).\n",
        "\n",
        ">You have two possible approaches (as  shown below) given the datasets that will be provided\n",
        "\n",
        ">Input: Home team, Away team, Tournament type (World cup, Friendly, Other)\n",
        "\n",
        ">Approach 1: Polynomial approach\n",
        "\n",
        ">What to train given:\n",
        "\n",
        ">Rank of home team\n",
        "Rank of away team\n",
        "Tournament type\n",
        "Model 1: Predict how many goals the home team scores\n",
        "\n",
        ">Model 2: Predict how many goals the away team scores\n",
        "\n",
        " \n",
        "\n",
        ">Approach 2 Logistic approach\n",
        "\n",
        ">Feature Engineering: Figure out from the home team’s perspective if the game is a Win, Lose or Draw (W, L, D)\n",
        "\n"
      ]
    },
    {
      "cell_type": "markdown",
      "metadata": {
        "colab_type": "text",
        "id": "J4wfHZwQrs-t"
      },
      "source": [
        "### b) Defining the Metric for Success"
      ]
    },
    {
      "cell_type": "markdown",
      "metadata": {
        "id": "syOqRv-U_2Dh",
        "colab_type": "text"
      },
      "source": [
        "> 1. Create a model that can predict if the home team wins, draws or loses with 95% or more accuracy.\n",
        "> 2. Create a model that can correctly predict number of goals scored by a team based on it's FIFA ranking.\n"
      ]
    },
    {
      "cell_type": "markdown",
      "metadata": {
        "colab_type": "text",
        "id": "a9BPYqunry97"
      },
      "source": [
        "### c) Understanding the context "
      ]
    },
    {
      "cell_type": "markdown",
      "metadata": {
        "id": "qQ2k-8FY_2Dk",
        "colab_type": "text"
      },
      "source": [
        "> The data provided in the results dataset is the results of national team matches from 1874 to 2019.\n",
        "> In the FIFA rankings dataset, the data is the historical ranking and variation of ranking of national teams with time from 1993 to 2018."
      ]
    },
    {
      "cell_type": "markdown",
      "metadata": {
        "colab_type": "text",
        "id": "7KMRBJ7zr9HD"
      },
      "source": [
        "### d) Recording the Experimental Design"
      ]
    },
    {
      "cell_type": "markdown",
      "metadata": {
        "id": "LQ5bGPB-_2Do",
        "colab_type": "text"
      },
      "source": [
        ">This project was carried out using the following procession:\n",
        "\n",
        ">1. Define the question, the metric for success, the context, experimental design taken and the appropriateness of the available data to answer the given question\n",
        "Expected flow for the assessment:\n",
        ">2. Perform your EDA\n",
        "- Perform any necessary feature engineering\n",
        "- Check of multicollinearity\n",
        "- Start building the model\n",
        "- Cross-validate the model\n",
        "- Compute RMSE\n",
        "- Create residual plots for your models, and assess their heteroscedasticity using Bartlett’s test\n",
        ">3. Perform appropriate regressions on the data including your justification\n",
        ">4. Challenge your solution by providing insights on how you can make improvements."
      ]
    },
    {
      "cell_type": "markdown",
      "metadata": {
        "colab_type": "text",
        "id": "iUNbvIvnT7ep"
      },
      "source": [
        "## 2. Reading the Data"
      ]
    },
    {
      "cell_type": "code",
      "metadata": {
        "id": "YHr9mBSW_2Dq",
        "colab_type": "code",
        "colab": {}
      },
      "source": [
        "# Loading the Libraries we will need\n",
        "import pandas as pd\n",
        "import numpy as np\n",
        "import seaborn as sns\n",
        "sns.set_style('darkgrid')\n",
        "import matplotlib.pyplot as plt\n",
        "from sklearn.preprocessing import PolynomialFeatures\n",
        "from sklearn.model_selection import train_test_split\n",
        "from sklearn.linear_model import LinearRegression\n",
        "from sklearn.model_selection import train_test_split\n",
        "from sklearn.decomposition import PCA\n",
        "from xgboost import XGBRegressor\n",
        "from sklearn import metrics\n",
        "from sklearn.preprocessing import StandardScaler\n",
        "from sklearn.discriminant_analysis import LinearDiscriminantAnalysis as LDA\n",
        "from sklearn.linear_model import LogisticRegression\n",
        "from sklearn.metrics import confusion_matrix, accuracy_score, classification_report, f1_score\n",
        "from sklearn import model_selection\n",
        "from sklearn.tree import DecisionTreeClassifier\n",
        "from sklearn.neighbors import KNeighborsClassifier\n",
        "from sklearn.discriminant_analysis import LinearDiscriminantAnalysis\n",
        "from sklearn.naive_bayes import GaussianNB\n",
        "from sklearn.svm import SVC\n",
        "import random\n",
        "from sklearn.model_selection import GridSearchC\n",
        "import scipy as sp"
      ],
      "execution_count": 0,
      "outputs": []
    },
    {
      "cell_type": "code",
      "metadata": {
        "colab_type": "code",
        "id": "XJn2KjW-WMlG",
        "colab": {}
      },
      "source": [
        "# Loading the Datasets\n",
        "results = pd.read_csv('results.csv')\n",
        "fifa_ranking = pd.read_csv('fifa_ranking.csv')"
      ],
      "execution_count": 0,
      "outputs": []
    },
    {
      "cell_type": "markdown",
      "metadata": {
        "colab_type": "text",
        "id": "OI3P3YnHUEBk"
      },
      "source": [
        "## 3. Checking the Data"
      ]
    },
    {
      "cell_type": "code",
      "metadata": {
        "colab_type": "code",
        "id": "YjSVNwgptHxY",
        "scrolled": false,
        "colab": {},
        "outputId": "8ede9d37-73bd-4281-e189-2d8c8f46e1e1"
      },
      "source": [
        "# Determining the no. of records in our dataset\n",
        "#\n",
        "print(results.info())\n",
        "print('\\n')\n",
        "print('*****************************************')\n",
        "print('\\n')\n",
        "print(fifa_ranking.info())\n"
      ],
      "execution_count": 0,
      "outputs": [
        {
          "output_type": "stream",
          "text": [
            "<class 'pandas.core.frame.DataFrame'>\n",
            "RangeIndex: 40839 entries, 0 to 40838\n",
            "Data columns (total 9 columns):\n",
            "date          40839 non-null object\n",
            "home_team     40839 non-null object\n",
            "away_team     40839 non-null object\n",
            "home_score    40839 non-null int64\n",
            "away_score    40839 non-null int64\n",
            "tournament    40839 non-null object\n",
            "city          40839 non-null object\n",
            "country       40839 non-null object\n",
            "neutral       40839 non-null bool\n",
            "dtypes: bool(1), int64(2), object(6)\n",
            "memory usage: 2.5+ MB\n",
            "None\n",
            "\n",
            "\n",
            "*****************************************\n",
            "\n",
            "\n",
            "<class 'pandas.core.frame.DataFrame'>\n",
            "RangeIndex: 57793 entries, 0 to 57792\n",
            "Data columns (total 16 columns):\n",
            "rank                       57793 non-null int64\n",
            "country_full               57793 non-null object\n",
            "country_abrv               57793 non-null object\n",
            "total_points               57793 non-null float64\n",
            "previous_points            57793 non-null int64\n",
            "rank_change                57793 non-null int64\n",
            "cur_year_avg               57793 non-null float64\n",
            "cur_year_avg_weighted      57793 non-null float64\n",
            "last_year_avg              57793 non-null float64\n",
            "last_year_avg_weighted     57793 non-null float64\n",
            "two_year_ago_avg           57793 non-null float64\n",
            "two_year_ago_weighted      57793 non-null float64\n",
            "three_year_ago_avg         57793 non-null float64\n",
            "three_year_ago_weighted    57793 non-null float64\n",
            "confederation              57793 non-null object\n",
            "rank_date                  57793 non-null object\n",
            "dtypes: float64(9), int64(3), object(4)\n",
            "memory usage: 7.1+ MB\n",
            "None\n"
          ],
          "name": "stdout"
        }
      ]
    },
    {
      "cell_type": "markdown",
      "metadata": {
        "id": "tHYNSyxc_2D7",
        "colab_type": "raw"
      },
      "source": [
        "The Results dataset has 40893 entries.\n",
        "The Fifa Ranking dataset has 57793 entries."
      ]
    },
    {
      "cell_type": "code",
      "metadata": {
        "colab_type": "code",
        "id": "xHhTw5eKWr0n",
        "scrolled": true,
        "colab": {},
        "outputId": "90f3ffd4-7a54-40ad-bba1-d4ab1d43c70b"
      },
      "source": [
        "# Previewing the top of our results dataset\n",
        "#\n",
        "results.head()"
      ],
      "execution_count": 0,
      "outputs": [
        {
          "output_type": "execute_result",
          "data": {
            "text/html": [
              "<div>\n",
              "<style scoped>\n",
              "    .dataframe tbody tr th:only-of-type {\n",
              "        vertical-align: middle;\n",
              "    }\n",
              "\n",
              "    .dataframe tbody tr th {\n",
              "        vertical-align: top;\n",
              "    }\n",
              "\n",
              "    .dataframe thead th {\n",
              "        text-align: right;\n",
              "    }\n",
              "</style>\n",
              "<table border=\"1\" class=\"dataframe\">\n",
              "  <thead>\n",
              "    <tr style=\"text-align: right;\">\n",
              "      <th></th>\n",
              "      <th>date</th>\n",
              "      <th>home_team</th>\n",
              "      <th>away_team</th>\n",
              "      <th>home_score</th>\n",
              "      <th>away_score</th>\n",
              "      <th>tournament</th>\n",
              "      <th>city</th>\n",
              "      <th>country</th>\n",
              "      <th>neutral</th>\n",
              "    </tr>\n",
              "  </thead>\n",
              "  <tbody>\n",
              "    <tr>\n",
              "      <th>0</th>\n",
              "      <td>1872-11-30</td>\n",
              "      <td>Scotland</td>\n",
              "      <td>England</td>\n",
              "      <td>0</td>\n",
              "      <td>0</td>\n",
              "      <td>Friendly</td>\n",
              "      <td>Glasgow</td>\n",
              "      <td>Scotland</td>\n",
              "      <td>False</td>\n",
              "    </tr>\n",
              "    <tr>\n",
              "      <th>1</th>\n",
              "      <td>1873-03-08</td>\n",
              "      <td>England</td>\n",
              "      <td>Scotland</td>\n",
              "      <td>4</td>\n",
              "      <td>2</td>\n",
              "      <td>Friendly</td>\n",
              "      <td>London</td>\n",
              "      <td>England</td>\n",
              "      <td>False</td>\n",
              "    </tr>\n",
              "    <tr>\n",
              "      <th>2</th>\n",
              "      <td>1874-03-07</td>\n",
              "      <td>Scotland</td>\n",
              "      <td>England</td>\n",
              "      <td>2</td>\n",
              "      <td>1</td>\n",
              "      <td>Friendly</td>\n",
              "      <td>Glasgow</td>\n",
              "      <td>Scotland</td>\n",
              "      <td>False</td>\n",
              "    </tr>\n",
              "    <tr>\n",
              "      <th>3</th>\n",
              "      <td>1875-03-06</td>\n",
              "      <td>England</td>\n",
              "      <td>Scotland</td>\n",
              "      <td>2</td>\n",
              "      <td>2</td>\n",
              "      <td>Friendly</td>\n",
              "      <td>London</td>\n",
              "      <td>England</td>\n",
              "      <td>False</td>\n",
              "    </tr>\n",
              "    <tr>\n",
              "      <th>4</th>\n",
              "      <td>1876-03-04</td>\n",
              "      <td>Scotland</td>\n",
              "      <td>England</td>\n",
              "      <td>3</td>\n",
              "      <td>0</td>\n",
              "      <td>Friendly</td>\n",
              "      <td>Glasgow</td>\n",
              "      <td>Scotland</td>\n",
              "      <td>False</td>\n",
              "    </tr>\n",
              "  </tbody>\n",
              "</table>\n",
              "</div>"
            ],
            "text/plain": [
              "         date home_team away_team  home_score  away_score tournament     city  \\\n",
              "0  1872-11-30  Scotland   England           0           0   Friendly  Glasgow   \n",
              "1  1873-03-08   England  Scotland           4           2   Friendly   London   \n",
              "2  1874-03-07  Scotland   England           2           1   Friendly  Glasgow   \n",
              "3  1875-03-06   England  Scotland           2           2   Friendly   London   \n",
              "4  1876-03-04  Scotland   England           3           0   Friendly  Glasgow   \n",
              "\n",
              "    country  neutral  \n",
              "0  Scotland    False  \n",
              "1   England    False  \n",
              "2  Scotland    False  \n",
              "3   England    False  \n",
              "4  Scotland    False  "
            ]
          },
          "metadata": {
            "tags": []
          },
          "execution_count": 7
        }
      ]
    },
    {
      "cell_type": "code",
      "metadata": {
        "id": "QuCCHhHe_2EC",
        "colab_type": "code",
        "colab": {},
        "outputId": "ba6344d7-0991-443e-fb16-9265b760449e"
      },
      "source": [
        "# Previewing the top of the Fifa rankings dataset\n",
        "fifa_ranking.head()"
      ],
      "execution_count": 0,
      "outputs": [
        {
          "output_type": "execute_result",
          "data": {
            "text/html": [
              "<div>\n",
              "<style scoped>\n",
              "    .dataframe tbody tr th:only-of-type {\n",
              "        vertical-align: middle;\n",
              "    }\n",
              "\n",
              "    .dataframe tbody tr th {\n",
              "        vertical-align: top;\n",
              "    }\n",
              "\n",
              "    .dataframe thead th {\n",
              "        text-align: right;\n",
              "    }\n",
              "</style>\n",
              "<table border=\"1\" class=\"dataframe\">\n",
              "  <thead>\n",
              "    <tr style=\"text-align: right;\">\n",
              "      <th></th>\n",
              "      <th>rank</th>\n",
              "      <th>country_full</th>\n",
              "      <th>country_abrv</th>\n",
              "      <th>total_points</th>\n",
              "      <th>previous_points</th>\n",
              "      <th>rank_change</th>\n",
              "      <th>cur_year_avg</th>\n",
              "      <th>cur_year_avg_weighted</th>\n",
              "      <th>last_year_avg</th>\n",
              "      <th>last_year_avg_weighted</th>\n",
              "      <th>two_year_ago_avg</th>\n",
              "      <th>two_year_ago_weighted</th>\n",
              "      <th>three_year_ago_avg</th>\n",
              "      <th>three_year_ago_weighted</th>\n",
              "      <th>confederation</th>\n",
              "      <th>rank_date</th>\n",
              "    </tr>\n",
              "  </thead>\n",
              "  <tbody>\n",
              "    <tr>\n",
              "      <th>0</th>\n",
              "      <td>1</td>\n",
              "      <td>Germany</td>\n",
              "      <td>GER</td>\n",
              "      <td>0.0</td>\n",
              "      <td>57</td>\n",
              "      <td>0</td>\n",
              "      <td>0.0</td>\n",
              "      <td>0.0</td>\n",
              "      <td>0.0</td>\n",
              "      <td>0.0</td>\n",
              "      <td>0.0</td>\n",
              "      <td>0.0</td>\n",
              "      <td>0.0</td>\n",
              "      <td>0.0</td>\n",
              "      <td>UEFA</td>\n",
              "      <td>1993-08-08</td>\n",
              "    </tr>\n",
              "    <tr>\n",
              "      <th>1</th>\n",
              "      <td>2</td>\n",
              "      <td>Italy</td>\n",
              "      <td>ITA</td>\n",
              "      <td>0.0</td>\n",
              "      <td>57</td>\n",
              "      <td>0</td>\n",
              "      <td>0.0</td>\n",
              "      <td>0.0</td>\n",
              "      <td>0.0</td>\n",
              "      <td>0.0</td>\n",
              "      <td>0.0</td>\n",
              "      <td>0.0</td>\n",
              "      <td>0.0</td>\n",
              "      <td>0.0</td>\n",
              "      <td>UEFA</td>\n",
              "      <td>1993-08-08</td>\n",
              "    </tr>\n",
              "    <tr>\n",
              "      <th>2</th>\n",
              "      <td>3</td>\n",
              "      <td>Switzerland</td>\n",
              "      <td>SUI</td>\n",
              "      <td>0.0</td>\n",
              "      <td>50</td>\n",
              "      <td>9</td>\n",
              "      <td>0.0</td>\n",
              "      <td>0.0</td>\n",
              "      <td>0.0</td>\n",
              "      <td>0.0</td>\n",
              "      <td>0.0</td>\n",
              "      <td>0.0</td>\n",
              "      <td>0.0</td>\n",
              "      <td>0.0</td>\n",
              "      <td>UEFA</td>\n",
              "      <td>1993-08-08</td>\n",
              "    </tr>\n",
              "    <tr>\n",
              "      <th>3</th>\n",
              "      <td>4</td>\n",
              "      <td>Sweden</td>\n",
              "      <td>SWE</td>\n",
              "      <td>0.0</td>\n",
              "      <td>55</td>\n",
              "      <td>0</td>\n",
              "      <td>0.0</td>\n",
              "      <td>0.0</td>\n",
              "      <td>0.0</td>\n",
              "      <td>0.0</td>\n",
              "      <td>0.0</td>\n",
              "      <td>0.0</td>\n",
              "      <td>0.0</td>\n",
              "      <td>0.0</td>\n",
              "      <td>UEFA</td>\n",
              "      <td>1993-08-08</td>\n",
              "    </tr>\n",
              "    <tr>\n",
              "      <th>4</th>\n",
              "      <td>5</td>\n",
              "      <td>Argentina</td>\n",
              "      <td>ARG</td>\n",
              "      <td>0.0</td>\n",
              "      <td>51</td>\n",
              "      <td>5</td>\n",
              "      <td>0.0</td>\n",
              "      <td>0.0</td>\n",
              "      <td>0.0</td>\n",
              "      <td>0.0</td>\n",
              "      <td>0.0</td>\n",
              "      <td>0.0</td>\n",
              "      <td>0.0</td>\n",
              "      <td>0.0</td>\n",
              "      <td>CONMEBOL</td>\n",
              "      <td>1993-08-08</td>\n",
              "    </tr>\n",
              "  </tbody>\n",
              "</table>\n",
              "</div>"
            ],
            "text/plain": [
              "   rank country_full country_abrv  total_points  previous_points  rank_change  \\\n",
              "0     1      Germany          GER           0.0               57            0   \n",
              "1     2        Italy          ITA           0.0               57            0   \n",
              "2     3  Switzerland          SUI           0.0               50            9   \n",
              "3     4       Sweden          SWE           0.0               55            0   \n",
              "4     5    Argentina          ARG           0.0               51            5   \n",
              "\n",
              "   cur_year_avg  cur_year_avg_weighted  last_year_avg  last_year_avg_weighted  \\\n",
              "0           0.0                    0.0            0.0                     0.0   \n",
              "1           0.0                    0.0            0.0                     0.0   \n",
              "2           0.0                    0.0            0.0                     0.0   \n",
              "3           0.0                    0.0            0.0                     0.0   \n",
              "4           0.0                    0.0            0.0                     0.0   \n",
              "\n",
              "   two_year_ago_avg  two_year_ago_weighted  three_year_ago_avg  \\\n",
              "0               0.0                    0.0                 0.0   \n",
              "1               0.0                    0.0                 0.0   \n",
              "2               0.0                    0.0                 0.0   \n",
              "3               0.0                    0.0                 0.0   \n",
              "4               0.0                    0.0                 0.0   \n",
              "\n",
              "   three_year_ago_weighted confederation   rank_date  \n",
              "0                      0.0          UEFA  1993-08-08  \n",
              "1                      0.0          UEFA  1993-08-08  \n",
              "2                      0.0          UEFA  1993-08-08  \n",
              "3                      0.0          UEFA  1993-08-08  \n",
              "4                      0.0      CONMEBOL  1993-08-08  "
            ]
          },
          "metadata": {
            "tags": []
          },
          "execution_count": 8
        }
      ]
    },
    {
      "cell_type": "code",
      "metadata": {
        "colab_type": "code",
        "id": "e9AzGcZFrIIr",
        "scrolled": true,
        "colab": {},
        "outputId": "25edaa0e-7882-423e-c7db-799fd676dbe4"
      },
      "source": [
        "# Previewing the bottom of the results dataset\n",
        "results.tail()"
      ],
      "execution_count": 0,
      "outputs": [
        {
          "output_type": "execute_result",
          "data": {
            "text/html": [
              "<div>\n",
              "<style scoped>\n",
              "    .dataframe tbody tr th:only-of-type {\n",
              "        vertical-align: middle;\n",
              "    }\n",
              "\n",
              "    .dataframe tbody tr th {\n",
              "        vertical-align: top;\n",
              "    }\n",
              "\n",
              "    .dataframe thead th {\n",
              "        text-align: right;\n",
              "    }\n",
              "</style>\n",
              "<table border=\"1\" class=\"dataframe\">\n",
              "  <thead>\n",
              "    <tr style=\"text-align: right;\">\n",
              "      <th></th>\n",
              "      <th>date</th>\n",
              "      <th>home_team</th>\n",
              "      <th>away_team</th>\n",
              "      <th>home_score</th>\n",
              "      <th>away_score</th>\n",
              "      <th>tournament</th>\n",
              "      <th>city</th>\n",
              "      <th>country</th>\n",
              "      <th>neutral</th>\n",
              "    </tr>\n",
              "  </thead>\n",
              "  <tbody>\n",
              "    <tr>\n",
              "      <th>40834</th>\n",
              "      <td>2019-07-18</td>\n",
              "      <td>American Samoa</td>\n",
              "      <td>Tahiti</td>\n",
              "      <td>8</td>\n",
              "      <td>1</td>\n",
              "      <td>Pacific Games</td>\n",
              "      <td>Apia</td>\n",
              "      <td>Samoa</td>\n",
              "      <td>True</td>\n",
              "    </tr>\n",
              "    <tr>\n",
              "      <th>40835</th>\n",
              "      <td>2019-07-18</td>\n",
              "      <td>Fiji</td>\n",
              "      <td>Solomon Islands</td>\n",
              "      <td>4</td>\n",
              "      <td>4</td>\n",
              "      <td>Pacific Games</td>\n",
              "      <td>Apia</td>\n",
              "      <td>Samoa</td>\n",
              "      <td>True</td>\n",
              "    </tr>\n",
              "    <tr>\n",
              "      <th>40836</th>\n",
              "      <td>2019-07-19</td>\n",
              "      <td>Senegal</td>\n",
              "      <td>Algeria</td>\n",
              "      <td>0</td>\n",
              "      <td>1</td>\n",
              "      <td>African Cup of Nations</td>\n",
              "      <td>Cairo</td>\n",
              "      <td>Egypt</td>\n",
              "      <td>True</td>\n",
              "    </tr>\n",
              "    <tr>\n",
              "      <th>40837</th>\n",
              "      <td>2019-07-19</td>\n",
              "      <td>Tajikistan</td>\n",
              "      <td>North Korea</td>\n",
              "      <td>0</td>\n",
              "      <td>1</td>\n",
              "      <td>Intercontinental Cup</td>\n",
              "      <td>Ahmedabad</td>\n",
              "      <td>India</td>\n",
              "      <td>True</td>\n",
              "    </tr>\n",
              "    <tr>\n",
              "      <th>40838</th>\n",
              "      <td>2019-07-20</td>\n",
              "      <td>Papua New Guinea</td>\n",
              "      <td>Fiji</td>\n",
              "      <td>1</td>\n",
              "      <td>1</td>\n",
              "      <td>Pacific Games</td>\n",
              "      <td>Apia</td>\n",
              "      <td>Samoa</td>\n",
              "      <td>True</td>\n",
              "    </tr>\n",
              "  </tbody>\n",
              "</table>\n",
              "</div>"
            ],
            "text/plain": [
              "             date         home_team        away_team  home_score  away_score  \\\n",
              "40834  2019-07-18    American Samoa           Tahiti           8           1   \n",
              "40835  2019-07-18              Fiji  Solomon Islands           4           4   \n",
              "40836  2019-07-19           Senegal          Algeria           0           1   \n",
              "40837  2019-07-19        Tajikistan      North Korea           0           1   \n",
              "40838  2019-07-20  Papua New Guinea             Fiji           1           1   \n",
              "\n",
              "                   tournament       city country  neutral  \n",
              "40834           Pacific Games       Apia   Samoa     True  \n",
              "40835           Pacific Games       Apia   Samoa     True  \n",
              "40836  African Cup of Nations      Cairo   Egypt     True  \n",
              "40837    Intercontinental Cup  Ahmedabad   India     True  \n",
              "40838           Pacific Games       Apia   Samoa     True  "
            ]
          },
          "metadata": {
            "tags": []
          },
          "execution_count": 9
        }
      ]
    },
    {
      "cell_type": "code",
      "metadata": {
        "id": "_bZnpC84_2EI",
        "colab_type": "code",
        "colab": {},
        "outputId": "730a0002-eedd-4b20-f565-398d56d4d406"
      },
      "source": [
        "# Previewing the bottom of the fifa results dataset\n",
        "fifa_ranking.tail()"
      ],
      "execution_count": 0,
      "outputs": [
        {
          "output_type": "execute_result",
          "data": {
            "text/html": [
              "<div>\n",
              "<style scoped>\n",
              "    .dataframe tbody tr th:only-of-type {\n",
              "        vertical-align: middle;\n",
              "    }\n",
              "\n",
              "    .dataframe tbody tr th {\n",
              "        vertical-align: top;\n",
              "    }\n",
              "\n",
              "    .dataframe thead th {\n",
              "        text-align: right;\n",
              "    }\n",
              "</style>\n",
              "<table border=\"1\" class=\"dataframe\">\n",
              "  <thead>\n",
              "    <tr style=\"text-align: right;\">\n",
              "      <th></th>\n",
              "      <th>rank</th>\n",
              "      <th>country_full</th>\n",
              "      <th>country_abrv</th>\n",
              "      <th>total_points</th>\n",
              "      <th>previous_points</th>\n",
              "      <th>rank_change</th>\n",
              "      <th>cur_year_avg</th>\n",
              "      <th>cur_year_avg_weighted</th>\n",
              "      <th>last_year_avg</th>\n",
              "      <th>last_year_avg_weighted</th>\n",
              "      <th>two_year_ago_avg</th>\n",
              "      <th>two_year_ago_weighted</th>\n",
              "      <th>three_year_ago_avg</th>\n",
              "      <th>three_year_ago_weighted</th>\n",
              "      <th>confederation</th>\n",
              "      <th>rank_date</th>\n",
              "    </tr>\n",
              "  </thead>\n",
              "  <tbody>\n",
              "    <tr>\n",
              "      <th>57788</th>\n",
              "      <td>206</td>\n",
              "      <td>Anguilla</td>\n",
              "      <td>AIA</td>\n",
              "      <td>0.0</td>\n",
              "      <td>0</td>\n",
              "      <td>1</td>\n",
              "      <td>0.0</td>\n",
              "      <td>0.0</td>\n",
              "      <td>0.0</td>\n",
              "      <td>0.0</td>\n",
              "      <td>0.0</td>\n",
              "      <td>0.0</td>\n",
              "      <td>0.0</td>\n",
              "      <td>0.0</td>\n",
              "      <td>CONCACAF</td>\n",
              "      <td>2018-06-07</td>\n",
              "    </tr>\n",
              "    <tr>\n",
              "      <th>57789</th>\n",
              "      <td>206</td>\n",
              "      <td>Bahamas</td>\n",
              "      <td>BAH</td>\n",
              "      <td>0.0</td>\n",
              "      <td>0</td>\n",
              "      <td>1</td>\n",
              "      <td>0.0</td>\n",
              "      <td>0.0</td>\n",
              "      <td>0.0</td>\n",
              "      <td>0.0</td>\n",
              "      <td>0.0</td>\n",
              "      <td>0.0</td>\n",
              "      <td>0.0</td>\n",
              "      <td>0.0</td>\n",
              "      <td>CONCACAF</td>\n",
              "      <td>2018-06-07</td>\n",
              "    </tr>\n",
              "    <tr>\n",
              "      <th>57790</th>\n",
              "      <td>206</td>\n",
              "      <td>Eritrea</td>\n",
              "      <td>ERI</td>\n",
              "      <td>0.0</td>\n",
              "      <td>0</td>\n",
              "      <td>1</td>\n",
              "      <td>0.0</td>\n",
              "      <td>0.0</td>\n",
              "      <td>0.0</td>\n",
              "      <td>0.0</td>\n",
              "      <td>0.0</td>\n",
              "      <td>0.0</td>\n",
              "      <td>0.0</td>\n",
              "      <td>0.0</td>\n",
              "      <td>CAF</td>\n",
              "      <td>2018-06-07</td>\n",
              "    </tr>\n",
              "    <tr>\n",
              "      <th>57791</th>\n",
              "      <td>206</td>\n",
              "      <td>Somalia</td>\n",
              "      <td>SOM</td>\n",
              "      <td>0.0</td>\n",
              "      <td>0</td>\n",
              "      <td>1</td>\n",
              "      <td>0.0</td>\n",
              "      <td>0.0</td>\n",
              "      <td>0.0</td>\n",
              "      <td>0.0</td>\n",
              "      <td>0.0</td>\n",
              "      <td>0.0</td>\n",
              "      <td>0.0</td>\n",
              "      <td>0.0</td>\n",
              "      <td>CAF</td>\n",
              "      <td>2018-06-07</td>\n",
              "    </tr>\n",
              "    <tr>\n",
              "      <th>57792</th>\n",
              "      <td>206</td>\n",
              "      <td>Tonga</td>\n",
              "      <td>TGA</td>\n",
              "      <td>0.0</td>\n",
              "      <td>0</td>\n",
              "      <td>1</td>\n",
              "      <td>0.0</td>\n",
              "      <td>0.0</td>\n",
              "      <td>0.0</td>\n",
              "      <td>0.0</td>\n",
              "      <td>0.0</td>\n",
              "      <td>0.0</td>\n",
              "      <td>0.0</td>\n",
              "      <td>0.0</td>\n",
              "      <td>OFC</td>\n",
              "      <td>2018-06-07</td>\n",
              "    </tr>\n",
              "  </tbody>\n",
              "</table>\n",
              "</div>"
            ],
            "text/plain": [
              "       rank country_full country_abrv  total_points  previous_points  \\\n",
              "57788   206     Anguilla          AIA           0.0                0   \n",
              "57789   206      Bahamas          BAH           0.0                0   \n",
              "57790   206      Eritrea          ERI           0.0                0   \n",
              "57791   206      Somalia          SOM           0.0                0   \n",
              "57792   206        Tonga          TGA           0.0                0   \n",
              "\n",
              "       rank_change  cur_year_avg  cur_year_avg_weighted  last_year_avg  \\\n",
              "57788            1           0.0                    0.0            0.0   \n",
              "57789            1           0.0                    0.0            0.0   \n",
              "57790            1           0.0                    0.0            0.0   \n",
              "57791            1           0.0                    0.0            0.0   \n",
              "57792            1           0.0                    0.0            0.0   \n",
              "\n",
              "       last_year_avg_weighted  two_year_ago_avg  two_year_ago_weighted  \\\n",
              "57788                     0.0               0.0                    0.0   \n",
              "57789                     0.0               0.0                    0.0   \n",
              "57790                     0.0               0.0                    0.0   \n",
              "57791                     0.0               0.0                    0.0   \n",
              "57792                     0.0               0.0                    0.0   \n",
              "\n",
              "       three_year_ago_avg  three_year_ago_weighted confederation   rank_date  \n",
              "57788                 0.0                      0.0      CONCACAF  2018-06-07  \n",
              "57789                 0.0                      0.0      CONCACAF  2018-06-07  \n",
              "57790                 0.0                      0.0           CAF  2018-06-07  \n",
              "57791                 0.0                      0.0           CAF  2018-06-07  \n",
              "57792                 0.0                      0.0           OFC  2018-06-07  "
            ]
          },
          "metadata": {
            "tags": []
          },
          "execution_count": 10
        }
      ]
    },
    {
      "cell_type": "code",
      "metadata": {
        "colab_type": "code",
        "id": "n8-dW4sQWzbc",
        "scrolled": false,
        "colab": {},
        "outputId": "62cbe1ec-5dff-4a3d-90e1-79faa83551c5"
      },
      "source": [
        "# Checking whether each column in the results dataset has an appropriate datatype\n",
        "results.dtypes"
      ],
      "execution_count": 0,
      "outputs": [
        {
          "output_type": "execute_result",
          "data": {
            "text/plain": [
              "date          object\n",
              "home_team     object\n",
              "away_team     object\n",
              "home_score     int64\n",
              "away_score     int64\n",
              "tournament    object\n",
              "city          object\n",
              "country       object\n",
              "neutral         bool\n",
              "dtype: object"
            ]
          },
          "metadata": {
            "tags": []
          },
          "execution_count": 15
        }
      ]
    },
    {
      "cell_type": "markdown",
      "metadata": {
        "id": "BC9objRN_2ET",
        "colab_type": "raw"
      },
      "source": [
        "The date column does not have an appropriate data type."
      ]
    },
    {
      "cell_type": "code",
      "metadata": {
        "scrolled": false,
        "id": "_B6LgKCn_2EU",
        "colab_type": "code",
        "colab": {},
        "outputId": "ab3be1fb-9910-4417-aa48-a2605250e835"
      },
      "source": [
        "# Checking whether each column in the fifa ranking has an appropriate data type\n",
        "fifa_ranking.dtypes\n"
      ],
      "execution_count": 0,
      "outputs": [
        {
          "output_type": "execute_result",
          "data": {
            "text/plain": [
              "rank                         int64\n",
              "country_full                object\n",
              "country_abrv                object\n",
              "total_points               float64\n",
              "previous_points              int64\n",
              "rank_change                  int64\n",
              "cur_year_avg               float64\n",
              "cur_year_avg_weighted      float64\n",
              "last_year_avg              float64\n",
              "last_year_avg_weighted     float64\n",
              "two_year_ago_avg           float64\n",
              "two_year_ago_weighted      float64\n",
              "three_year_ago_avg         float64\n",
              "three_year_ago_weighted    float64\n",
              "confederation               object\n",
              "rank_date                   object\n",
              "dtype: object"
            ]
          },
          "metadata": {
            "tags": []
          },
          "execution_count": 14
        }
      ]
    },
    {
      "cell_type": "markdown",
      "metadata": {
        "id": "xIPGZDe9_2Ea",
        "colab_type": "raw"
      },
      "source": [
        "The rank date column does not hav an appropriate data type."
      ]
    },
    {
      "cell_type": "code",
      "metadata": {
        "id": "glhYr4PG_2Eb",
        "colab_type": "code",
        "colab": {}
      },
      "source": [
        "# converting both columns in the two datasets to an appropriate data type.\n",
        "results['date'] = pd.to_datetime(results['date'])\n",
        "fifa_ranking['rank_date'] = pd.to_datetime(fifa_ranking['rank_date'])"
      ],
      "execution_count": 0,
      "outputs": []
    },
    {
      "cell_type": "code",
      "metadata": {
        "id": "IMw4mMHe_2Ef",
        "colab_type": "code",
        "colab": {},
        "outputId": "aec72692-b710-4e1e-d278-45e899ddcdd2"
      },
      "source": [
        "# confirming the changes made.\n",
        "print(results.dtypes)\n",
        "print('\\n')\n",
        "print('**********************************************')\n",
        "print('\\n')\n",
        "print(fifa_ranking.dtypes)"
      ],
      "execution_count": 0,
      "outputs": [
        {
          "output_type": "stream",
          "text": [
            "date          datetime64[ns]\n",
            "home_team             object\n",
            "away_team             object\n",
            "home_score             int64\n",
            "away_score             int64\n",
            "tournament            object\n",
            "city                  object\n",
            "country               object\n",
            "neutral                 bool\n",
            "dtype: object\n",
            "\n",
            "\n",
            "**********************************************\n",
            "\n",
            "\n",
            "rank                                int64\n",
            "country_full                       object\n",
            "country_abrv                       object\n",
            "total_points                      float64\n",
            "previous_points                     int64\n",
            "rank_change                         int64\n",
            "cur_year_avg                      float64\n",
            "cur_year_avg_weighted             float64\n",
            "last_year_avg                     float64\n",
            "last_year_avg_weighted            float64\n",
            "two_year_ago_avg                  float64\n",
            "two_year_ago_weighted             float64\n",
            "three_year_ago_avg                float64\n",
            "three_year_ago_weighted           float64\n",
            "confederation                      object\n",
            "rank_date                  datetime64[ns]\n",
            "dtype: object\n"
          ],
          "name": "stdout"
        }
      ]
    },
    {
      "cell_type": "markdown",
      "metadata": {
        "colab_type": "text",
        "id": "ckfufNrcUHeH"
      },
      "source": [
        "## 4. External Data Source Validation"
      ]
    },
    {
      "cell_type": "markdown",
      "metadata": {
        "colab_type": "text",
        "id": "6L4sl_0WXlbg"
      },
      "source": [
        "Making sure your data matches something outside of the dataset is very important. It allows you to ensure that the measurements are roughly in line with what they should be and it serves as a check on what other things might be wrong in your dataset. External validation can often be as simple as checking your data against a single number, as we will do here."
      ]
    },
    {
      "cell_type": "markdown",
      "metadata": {
        "colab_type": "text",
        "id": "6XC_g-zKxe-r"
      },
      "source": [
        "### a.Validation"
      ]
    },
    {
      "cell_type": "markdown",
      "metadata": {
        "colab_type": "text",
        "id": "FlBMxEDBUc9B"
      },
      "source": [
        "## 5. Tidying the Dataset"
      ]
    },
    {
      "cell_type": "code",
      "metadata": {
        "colab_type": "code",
        "id": "5o_bQcT5W3Wz",
        "colab": {}
      },
      "source": [
        "# separating the year and month from the date columns in both datasets.\n",
        "results['year']=results['date'].dt.year\n",
        "results['month']=results['date'].dt.month\n",
        "fifa_ranking['year']=fifa_ranking['rank_date'].dt.year\n",
        "fifa_ranking['month']=fifa_ranking['rank_date'].dt.month\n"
      ],
      "execution_count": 0,
      "outputs": []
    },
    {
      "cell_type": "code",
      "metadata": {
        "colab_type": "code",
        "id": "PWlukLKUvFQN",
        "colab": {}
      },
      "source": [
        "# Creating a column of if a home team won or lost in the results dataset\n",
        "\n",
        "# First we create a column of the goal difference between the scores.\n",
        "\n",
        "results['goal_difference'] = results['home_score'] - results['away_score']\n",
        "\n",
        "# Then we create a function that we will use to iterate over the column created to create another column that\n",
        "# contains the outcome of the matches from the home teams perspective.\n",
        "\n",
        "def home_performance(goals):\n",
        "    if goals > 0:      # If the goal difference is greater than 0, the home team won the game\n",
        "        return 'Win'\n",
        "    elif goals < 0:    # If the goal difference is less than 0, the home team lost the game.\n",
        "        return 'Loss'\n",
        "    else:\n",
        "        return 'Draw'  # If the goal difference is zero, the match ended in a draw.\n",
        "    \n",
        "# Applying the function through the whole dataframe.\n",
        "results['home_performance'] = results.goal_difference.apply(lambda x: home_performance(x))"
      ],
      "execution_count": 0,
      "outputs": []
    },
    {
      "cell_type": "code",
      "metadata": {
        "id": "g_StcFre_2Ez",
        "colab_type": "code",
        "colab": {},
        "outputId": "63856812-1c1c-4e6b-9508-1a1ef42fcb0e"
      },
      "source": [
        "# Dropping the goal difference column\n",
        "results=results.drop('goal_difference', axis=1)\n",
        "# Previewing the dataset once more to confirm.\n",
        "\n",
        "results.head()"
      ],
      "execution_count": 0,
      "outputs": [
        {
          "output_type": "execute_result",
          "data": {
            "text/html": [
              "<div>\n",
              "<style scoped>\n",
              "    .dataframe tbody tr th:only-of-type {\n",
              "        vertical-align: middle;\n",
              "    }\n",
              "\n",
              "    .dataframe tbody tr th {\n",
              "        vertical-align: top;\n",
              "    }\n",
              "\n",
              "    .dataframe thead th {\n",
              "        text-align: right;\n",
              "    }\n",
              "</style>\n",
              "<table border=\"1\" class=\"dataframe\">\n",
              "  <thead>\n",
              "    <tr style=\"text-align: right;\">\n",
              "      <th></th>\n",
              "      <th>date</th>\n",
              "      <th>home_team</th>\n",
              "      <th>away_team</th>\n",
              "      <th>home_score</th>\n",
              "      <th>away_score</th>\n",
              "      <th>tournament</th>\n",
              "      <th>city</th>\n",
              "      <th>country</th>\n",
              "      <th>neutral</th>\n",
              "      <th>year</th>\n",
              "      <th>month</th>\n",
              "      <th>home_performance</th>\n",
              "    </tr>\n",
              "  </thead>\n",
              "  <tbody>\n",
              "    <tr>\n",
              "      <th>0</th>\n",
              "      <td>1872-11-30</td>\n",
              "      <td>Scotland</td>\n",
              "      <td>England</td>\n",
              "      <td>0</td>\n",
              "      <td>0</td>\n",
              "      <td>Friendly</td>\n",
              "      <td>Glasgow</td>\n",
              "      <td>Scotland</td>\n",
              "      <td>False</td>\n",
              "      <td>1872</td>\n",
              "      <td>11</td>\n",
              "      <td>Draw</td>\n",
              "    </tr>\n",
              "    <tr>\n",
              "      <th>1</th>\n",
              "      <td>1873-03-08</td>\n",
              "      <td>England</td>\n",
              "      <td>Scotland</td>\n",
              "      <td>4</td>\n",
              "      <td>2</td>\n",
              "      <td>Friendly</td>\n",
              "      <td>London</td>\n",
              "      <td>England</td>\n",
              "      <td>False</td>\n",
              "      <td>1873</td>\n",
              "      <td>3</td>\n",
              "      <td>Win</td>\n",
              "    </tr>\n",
              "    <tr>\n",
              "      <th>2</th>\n",
              "      <td>1874-03-07</td>\n",
              "      <td>Scotland</td>\n",
              "      <td>England</td>\n",
              "      <td>2</td>\n",
              "      <td>1</td>\n",
              "      <td>Friendly</td>\n",
              "      <td>Glasgow</td>\n",
              "      <td>Scotland</td>\n",
              "      <td>False</td>\n",
              "      <td>1874</td>\n",
              "      <td>3</td>\n",
              "      <td>Win</td>\n",
              "    </tr>\n",
              "    <tr>\n",
              "      <th>3</th>\n",
              "      <td>1875-03-06</td>\n",
              "      <td>England</td>\n",
              "      <td>Scotland</td>\n",
              "      <td>2</td>\n",
              "      <td>2</td>\n",
              "      <td>Friendly</td>\n",
              "      <td>London</td>\n",
              "      <td>England</td>\n",
              "      <td>False</td>\n",
              "      <td>1875</td>\n",
              "      <td>3</td>\n",
              "      <td>Draw</td>\n",
              "    </tr>\n",
              "    <tr>\n",
              "      <th>4</th>\n",
              "      <td>1876-03-04</td>\n",
              "      <td>Scotland</td>\n",
              "      <td>England</td>\n",
              "      <td>3</td>\n",
              "      <td>0</td>\n",
              "      <td>Friendly</td>\n",
              "      <td>Glasgow</td>\n",
              "      <td>Scotland</td>\n",
              "      <td>False</td>\n",
              "      <td>1876</td>\n",
              "      <td>3</td>\n",
              "      <td>Win</td>\n",
              "    </tr>\n",
              "  </tbody>\n",
              "</table>\n",
              "</div>"
            ],
            "text/plain": [
              "        date home_team away_team  home_score  away_score tournament     city  \\\n",
              "0 1872-11-30  Scotland   England           0           0   Friendly  Glasgow   \n",
              "1 1873-03-08   England  Scotland           4           2   Friendly   London   \n",
              "2 1874-03-07  Scotland   England           2           1   Friendly  Glasgow   \n",
              "3 1875-03-06   England  Scotland           2           2   Friendly   London   \n",
              "4 1876-03-04  Scotland   England           3           0   Friendly  Glasgow   \n",
              "\n",
              "    country  neutral  year  month home_performance  \n",
              "0  Scotland    False  1872     11             Draw  \n",
              "1   England    False  1873      3              Win  \n",
              "2  Scotland    False  1874      3              Win  \n",
              "3   England    False  1875      3             Draw  \n",
              "4  Scotland    False  1876      3              Win  "
            ]
          },
          "metadata": {
            "tags": []
          },
          "execution_count": 34
        }
      ]
    },
    {
      "cell_type": "code",
      "metadata": {
        "colab_type": "code",
        "id": "PvCYb6dgW4yh",
        "scrolled": false,
        "colab": {},
        "outputId": "b4a12e0f-c8ba-46bd-f41a-c38ea93a686c"
      },
      "source": [
        "# Identifying the Missing Data\n",
        "print(results.isnull().sum())\n",
        "print('\\n')\n",
        "print('***************************')\n",
        "print('\\n')\n",
        "print(fifa_ranking.isnull().sum())"
      ],
      "execution_count": 0,
      "outputs": [
        {
          "output_type": "stream",
          "text": [
            "date                0\n",
            "home_team           0\n",
            "away_team           0\n",
            "home_score          0\n",
            "away_score          0\n",
            "tournament          0\n",
            "city                0\n",
            "country             0\n",
            "neutral             0\n",
            "year                0\n",
            "month               0\n",
            "home_performance    0\n",
            "dtype: int64\n",
            "\n",
            "\n",
            "***************************\n",
            "\n",
            "\n",
            "rank                       0\n",
            "country_full               0\n",
            "country_abrv               0\n",
            "total_points               0\n",
            "previous_points            0\n",
            "rank_change                0\n",
            "cur_year_avg               0\n",
            "cur_year_avg_weighted      0\n",
            "last_year_avg              0\n",
            "last_year_avg_weighted     0\n",
            "two_year_ago_avg           0\n",
            "two_year_ago_weighted      0\n",
            "three_year_ago_avg         0\n",
            "three_year_ago_weighted    0\n",
            "confederation              0\n",
            "rank_date                  0\n",
            "year                       0\n",
            "month                      0\n",
            "dtype: int64\n"
          ],
          "name": "stdout"
        }
      ]
    },
    {
      "cell_type": "markdown",
      "metadata": {
        "id": "JSQMZvZG_2FF",
        "colab_type": "raw"
      },
      "source": [
        "The two datasets have no missing data"
      ]
    },
    {
      "cell_type": "code",
      "metadata": {
        "colab_type": "code",
        "id": "MpsDGKZHsf_W",
        "colab": {}
      },
      "source": [
        "# Since the Fifa ranking dataset starts at 1993-08-08 and ends on 2018-06-07\n",
        "# and the results dataset starts at 1874 and ends at 2019, we will drop the data whose \n",
        "# rankings we dont have.\n",
        "results=results[results['date']>='1993-08-08']\n",
        "results=results[results['date']<= '2018-06-07']"
      ],
      "execution_count": 0,
      "outputs": []
    },
    {
      "cell_type": "code",
      "metadata": {
        "colab_type": "code",
        "id": "D-4I__6Os4C5",
        "colab": {}
      },
      "source": [
        "# Importing the rankings of home team and away team from the fifa ranking dataset from when they played.\n",
        "# before merging, we make sure that the columns we want to merge on have similar names.\n",
        "fifa_home=fifa_ranking.copy()\n",
        "fifa_home=fifa_home.rename({'country_full': 'home_team', 'rank_date': 'date'}, axis=1)\n",
        "home_team=pd.merge(results, fifa_home, how='left', on=['home_team', 'year', 'month'])\n"
      ],
      "execution_count": 0,
      "outputs": []
    },
    {
      "cell_type": "code",
      "metadata": {
        "scrolled": true,
        "id": "AkrQ2dUm_2FU",
        "colab_type": "code",
        "colab": {}
      },
      "source": [
        "home_team=home_team.rename({'rank': 'home_team_rank', 'rank_change': 'home_team_rank_change', 'total_points': 'home_team_total_points', 'previous_points': 'home_team_previous_points'}, axis=1)"
      ],
      "execution_count": 0,
      "outputs": []
    },
    {
      "cell_type": "code",
      "metadata": {
        "id": "U6Eng2gg_2FY",
        "colab_type": "code",
        "colab": {}
      },
      "source": [
        "# Dropping unnecessary columns\n",
        "home_team.drop(columns=['cur_year_avg', 'cur_year_avg_weighted',\n",
        "       'last_year_avg', 'last_year_avg_weighted', 'two_year_ago_avg',\n",
        "       'two_year_ago_weighted', 'three_year_ago_avg',\n",
        "       'three_year_ago_weighted', 'confederation', 'date_y', 'city', 'country', 'country_abrv'], inplace=True)"
      ],
      "execution_count": 0,
      "outputs": []
    },
    {
      "cell_type": "code",
      "metadata": {
        "scrolled": true,
        "id": "VEmEYZRO_2Fd",
        "colab_type": "code",
        "colab": {},
        "outputId": "cd0353ab-cce0-4099-a9b3-c7ad350f1556"
      },
      "source": [
        "home_team.head()"
      ],
      "execution_count": 0,
      "outputs": [
        {
          "output_type": "execute_result",
          "data": {
            "text/html": [
              "<div>\n",
              "<style scoped>\n",
              "    .dataframe tbody tr th:only-of-type {\n",
              "        vertical-align: middle;\n",
              "    }\n",
              "\n",
              "    .dataframe tbody tr th {\n",
              "        vertical-align: top;\n",
              "    }\n",
              "\n",
              "    .dataframe thead th {\n",
              "        text-align: right;\n",
              "    }\n",
              "</style>\n",
              "<table border=\"1\" class=\"dataframe\">\n",
              "  <thead>\n",
              "    <tr style=\"text-align: right;\">\n",
              "      <th></th>\n",
              "      <th>date_x</th>\n",
              "      <th>home_team</th>\n",
              "      <th>away_team</th>\n",
              "      <th>home_score</th>\n",
              "      <th>away_score</th>\n",
              "      <th>tournament</th>\n",
              "      <th>neutral</th>\n",
              "      <th>year</th>\n",
              "      <th>month</th>\n",
              "      <th>home_performance</th>\n",
              "      <th>home_team_rank</th>\n",
              "      <th>home_team_total_points</th>\n",
              "      <th>home_team_previous_points</th>\n",
              "      <th>home_team_rank_change</th>\n",
              "    </tr>\n",
              "  </thead>\n",
              "  <tbody>\n",
              "    <tr>\n",
              "      <th>0</th>\n",
              "      <td>1993-08-08</td>\n",
              "      <td>Bolivia</td>\n",
              "      <td>Uruguay</td>\n",
              "      <td>3</td>\n",
              "      <td>1</td>\n",
              "      <td>FIFA World Cup qualification</td>\n",
              "      <td>False</td>\n",
              "      <td>1993</td>\n",
              "      <td>8</td>\n",
              "      <td>Win</td>\n",
              "      <td>59.0</td>\n",
              "      <td>0.0</td>\n",
              "      <td>13.0</td>\n",
              "      <td>28.0</td>\n",
              "    </tr>\n",
              "    <tr>\n",
              "      <th>1</th>\n",
              "      <td>1993-08-08</td>\n",
              "      <td>Brazil</td>\n",
              "      <td>Mexico</td>\n",
              "      <td>1</td>\n",
              "      <td>1</td>\n",
              "      <td>Friendly</td>\n",
              "      <td>False</td>\n",
              "      <td>1993</td>\n",
              "      <td>8</td>\n",
              "      <td>Draw</td>\n",
              "      <td>8.0</td>\n",
              "      <td>0.0</td>\n",
              "      <td>55.0</td>\n",
              "      <td>-5.0</td>\n",
              "    </tr>\n",
              "    <tr>\n",
              "      <th>2</th>\n",
              "      <td>1993-08-08</td>\n",
              "      <td>Ecuador</td>\n",
              "      <td>Venezuela</td>\n",
              "      <td>5</td>\n",
              "      <td>0</td>\n",
              "      <td>FIFA World Cup qualification</td>\n",
              "      <td>False</td>\n",
              "      <td>1993</td>\n",
              "      <td>8</td>\n",
              "      <td>Win</td>\n",
              "      <td>35.0</td>\n",
              "      <td>0.0</td>\n",
              "      <td>23.0</td>\n",
              "      <td>30.0</td>\n",
              "    </tr>\n",
              "    <tr>\n",
              "      <th>3</th>\n",
              "      <td>1993-08-08</td>\n",
              "      <td>Guinea</td>\n",
              "      <td>Sierra Leone</td>\n",
              "      <td>1</td>\n",
              "      <td>0</td>\n",
              "      <td>Friendly</td>\n",
              "      <td>False</td>\n",
              "      <td>1993</td>\n",
              "      <td>8</td>\n",
              "      <td>Win</td>\n",
              "      <td>65.0</td>\n",
              "      <td>0.0</td>\n",
              "      <td>23.0</td>\n",
              "      <td>-2.0</td>\n",
              "    </tr>\n",
              "    <tr>\n",
              "      <th>4</th>\n",
              "      <td>1993-08-08</td>\n",
              "      <td>Paraguay</td>\n",
              "      <td>Argentina</td>\n",
              "      <td>1</td>\n",
              "      <td>3</td>\n",
              "      <td>FIFA World Cup qualification</td>\n",
              "      <td>False</td>\n",
              "      <td>1993</td>\n",
              "      <td>8</td>\n",
              "      <td>Loss</td>\n",
              "      <td>67.0</td>\n",
              "      <td>0.0</td>\n",
              "      <td>22.0</td>\n",
              "      <td>1.0</td>\n",
              "    </tr>\n",
              "  </tbody>\n",
              "</table>\n",
              "</div>"
            ],
            "text/plain": [
              "      date_x home_team     away_team  home_score  away_score  \\\n",
              "0 1993-08-08   Bolivia       Uruguay           3           1   \n",
              "1 1993-08-08    Brazil        Mexico           1           1   \n",
              "2 1993-08-08   Ecuador     Venezuela           5           0   \n",
              "3 1993-08-08    Guinea  Sierra Leone           1           0   \n",
              "4 1993-08-08  Paraguay     Argentina           1           3   \n",
              "\n",
              "                     tournament  neutral  year  month home_performance  \\\n",
              "0  FIFA World Cup qualification    False  1993      8              Win   \n",
              "1                      Friendly    False  1993      8             Draw   \n",
              "2  FIFA World Cup qualification    False  1993      8              Win   \n",
              "3                      Friendly    False  1993      8              Win   \n",
              "4  FIFA World Cup qualification    False  1993      8             Loss   \n",
              "\n",
              "   home_team_rank  home_team_total_points  home_team_previous_points  \\\n",
              "0            59.0                     0.0                       13.0   \n",
              "1             8.0                     0.0                       55.0   \n",
              "2            35.0                     0.0                       23.0   \n",
              "3            65.0                     0.0                       23.0   \n",
              "4            67.0                     0.0                       22.0   \n",
              "\n",
              "   home_team_rank_change  \n",
              "0                   28.0  \n",
              "1                   -5.0  \n",
              "2                   30.0  \n",
              "3                   -2.0  \n",
              "4                    1.0  "
            ]
          },
          "metadata": {
            "tags": []
          },
          "execution_count": 60
        }
      ]
    },
    {
      "cell_type": "code",
      "metadata": {
        "id": "zj5ikhEn_2Fh",
        "colab_type": "code",
        "colab": {}
      },
      "source": [
        "# Adding the away team ranking and necessary columns from the FIFA rankings dataset.\n",
        "fifa_away=fifa_ranking.copy()\n",
        "fifa_away=fifa_away.rename({'country_full': 'away_team', 'rank_date': 'date'}, axis=1)\n",
        "cleaned_results=pd.merge(home_team, fifa_away, how='left', on=['away_team', 'year', 'month'])\n"
      ],
      "execution_count": 0,
      "outputs": []
    },
    {
      "cell_type": "code",
      "metadata": {
        "scrolled": false,
        "id": "CPMqTIDB_2Fl",
        "colab_type": "code",
        "colab": {},
        "outputId": "8266aeb2-fbed-4055-cc5f-908ae5aaeeaa"
      },
      "source": [
        "cleaned_results.columns"
      ],
      "execution_count": 0,
      "outputs": [
        {
          "output_type": "execute_result",
          "data": {
            "text/plain": [
              "Index(['date_x', 'home_team', 'away_team', 'home_score', 'away_score',\n",
              "       'tournament', 'neutral', 'year', 'month', 'home_performance',\n",
              "       'home_team_rank', 'home_team_total_points', 'home_team_previous_points',\n",
              "       'home_team_rank_change', 'rank_x', 'country_abrv_x', 'total_points_x',\n",
              "       'previous_points_x', 'rank_change_x', 'cur_year_avg_x',\n",
              "       'cur_year_avg_weighted_x', 'last_year_avg_x',\n",
              "       'last_year_avg_weighted_x', 'two_year_ago_avg_x',\n",
              "       'two_year_ago_weighted_x', 'three_year_ago_avg_x',\n",
              "       'three_year_ago_weighted_x', 'confederation_x', 'date_x', 'rank_y',\n",
              "       'country_abrv_y', 'total_points_y', 'previous_points_y',\n",
              "       'rank_change_y', 'cur_year_avg_y', 'cur_year_avg_weighted_y',\n",
              "       'last_year_avg_y', 'last_year_avg_weighted_y', 'two_year_ago_avg_y',\n",
              "       'two_year_ago_weighted_y', 'three_year_ago_avg_y',\n",
              "       'three_year_ago_weighted_y', 'confederation_y', 'date_y'],\n",
              "      dtype='object')"
            ]
          },
          "metadata": {
            "tags": []
          },
          "execution_count": 67
        }
      ]
    },
    {
      "cell_type": "code",
      "metadata": {
        "id": "sbhPqxms_2Fn",
        "colab_type": "code",
        "colab": {}
      },
      "source": [
        "cleaned_results=cleaned_results.rename({'rank_x': 'away_team_rank', 'rank_change_x': 'away_team_rank_change', 'total_points_x': 'away_team_total_points', 'previous_points_x': 'away_team_previous_points'}, axis=1)"
      ],
      "execution_count": 0,
      "outputs": []
    },
    {
      "cell_type": "code",
      "metadata": {
        "id": "uF4gayxi_2Fq",
        "colab_type": "code",
        "colab": {},
        "outputId": "65567d7a-2e04-4490-8498-bc1872b2842d"
      },
      "source": [
        "cleaned_results.columns"
      ],
      "execution_count": 0,
      "outputs": [
        {
          "output_type": "execute_result",
          "data": {
            "text/plain": [
              "Index(['date_x', 'home_team', 'away_team', 'home_score', 'away_score',\n",
              "       'tournament', 'neutral', 'year', 'month', 'home_performance',\n",
              "       'home_team_rank', 'home_team_total_points', 'home_team_previous_points',\n",
              "       'home_team_rank_change', 'away_team_rank', 'country_abrv_x',\n",
              "       'away_team_total_points', 'away_team_previous_points',\n",
              "       'away_team_rank_change', 'cur_year_avg_x', 'cur_year_avg_weighted_x',\n",
              "       'last_year_avg_x', 'last_year_avg_weighted_x', 'two_year_ago_avg_x',\n",
              "       'two_year_ago_weighted_x', 'three_year_ago_avg_x',\n",
              "       'three_year_ago_weighted_x', 'confederation_x', 'date_x', 'rank_y',\n",
              "       'country_abrv_y', 'total_points_y', 'previous_points_y',\n",
              "       'rank_change_y', 'cur_year_avg_y', 'cur_year_avg_weighted_y',\n",
              "       'last_year_avg_y', 'last_year_avg_weighted_y', 'two_year_ago_avg_y',\n",
              "       'two_year_ago_weighted_y', 'three_year_ago_avg_y',\n",
              "       'three_year_ago_weighted_y', 'confederation_y', 'date_y'],\n",
              "      dtype='object')"
            ]
          },
          "metadata": {
            "tags": []
          },
          "execution_count": 72
        }
      ]
    },
    {
      "cell_type": "code",
      "metadata": {
        "id": "ym1tZN8H_2Fw",
        "colab_type": "code",
        "colab": {}
      },
      "source": [
        "# Dropping unnecessary columns from the cleaned dataset containing home and away team ranks.\n",
        "cleaned_results.drop(columns=['cur_year_avg_x', 'cur_year_avg_weighted_x',\n",
        "       'last_year_avg_x', 'last_year_avg_weighted_x', 'two_year_ago_avg_x',\n",
        "       'two_year_ago_weighted_x', 'three_year_ago_avg_x',\n",
        "       'three_year_ago_weighted_x', 'confederation_x', 'date_x', 'rank_y',\n",
        "       'country_abrv_y', 'total_points_y', 'previous_points_y',\n",
        "       'rank_change_y', 'cur_year_avg_y', 'cur_year_avg_weighted_y',\n",
        "       'last_year_avg_y', 'last_year_avg_weighted_y', 'two_year_ago_avg_y',\n",
        "       'two_year_ago_weighted_y', 'three_year_ago_avg_y',\n",
        "       'three_year_ago_weighted_y', 'confederation_y', 'date_y', 'country_abrv_x'], inplace=True)"
      ],
      "execution_count": 0,
      "outputs": []
    },
    {
      "cell_type": "markdown",
      "metadata": {
        "id": "w3oGygYU_2F3",
        "colab_type": "raw"
      },
      "source": [
        "After adding the rank, some of the teams in the dataset are not ranked in the FIFA list. Therefore, these results were dropped"
      ]
    },
    {
      "cell_type": "code",
      "metadata": {
        "id": "whlGeqx5_2F5",
        "colab_type": "code",
        "colab": {},
        "outputId": "461816af-91c0-4489-9a56-3153bf8e8ea5"
      },
      "source": [
        "# checking the null values\n",
        "cleaned_results.isnull().sum()"
      ],
      "execution_count": 0,
      "outputs": [
        {
          "output_type": "execute_result",
          "data": {
            "text/plain": [
              "home_team                       0\n",
              "away_team                       0\n",
              "home_score                      0\n",
              "away_score                      0\n",
              "tournament                      0\n",
              "neutral                         0\n",
              "year                            0\n",
              "month                           0\n",
              "home_performance                0\n",
              "home_team_rank               3462\n",
              "home_team_total_points       3462\n",
              "home_team_previous_points    3462\n",
              "home_team_rank_change        3462\n",
              "away_team_rank               3545\n",
              "away_team_total_points       3545\n",
              "away_team_previous_points    3545\n",
              "away_team_rank_change        3545\n",
              "dtype: int64"
            ]
          },
          "metadata": {
            "tags": []
          },
          "execution_count": 77
        }
      ]
    },
    {
      "cell_type": "code",
      "metadata": {
        "id": "oEQDXrnS_2F8",
        "colab_type": "code",
        "colab": {}
      },
      "source": [
        "# Dropping the rows with null values\n",
        "cleaned_results=cleaned_results.dropna()"
      ],
      "execution_count": 0,
      "outputs": []
    },
    {
      "cell_type": "code",
      "metadata": {
        "scrolled": true,
        "id": "fI8s75nE_2F-",
        "colab_type": "code",
        "colab": {},
        "outputId": "74f57e72-bd10-4baf-f64c-fa4cae62d8c0"
      },
      "source": [
        "# previewing the final dataset\n",
        "cleaned_results.head()"
      ],
      "execution_count": 0,
      "outputs": [
        {
          "output_type": "execute_result",
          "data": {
            "text/html": [
              "<div>\n",
              "<style scoped>\n",
              "    .dataframe tbody tr th:only-of-type {\n",
              "        vertical-align: middle;\n",
              "    }\n",
              "\n",
              "    .dataframe tbody tr th {\n",
              "        vertical-align: top;\n",
              "    }\n",
              "\n",
              "    .dataframe thead th {\n",
              "        text-align: right;\n",
              "    }\n",
              "</style>\n",
              "<table border=\"1\" class=\"dataframe\">\n",
              "  <thead>\n",
              "    <tr style=\"text-align: right;\">\n",
              "      <th></th>\n",
              "      <th>home_team</th>\n",
              "      <th>away_team</th>\n",
              "      <th>home_score</th>\n",
              "      <th>away_score</th>\n",
              "      <th>tournament</th>\n",
              "      <th>neutral</th>\n",
              "      <th>year</th>\n",
              "      <th>month</th>\n",
              "      <th>home_performance</th>\n",
              "      <th>home_team_rank</th>\n",
              "      <th>home_team_total_points</th>\n",
              "      <th>home_team_previous_points</th>\n",
              "      <th>home_team_rank_change</th>\n",
              "      <th>away_team_rank</th>\n",
              "      <th>away_team_total_points</th>\n",
              "      <th>away_team_previous_points</th>\n",
              "      <th>away_team_rank_change</th>\n",
              "    </tr>\n",
              "  </thead>\n",
              "  <tbody>\n",
              "    <tr>\n",
              "      <th>0</th>\n",
              "      <td>Bolivia</td>\n",
              "      <td>Uruguay</td>\n",
              "      <td>3</td>\n",
              "      <td>1</td>\n",
              "      <td>FIFA World Cup qualification</td>\n",
              "      <td>False</td>\n",
              "      <td>1993</td>\n",
              "      <td>8</td>\n",
              "      <td>Win</td>\n",
              "      <td>59.0</td>\n",
              "      <td>0.0</td>\n",
              "      <td>13.0</td>\n",
              "      <td>28.0</td>\n",
              "      <td>22.0</td>\n",
              "      <td>0.0</td>\n",
              "      <td>47.0</td>\n",
              "      <td>-6.0</td>\n",
              "    </tr>\n",
              "    <tr>\n",
              "      <th>1</th>\n",
              "      <td>Brazil</td>\n",
              "      <td>Mexico</td>\n",
              "      <td>1</td>\n",
              "      <td>1</td>\n",
              "      <td>Friendly</td>\n",
              "      <td>False</td>\n",
              "      <td>1993</td>\n",
              "      <td>8</td>\n",
              "      <td>Draw</td>\n",
              "      <td>8.0</td>\n",
              "      <td>0.0</td>\n",
              "      <td>55.0</td>\n",
              "      <td>-5.0</td>\n",
              "      <td>14.0</td>\n",
              "      <td>0.0</td>\n",
              "      <td>42.0</td>\n",
              "      <td>11.0</td>\n",
              "    </tr>\n",
              "    <tr>\n",
              "      <th>2</th>\n",
              "      <td>Ecuador</td>\n",
              "      <td>Venezuela</td>\n",
              "      <td>5</td>\n",
              "      <td>0</td>\n",
              "      <td>FIFA World Cup qualification</td>\n",
              "      <td>False</td>\n",
              "      <td>1993</td>\n",
              "      <td>8</td>\n",
              "      <td>Win</td>\n",
              "      <td>35.0</td>\n",
              "      <td>0.0</td>\n",
              "      <td>23.0</td>\n",
              "      <td>30.0</td>\n",
              "      <td>94.0</td>\n",
              "      <td>0.0</td>\n",
              "      <td>4.0</td>\n",
              "      <td>31.0</td>\n",
              "    </tr>\n",
              "    <tr>\n",
              "      <th>3</th>\n",
              "      <td>Guinea</td>\n",
              "      <td>Sierra Leone</td>\n",
              "      <td>1</td>\n",
              "      <td>0</td>\n",
              "      <td>Friendly</td>\n",
              "      <td>False</td>\n",
              "      <td>1993</td>\n",
              "      <td>8</td>\n",
              "      <td>Win</td>\n",
              "      <td>65.0</td>\n",
              "      <td>0.0</td>\n",
              "      <td>23.0</td>\n",
              "      <td>-2.0</td>\n",
              "      <td>86.0</td>\n",
              "      <td>0.0</td>\n",
              "      <td>16.0</td>\n",
              "      <td>-7.0</td>\n",
              "    </tr>\n",
              "    <tr>\n",
              "      <th>4</th>\n",
              "      <td>Paraguay</td>\n",
              "      <td>Argentina</td>\n",
              "      <td>1</td>\n",
              "      <td>3</td>\n",
              "      <td>FIFA World Cup qualification</td>\n",
              "      <td>False</td>\n",
              "      <td>1993</td>\n",
              "      <td>8</td>\n",
              "      <td>Loss</td>\n",
              "      <td>67.0</td>\n",
              "      <td>0.0</td>\n",
              "      <td>22.0</td>\n",
              "      <td>1.0</td>\n",
              "      <td>5.0</td>\n",
              "      <td>0.0</td>\n",
              "      <td>51.0</td>\n",
              "      <td>5.0</td>\n",
              "    </tr>\n",
              "  </tbody>\n",
              "</table>\n",
              "</div>"
            ],
            "text/plain": [
              "  home_team     away_team  home_score  away_score  \\\n",
              "0   Bolivia       Uruguay           3           1   \n",
              "1    Brazil        Mexico           1           1   \n",
              "2   Ecuador     Venezuela           5           0   \n",
              "3    Guinea  Sierra Leone           1           0   \n",
              "4  Paraguay     Argentina           1           3   \n",
              "\n",
              "                     tournament  neutral  year  month home_performance  \\\n",
              "0  FIFA World Cup qualification    False  1993      8              Win   \n",
              "1                      Friendly    False  1993      8             Draw   \n",
              "2  FIFA World Cup qualification    False  1993      8              Win   \n",
              "3                      Friendly    False  1993      8              Win   \n",
              "4  FIFA World Cup qualification    False  1993      8             Loss   \n",
              "\n",
              "   home_team_rank  home_team_total_points  home_team_previous_points  \\\n",
              "0            59.0                     0.0                       13.0   \n",
              "1             8.0                     0.0                       55.0   \n",
              "2            35.0                     0.0                       23.0   \n",
              "3            65.0                     0.0                       23.0   \n",
              "4            67.0                     0.0                       22.0   \n",
              "\n",
              "   home_team_rank_change  away_team_rank  away_team_total_points  \\\n",
              "0                   28.0            22.0                     0.0   \n",
              "1                   -5.0            14.0                     0.0   \n",
              "2                   30.0            94.0                     0.0   \n",
              "3                   -2.0            86.0                     0.0   \n",
              "4                    1.0             5.0                     0.0   \n",
              "\n",
              "   away_team_previous_points  away_team_rank_change  \n",
              "0                       47.0                   -6.0  \n",
              "1                       42.0                   11.0  \n",
              "2                        4.0                   31.0  \n",
              "3                       16.0                   -7.0  \n",
              "4                       51.0                    5.0  "
            ]
          },
          "metadata": {
            "tags": []
          },
          "execution_count": 85
        }
      ]
    },
    {
      "cell_type": "code",
      "metadata": {
        "scrolled": true,
        "id": "L-UVv_IR_2GC",
        "colab_type": "code",
        "colab": {},
        "outputId": "1bfd8573-d0f3-4e27-dab8-d9fac0f5177f"
      },
      "source": [
        "# Creating dummy variables for the tournament column.\n",
        "dummy=pd.get_dummies(cleaned_results['tournament'])\n",
        "cleaned=pd.concat([cleaned_results, dummy], axis=1)\n",
        "cleaned.head()"
      ],
      "execution_count": 0,
      "outputs": [
        {
          "output_type": "execute_result",
          "data": {
            "text/html": [
              "<div>\n",
              "<style scoped>\n",
              "    .dataframe tbody tr th:only-of-type {\n",
              "        vertical-align: middle;\n",
              "    }\n",
              "\n",
              "    .dataframe tbody tr th {\n",
              "        vertical-align: top;\n",
              "    }\n",
              "\n",
              "    .dataframe thead th {\n",
              "        text-align: right;\n",
              "    }\n",
              "</style>\n",
              "<table border=\"1\" class=\"dataframe\">\n",
              "  <thead>\n",
              "    <tr style=\"text-align: right;\">\n",
              "      <th></th>\n",
              "      <th>home_team</th>\n",
              "      <th>away_team</th>\n",
              "      <th>home_score</th>\n",
              "      <th>away_score</th>\n",
              "      <th>tournament</th>\n",
              "      <th>neutral</th>\n",
              "      <th>year</th>\n",
              "      <th>month</th>\n",
              "      <th>home_performance</th>\n",
              "      <th>home_team_rank</th>\n",
              "      <th>...</th>\n",
              "      <th>UAFA Cup qualification</th>\n",
              "      <th>UEFA Euro</th>\n",
              "      <th>UEFA Euro qualification</th>\n",
              "      <th>UNCAF Cup</th>\n",
              "      <th>UNIFFAC Cup</th>\n",
              "      <th>USA Cup</th>\n",
              "      <th>United Arab Emirates Friendship Tournament</th>\n",
              "      <th>VFF Cup</th>\n",
              "      <th>WAFF Championship</th>\n",
              "      <th>Windward Islands Tournament</th>\n",
              "    </tr>\n",
              "  </thead>\n",
              "  <tbody>\n",
              "    <tr>\n",
              "      <th>0</th>\n",
              "      <td>Bolivia</td>\n",
              "      <td>Uruguay</td>\n",
              "      <td>3</td>\n",
              "      <td>1</td>\n",
              "      <td>FIFA World Cup qualification</td>\n",
              "      <td>False</td>\n",
              "      <td>1993</td>\n",
              "      <td>8</td>\n",
              "      <td>Win</td>\n",
              "      <td>59.0</td>\n",
              "      <td>...</td>\n",
              "      <td>0</td>\n",
              "      <td>0</td>\n",
              "      <td>0</td>\n",
              "      <td>0</td>\n",
              "      <td>0</td>\n",
              "      <td>0</td>\n",
              "      <td>0</td>\n",
              "      <td>0</td>\n",
              "      <td>0</td>\n",
              "      <td>0</td>\n",
              "    </tr>\n",
              "    <tr>\n",
              "      <th>1</th>\n",
              "      <td>Brazil</td>\n",
              "      <td>Mexico</td>\n",
              "      <td>1</td>\n",
              "      <td>1</td>\n",
              "      <td>Friendly</td>\n",
              "      <td>False</td>\n",
              "      <td>1993</td>\n",
              "      <td>8</td>\n",
              "      <td>Draw</td>\n",
              "      <td>8.0</td>\n",
              "      <td>...</td>\n",
              "      <td>0</td>\n",
              "      <td>0</td>\n",
              "      <td>0</td>\n",
              "      <td>0</td>\n",
              "      <td>0</td>\n",
              "      <td>0</td>\n",
              "      <td>0</td>\n",
              "      <td>0</td>\n",
              "      <td>0</td>\n",
              "      <td>0</td>\n",
              "    </tr>\n",
              "    <tr>\n",
              "      <th>2</th>\n",
              "      <td>Ecuador</td>\n",
              "      <td>Venezuela</td>\n",
              "      <td>5</td>\n",
              "      <td>0</td>\n",
              "      <td>FIFA World Cup qualification</td>\n",
              "      <td>False</td>\n",
              "      <td>1993</td>\n",
              "      <td>8</td>\n",
              "      <td>Win</td>\n",
              "      <td>35.0</td>\n",
              "      <td>...</td>\n",
              "      <td>0</td>\n",
              "      <td>0</td>\n",
              "      <td>0</td>\n",
              "      <td>0</td>\n",
              "      <td>0</td>\n",
              "      <td>0</td>\n",
              "      <td>0</td>\n",
              "      <td>0</td>\n",
              "      <td>0</td>\n",
              "      <td>0</td>\n",
              "    </tr>\n",
              "    <tr>\n",
              "      <th>3</th>\n",
              "      <td>Guinea</td>\n",
              "      <td>Sierra Leone</td>\n",
              "      <td>1</td>\n",
              "      <td>0</td>\n",
              "      <td>Friendly</td>\n",
              "      <td>False</td>\n",
              "      <td>1993</td>\n",
              "      <td>8</td>\n",
              "      <td>Win</td>\n",
              "      <td>65.0</td>\n",
              "      <td>...</td>\n",
              "      <td>0</td>\n",
              "      <td>0</td>\n",
              "      <td>0</td>\n",
              "      <td>0</td>\n",
              "      <td>0</td>\n",
              "      <td>0</td>\n",
              "      <td>0</td>\n",
              "      <td>0</td>\n",
              "      <td>0</td>\n",
              "      <td>0</td>\n",
              "    </tr>\n",
              "    <tr>\n",
              "      <th>4</th>\n",
              "      <td>Paraguay</td>\n",
              "      <td>Argentina</td>\n",
              "      <td>1</td>\n",
              "      <td>3</td>\n",
              "      <td>FIFA World Cup qualification</td>\n",
              "      <td>False</td>\n",
              "      <td>1993</td>\n",
              "      <td>8</td>\n",
              "      <td>Loss</td>\n",
              "      <td>67.0</td>\n",
              "      <td>...</td>\n",
              "      <td>0</td>\n",
              "      <td>0</td>\n",
              "      <td>0</td>\n",
              "      <td>0</td>\n",
              "      <td>0</td>\n",
              "      <td>0</td>\n",
              "      <td>0</td>\n",
              "      <td>0</td>\n",
              "      <td>0</td>\n",
              "      <td>0</td>\n",
              "    </tr>\n",
              "  </tbody>\n",
              "</table>\n",
              "<p>5 rows × 82 columns</p>\n",
              "</div>"
            ],
            "text/plain": [
              "  home_team     away_team  home_score  away_score  \\\n",
              "0   Bolivia       Uruguay           3           1   \n",
              "1    Brazil        Mexico           1           1   \n",
              "2   Ecuador     Venezuela           5           0   \n",
              "3    Guinea  Sierra Leone           1           0   \n",
              "4  Paraguay     Argentina           1           3   \n",
              "\n",
              "                     tournament  neutral  year  month home_performance  \\\n",
              "0  FIFA World Cup qualification    False  1993      8              Win   \n",
              "1                      Friendly    False  1993      8             Draw   \n",
              "2  FIFA World Cup qualification    False  1993      8              Win   \n",
              "3                      Friendly    False  1993      8              Win   \n",
              "4  FIFA World Cup qualification    False  1993      8             Loss   \n",
              "\n",
              "   home_team_rank  ...  UAFA Cup qualification  UEFA Euro  \\\n",
              "0            59.0  ...                       0          0   \n",
              "1             8.0  ...                       0          0   \n",
              "2            35.0  ...                       0          0   \n",
              "3            65.0  ...                       0          0   \n",
              "4            67.0  ...                       0          0   \n",
              "\n",
              "   UEFA Euro qualification  UNCAF Cup  UNIFFAC Cup  USA Cup  \\\n",
              "0                        0          0            0        0   \n",
              "1                        0          0            0        0   \n",
              "2                        0          0            0        0   \n",
              "3                        0          0            0        0   \n",
              "4                        0          0            0        0   \n",
              "\n",
              "   United Arab Emirates Friendship Tournament  VFF Cup  WAFF Championship  \\\n",
              "0                                           0        0                  0   \n",
              "1                                           0        0                  0   \n",
              "2                                           0        0                  0   \n",
              "3                                           0        0                  0   \n",
              "4                                           0        0                  0   \n",
              "\n",
              "   Windward Islands Tournament  \n",
              "0                            0  \n",
              "1                            0  \n",
              "2                            0  \n",
              "3                            0  \n",
              "4                            0  \n",
              "\n",
              "[5 rows x 82 columns]"
            ]
          },
          "metadata": {
            "tags": []
          },
          "execution_count": 104
        }
      ]
    },
    {
      "cell_type": "code",
      "metadata": {
        "id": "PxhAsZ0q_2GG",
        "colab_type": "code",
        "colab": {}
      },
      "source": [
        "# dropping the tournament column\n",
        "cleaned.drop(columns=['tournament'], inplace=True)"
      ],
      "execution_count": 0,
      "outputs": []
    },
    {
      "cell_type": "code",
      "metadata": {
        "id": "_Hg34-mo_2GK",
        "colab_type": "code",
        "colab": {}
      },
      "source": [
        "# creating a dummy variable for the neutral column\n",
        "dumm=pd.get_dummies(cleaned['neutral'])\n",
        "cleaned=pd.concat([cleaned, dumm], axis=1)"
      ],
      "execution_count": 0,
      "outputs": []
    },
    {
      "cell_type": "code",
      "metadata": {
        "id": "BnDdbCgA_2GN",
        "colab_type": "code",
        "colab": {}
      },
      "source": [
        ""
      ],
      "execution_count": 0,
      "outputs": []
    },
    {
      "cell_type": "markdown",
      "metadata": {
        "id": "PeyIEQWQ_2GQ",
        "colab_type": "raw"
      },
      "source": [
        "The dataset is now ready for modelling"
      ]
    },
    {
      "cell_type": "markdown",
      "metadata": {
        "colab_type": "text",
        "id": "rF2ABPsHUtbZ"
      },
      "source": [
        "## 6. Exploratory Analysis"
      ]
    },
    {
      "cell_type": "code",
      "metadata": {
        "colab_type": "code",
        "id": "5nnRToniXGDK",
        "scrolled": true,
        "colab": {},
        "outputId": "5404b2d4-a624-4701-cc97-0e6ca712cd64"
      },
      "source": [
        "# Ploting the univariate summaries and recording our observations\n",
        "#\n",
        "# countplot of the home team results\n",
        "sns.countplot(x='home_performance', data=cleaned_results, hue='neutral')"
      ],
      "execution_count": 0,
      "outputs": [
        {
          "output_type": "execute_result",
          "data": {
            "text/plain": [
              "<matplotlib.axes._subplots.AxesSubplot at 0x7fd7ce8e6e80>"
            ]
          },
          "metadata": {
            "tags": []
          },
          "execution_count": 88
        },
        {
          "output_type": "display_data",
          "data": {
            "image/png": "[encoded data removed]",
            "text/plain": [
              "<Figure size 432x288 with 1 Axes>"
            ]
          },
          "metadata": {
            "tags": [],
            "needs_background": "light"
          }
        }
      ]
    },
    {
      "cell_type": "markdown",
      "metadata": {
        "id": "SJKdMPIg_2GW",
        "colab_type": "raw"
      },
      "source": [
        "From the graph we can theorize that ma high proportion of home teams win the matches when played on neutral grounds than when the ground is partisan."
      ]
    },
    {
      "cell_type": "code",
      "metadata": {
        "scrolled": false,
        "id": "J4iWRTce_2GX",
        "colab_type": "code",
        "colab": {},
        "outputId": "8694a528-82b7-4bf6-8dfb-d773ef904a1d"
      },
      "source": [
        "# Correlation heatmap of the numerical variables \n",
        "mask = np.zeros_like(cleaned_results.iloc[:, 9:].corr(), dtype=np.bool)\n",
        "mask[np.triu_indices_from(mask)] = True\n",
        "sns.heatmap(cleaned_results.iloc[:, 9:].corr(), annot=True, mask=mask)"
      ],
      "execution_count": 0,
      "outputs": [
        {
          "output_type": "execute_result",
          "data": {
            "text/plain": [
              "<matplotlib.axes._subplots.AxesSubplot at 0x7fd7ce775d30>"
            ]
          },
          "metadata": {
            "tags": []
          },
          "execution_count": 95
        },
        {
          "output_type": "display_data",
          "data": {
            "image/png": "[encoded data removed]",
            "text/plain": [
              "<Figure size 432x288 with 2 Axes>"
            ]
          },
          "metadata": {
            "tags": [],
            "needs_background": "light"
          }
        }
      ]
    },
    {
      "cell_type": "markdown",
      "metadata": {
        "id": "-zUBCc9__2GZ",
        "colab_type": "raw"
      },
      "source": [
        "From the correlation heatmap, we don't have highly correlated variables."
      ]
    },
    {
      "cell_type": "markdown",
      "metadata": {
        "colab_type": "text",
        "id": "vTbdjSrhVIiT"
      },
      "source": [
        "## 7. Implementing the Solution"
      ]
    },
    {
      "cell_type": "code",
      "metadata": {
        "colab_type": "code",
        "id": "PJLZaRzJXJ3w",
        "colab": {}
      },
      "source": [
        "### Approach 1: Polynomial approach"
      ],
      "execution_count": 0,
      "outputs": []
    },
    {
      "cell_type": "code",
      "metadata": {
        "id": "i3a9uIEr_2Ge",
        "colab_type": "code",
        "colab": {}
      },
      "source": [
        "#Creating a dummy variable for the home team performance\n",
        "#dummm=pd.get_dummies(cleaned['home_performance'])\n",
        "polynom=pd.concat([cleaned, dumm], axis=1)\n",
        "polynom.drop(columns=['home_team', 'away_team', 'neutral', 'year', 'month', 'home_performance'], inplace=True)"
      ],
      "execution_count": 0,
      "outputs": []
    },
    {
      "cell_type": "code",
      "metadata": {
        "scrolled": true,
        "id": "eW6o2hLY_2Gk",
        "colab_type": "code",
        "colab": {},
        "outputId": "6086f57e-6004-4439-a0bb-e41b42b1b7e5"
      },
      "source": [
        "polynom.head()"
      ],
      "execution_count": 0,
      "outputs": [
        {
          "output_type": "execute_result",
          "data": {
            "text/html": [
              "<div>\n",
              "<style scoped>\n",
              "    .dataframe tbody tr th:only-of-type {\n",
              "        vertical-align: middle;\n",
              "    }\n",
              "\n",
              "    .dataframe tbody tr th {\n",
              "        vertical-align: top;\n",
              "    }\n",
              "\n",
              "    .dataframe thead th {\n",
              "        text-align: right;\n",
              "    }\n",
              "</style>\n",
              "<table border=\"1\" class=\"dataframe\">\n",
              "  <thead>\n",
              "    <tr style=\"text-align: right;\">\n",
              "      <th></th>\n",
              "      <th>home_score</th>\n",
              "      <th>away_score</th>\n",
              "      <th>home_team_rank</th>\n",
              "      <th>home_team_total_points</th>\n",
              "      <th>home_team_previous_points</th>\n",
              "      <th>home_team_rank_change</th>\n",
              "      <th>away_team_rank</th>\n",
              "      <th>away_team_total_points</th>\n",
              "      <th>away_team_previous_points</th>\n",
              "      <th>away_team_rank_change</th>\n",
              "      <th>...</th>\n",
              "      <th>UNIFFAC Cup</th>\n",
              "      <th>USA Cup</th>\n",
              "      <th>United Arab Emirates Friendship Tournament</th>\n",
              "      <th>VFF Cup</th>\n",
              "      <th>WAFF Championship</th>\n",
              "      <th>Windward Islands Tournament</th>\n",
              "      <th>False</th>\n",
              "      <th>True</th>\n",
              "      <th>False</th>\n",
              "      <th>True</th>\n",
              "    </tr>\n",
              "  </thead>\n",
              "  <tbody>\n",
              "    <tr>\n",
              "      <th>0</th>\n",
              "      <td>3</td>\n",
              "      <td>1</td>\n",
              "      <td>59.0</td>\n",
              "      <td>0.0</td>\n",
              "      <td>13.0</td>\n",
              "      <td>28.0</td>\n",
              "      <td>22.0</td>\n",
              "      <td>0.0</td>\n",
              "      <td>47.0</td>\n",
              "      <td>-6.0</td>\n",
              "      <td>...</td>\n",
              "      <td>0</td>\n",
              "      <td>0</td>\n",
              "      <td>0</td>\n",
              "      <td>0</td>\n",
              "      <td>0</td>\n",
              "      <td>0</td>\n",
              "      <td>1</td>\n",
              "      <td>0</td>\n",
              "      <td>1</td>\n",
              "      <td>0</td>\n",
              "    </tr>\n",
              "    <tr>\n",
              "      <th>1</th>\n",
              "      <td>1</td>\n",
              "      <td>1</td>\n",
              "      <td>8.0</td>\n",
              "      <td>0.0</td>\n",
              "      <td>55.0</td>\n",
              "      <td>-5.0</td>\n",
              "      <td>14.0</td>\n",
              "      <td>0.0</td>\n",
              "      <td>42.0</td>\n",
              "      <td>11.0</td>\n",
              "      <td>...</td>\n",
              "      <td>0</td>\n",
              "      <td>0</td>\n",
              "      <td>0</td>\n",
              "      <td>0</td>\n",
              "      <td>0</td>\n",
              "      <td>0</td>\n",
              "      <td>1</td>\n",
              "      <td>0</td>\n",
              "      <td>1</td>\n",
              "      <td>0</td>\n",
              "    </tr>\n",
              "    <tr>\n",
              "      <th>2</th>\n",
              "      <td>5</td>\n",
              "      <td>0</td>\n",
              "      <td>35.0</td>\n",
              "      <td>0.0</td>\n",
              "      <td>23.0</td>\n",
              "      <td>30.0</td>\n",
              "      <td>94.0</td>\n",
              "      <td>0.0</td>\n",
              "      <td>4.0</td>\n",
              "      <td>31.0</td>\n",
              "      <td>...</td>\n",
              "      <td>0</td>\n",
              "      <td>0</td>\n",
              "      <td>0</td>\n",
              "      <td>0</td>\n",
              "      <td>0</td>\n",
              "      <td>0</td>\n",
              "      <td>1</td>\n",
              "      <td>0</td>\n",
              "      <td>1</td>\n",
              "      <td>0</td>\n",
              "    </tr>\n",
              "    <tr>\n",
              "      <th>3</th>\n",
              "      <td>1</td>\n",
              "      <td>0</td>\n",
              "      <td>65.0</td>\n",
              "      <td>0.0</td>\n",
              "      <td>23.0</td>\n",
              "      <td>-2.0</td>\n",
              "      <td>86.0</td>\n",
              "      <td>0.0</td>\n",
              "      <td>16.0</td>\n",
              "      <td>-7.0</td>\n",
              "      <td>...</td>\n",
              "      <td>0</td>\n",
              "      <td>0</td>\n",
              "      <td>0</td>\n",
              "      <td>0</td>\n",
              "      <td>0</td>\n",
              "      <td>0</td>\n",
              "      <td>1</td>\n",
              "      <td>0</td>\n",
              "      <td>1</td>\n",
              "      <td>0</td>\n",
              "    </tr>\n",
              "    <tr>\n",
              "      <th>4</th>\n",
              "      <td>1</td>\n",
              "      <td>3</td>\n",
              "      <td>67.0</td>\n",
              "      <td>0.0</td>\n",
              "      <td>22.0</td>\n",
              "      <td>1.0</td>\n",
              "      <td>5.0</td>\n",
              "      <td>0.0</td>\n",
              "      <td>51.0</td>\n",
              "      <td>5.0</td>\n",
              "      <td>...</td>\n",
              "      <td>0</td>\n",
              "      <td>0</td>\n",
              "      <td>0</td>\n",
              "      <td>0</td>\n",
              "      <td>0</td>\n",
              "      <td>0</td>\n",
              "      <td>1</td>\n",
              "      <td>0</td>\n",
              "      <td>1</td>\n",
              "      <td>0</td>\n",
              "    </tr>\n",
              "  </tbody>\n",
              "</table>\n",
              "<p>5 rows × 79 columns</p>\n",
              "</div>"
            ],
            "text/plain": [
              "   home_score  away_score  home_team_rank  home_team_total_points  \\\n",
              "0           3           1            59.0                     0.0   \n",
              "1           1           1             8.0                     0.0   \n",
              "2           5           0            35.0                     0.0   \n",
              "3           1           0            65.0                     0.0   \n",
              "4           1           3            67.0                     0.0   \n",
              "\n",
              "   home_team_previous_points  home_team_rank_change  away_team_rank  \\\n",
              "0                       13.0                   28.0            22.0   \n",
              "1                       55.0                   -5.0            14.0   \n",
              "2                       23.0                   30.0            94.0   \n",
              "3                       23.0                   -2.0            86.0   \n",
              "4                       22.0                    1.0             5.0   \n",
              "\n",
              "   away_team_total_points  away_team_previous_points  away_team_rank_change  \\\n",
              "0                     0.0                       47.0                   -6.0   \n",
              "1                     0.0                       42.0                   11.0   \n",
              "2                     0.0                        4.0                   31.0   \n",
              "3                     0.0                       16.0                   -7.0   \n",
              "4                     0.0                       51.0                    5.0   \n",
              "\n",
              "   ...  UNIFFAC Cup  USA Cup  United Arab Emirates Friendship Tournament  \\\n",
              "0  ...            0        0                                           0   \n",
              "1  ...            0        0                                           0   \n",
              "2  ...            0        0                                           0   \n",
              "3  ...            0        0                                           0   \n",
              "4  ...            0        0                                           0   \n",
              "\n",
              "   VFF Cup  WAFF Championship  Windward Islands Tournament  False  True  \\\n",
              "0        0                  0                            0      1     0   \n",
              "1        0                  0                            0      1     0   \n",
              "2        0                  0                            0      1     0   \n",
              "3        0                  0                            0      1     0   \n",
              "4        0                  0                            0      1     0   \n",
              "\n",
              "   False  True  \n",
              "0      1     0  \n",
              "1      1     0  \n",
              "2      1     0  \n",
              "3      1     0  \n",
              "4      1     0  \n",
              "\n",
              "[5 rows x 79 columns]"
            ]
          },
          "metadata": {
            "tags": []
          },
          "execution_count": 137
        }
      ]
    },
    {
      "cell_type": "markdown",
      "metadata": {
        "id": "Jo2qOSOt_2Gr",
        "colab_type": "text"
      },
      "source": [
        "#### Model 1: Predicting the number of goals home team scores"
      ]
    },
    {
      "cell_type": "code",
      "metadata": {
        "id": "D8BfA03R_2Gt",
        "colab_type": "code",
        "colab": {}
      },
      "source": [
        "# The independent variable used is the home team rank\n",
        "a=polynom.home_team_rank.values.reshape(-1,1)\n",
        "# The dependent variable, what we are predicting, is the number of goals scored by the home team.\n",
        "b=polynom.home_score.values\n"
      ],
      "execution_count": 0,
      "outputs": []
    },
    {
      "cell_type": "code",
      "metadata": {
        "id": "Mgp8udur_2Gx",
        "colab_type": "code",
        "colab": {},
        "outputId": "f7f235e5-bb99-45a1-f110-fb0f2831c2c2"
      },
      "source": [
        "plt.scatter(a, b, color='magenta')\n",
        "plt.xlabel('Home team FIFA ranking')\n",
        "plt.ylabel('number of goals scored')\n",
        "plt.title('number of goals scored vs FIFA ranking')\n",
        "plt.show()"
      ],
      "execution_count": 0,
      "outputs": [
        {
          "output_type": "display_data",
          "data": {
            "image/png": "[encoded data removed]",
            "text/plain": [
              "<Figure size 432x288 with 1 Axes>"
            ]
          },
          "metadata": {
            "tags": []
          }
        }
      ]
    },
    {
      "cell_type": "code",
      "metadata": {
        "id": "BDkbaHX7_2G1",
        "colab_type": "code",
        "colab": {},
        "outputId": "1c727b06-fa88-49e0-d343-7b034318d2af"
      },
      "source": [
        "# Splitting the dataset into train and test sets.\n",
        "a_train, a_test, b_train, b_test = train_test_split(a, b, test_size=0.25, random_state=0)\n",
        "# Fitting polynomial regression into the dataset\n",
        "poly_reg = PolynomialFeatures(degree=10)\n",
        "a_poly = poly_reg.fit_transform(a)\n",
        "pol_reg = LinearRegression()\n",
        "pol_reg.fit(a_poly, b)\n",
        "# Visualizing the polynomial regression result.\n",
        "plt.scatter(a, b, color='magenta')\n",
        "plt.plot(a, pol_reg.predict(a_poly), color='green')\n",
        "plt.xlabel('Home team FIFA ranking')\n",
        "plt.ylabel('number of goals scored')\n",
        "plt.title('number of goals scored polynomial prediction')\n",
        "plt.show()"
      ],
      "execution_count": 0,
      "outputs": [
        {
          "output_type": "display_data",
          "data": {
            "image/png": "[encoded data removed]",
            "text/plain": [
              "<Figure size 432x288 with 1 Axes>"
            ]
          },
          "metadata": {
            "tags": []
          }
        }
      ]
    },
    {
      "cell_type": "code",
      "metadata": {
        "id": "kNI5UULP_2G9",
        "colab_type": "code",
        "colab": {},
        "outputId": "5ecee145-c17c-422f-ff1f-c9a33daf5908"
      },
      "source": [
        "# Making a prediction for number of goals scored by a home team ranked 78th.\n",
        "poly_prediction=pol_reg.predict(poly_reg.fit_transform([[78]]))\n",
        "print('polynomial prediction: %d' %poly_prediction)"
      ],
      "execution_count": 0,
      "outputs": [
        {
          "output_type": "stream",
          "text": [
            "polynomial prediction: 1\n"
          ],
          "name": "stdout"
        }
      ]
    },
    {
      "cell_type": "markdown",
      "metadata": {
        "id": "lXIrsnQw_2HB",
        "colab_type": "text"
      },
      "source": [
        "#### Model 2: Predicting the number of goals the away team scores."
      ]
    },
    {
      "cell_type": "code",
      "metadata": {
        "id": "ceOm0VT4_2HC",
        "colab_type": "code",
        "colab": {}
      },
      "source": [
        "# The independent variable used is the away team rank\n",
        "c=polynom.away_team_rank.values.reshape(-1,1)\n",
        "# The dependent variable, what we are predicting, is the number of goals scored by the away team.\n",
        "d=polynom.away_score.values\n"
      ],
      "execution_count": 0,
      "outputs": []
    },
    {
      "cell_type": "code",
      "metadata": {
        "id": "GOwmS0nB_2HG",
        "colab_type": "code",
        "colab": {},
        "outputId": "f748447f-2767-4784-c39b-9371152f0467"
      },
      "source": [
        "plt.scatter(c, d, color='red')\n",
        "plt.xlabel('away team FIFA ranking')\n",
        "plt.ylabel('number of goals scored')\n",
        "plt.title('number of goals scored vs FIFA ranking')\n",
        "plt.show()"
      ],
      "execution_count": 0,
      "outputs": [
        {
          "output_type": "display_data",
          "data": {
            "image/png": "[encoded data removed]",
            "text/plain": [
              "<Figure size 432x288 with 1 Axes>"
            ]
          },
          "metadata": {
            "tags": []
          }
        }
      ]
    },
    {
      "cell_type": "code",
      "metadata": {
        "id": "RLZGQCbt_2HK",
        "colab_type": "code",
        "colab": {},
        "outputId": "6573db48-0264-4287-bad2-e19441b1a867"
      },
      "source": [
        "# Splitting the dataset into train and test sets.\n",
        "c_train, c_test, d_train, d_test = train_test_split(c, d, test_size=0.25, random_state=0)\n",
        "# Fitting polynomial regression into the dataset\n",
        "poly_regr = PolynomialFeatures(degree=10)\n",
        "c_poly = poly_regr.fit_transform(c)\n",
        "pol_regr = LinearRegression()\n",
        "pol_regr.fit(c_poly, d)\n",
        "# Visualizing the polynomial regression result.\n",
        "plt.scatter(c, d, color='red')\n",
        "plt.plot(a, pol_regr.predict(c_poly), color='green')\n",
        "plt.xlabel('Away team FIFA ranking')\n",
        "plt.ylabel('number of goals scored')\n",
        "plt.title('number of goals scored polynomial prediction')\n",
        "plt.show()"
      ],
      "execution_count": 0,
      "outputs": [
        {
          "output_type": "display_data",
          "data": {
            "image/png": "[encoded data removed]",
            "text/plain": [
              "<Figure size 432x288 with 1 Axes>"
            ]
          },
          "metadata": {
            "tags": []
          }
        }
      ]
    },
    {
      "cell_type": "code",
      "metadata": {
        "id": "3i6kjrex_2HM",
        "colab_type": "code",
        "colab": {},
        "outputId": "a26798d1-041b-4433-b478-3f210d8d74ce"
      },
      "source": [
        "# Making a prediction for number of goals scored by an away team ranked 78th\n",
        "polyn_prediction=pol_regr.predict(poly_regr.fit_transform([[78]]))\n",
        "print('polynomial prediction: %d' %polyn_prediction)"
      ],
      "execution_count": 0,
      "outputs": [
        {
          "output_type": "stream",
          "text": [
            "polynomial prediction: 0\n"
          ],
          "name": "stdout"
        }
      ]
    },
    {
      "cell_type": "markdown",
      "metadata": {
        "id": "_MJS-rrx_2HN",
        "colab_type": "text"
      },
      "source": [
        "#### Model 3: Predicting the number of goals scored by the home team using XGBRegressor"
      ]
    },
    {
      "cell_type": "code",
      "metadata": {
        "scrolled": true,
        "id": "K_ACyok8_2HO",
        "colab_type": "code",
        "colab": {}
      },
      "source": [
        "polynom=polynom.loc[:,~polynom.columns.duplicated()]"
      ],
      "execution_count": 0,
      "outputs": []
    },
    {
      "cell_type": "code",
      "metadata": {
        "id": "bxXUHt8e_2HQ",
        "colab_type": "code",
        "colab": {}
      },
      "source": [
        "\n",
        "e=polynom.drop('home_score', axis=1)\n",
        "# The dependent variable, what we are predicting, is the number of goals scored by the away team.\n",
        "f=polynom.home_score\n"
      ],
      "execution_count": 0,
      "outputs": []
    },
    {
      "cell_type": "code",
      "metadata": {
        "id": "gX0qaZaq_2HT",
        "colab_type": "code",
        "colab": {},
        "outputId": "5ec6a41d-e186-4381-fd03-b6ffcfd714b2"
      },
      "source": [
        "e_train, e_test, f_train, f_test = train_test_split(e, f, test_size=0.25, random_state=0)\n",
        "regress=XGBRegressor()\n",
        "regress.fit(e_train, f_train)\n",
        "f_pred=regress.predict(e_test)\n",
        "rmse=np.sqrt(metrics.mean_squared_error(f_test, f_pred))\n",
        "print(rmse)"
      ],
      "execution_count": 0,
      "outputs": [
        {
          "output_type": "stream",
          "text": [
            "/usr/local/lib/python3.7/dist-packages/xgboost/core.py:587: FutureWarning: Series.base is deprecated and will be removed in a future version\n",
            "  if getattr(data, 'base', None) is not None and \\\n"
          ],
          "name": "stderr"
        },
        {
          "output_type": "stream",
          "text": [
            "[09:25:52] WARNING: /workspace/src/objective/regression_obj.cu:152: reg:linear is now deprecated in favor of reg:squarederror.\n",
            "1.3728882029005305\n"
          ],
          "name": "stdout"
        }
      ]
    },
    {
      "cell_type": "code",
      "metadata": {
        "id": "7eBG7EDi_2HW",
        "colab_type": "code",
        "colab": {},
        "outputId": "e2b7bd8a-dac1-48d3-fc98-12473603fd36"
      },
      "source": [
        "df=pd.DataFrame({'Actual': f_test, 'Prediction': f_pred})\n",
        "df.describe()"
      ],
      "execution_count": 0,
      "outputs": [
        {
          "output_type": "execute_result",
          "data": {
            "text/html": [
              "<div>\n",
              "<style scoped>\n",
              "    .dataframe tbody tr th:only-of-type {\n",
              "        vertical-align: middle;\n",
              "    }\n",
              "\n",
              "    .dataframe tbody tr th {\n",
              "        vertical-align: top;\n",
              "    }\n",
              "\n",
              "    .dataframe thead th {\n",
              "        text-align: right;\n",
              "    }\n",
              "</style>\n",
              "<table border=\"1\" class=\"dataframe\">\n",
              "  <thead>\n",
              "    <tr style=\"text-align: right;\">\n",
              "      <th></th>\n",
              "      <th>Actual</th>\n",
              "      <th>Prediction</th>\n",
              "    </tr>\n",
              "  </thead>\n",
              "  <tbody>\n",
              "    <tr>\n",
              "      <th>count</th>\n",
              "      <td>4204.000000</td>\n",
              "      <td>4204.000000</td>\n",
              "    </tr>\n",
              "    <tr>\n",
              "      <th>mean</th>\n",
              "      <td>1.584206</td>\n",
              "      <td>1.596359</td>\n",
              "    </tr>\n",
              "    <tr>\n",
              "      <th>std</th>\n",
              "      <td>1.577047</td>\n",
              "      <td>0.774150</td>\n",
              "    </tr>\n",
              "    <tr>\n",
              "      <th>min</th>\n",
              "      <td>0.000000</td>\n",
              "      <td>0.038928</td>\n",
              "    </tr>\n",
              "    <tr>\n",
              "      <th>25%</th>\n",
              "      <td>0.000000</td>\n",
              "      <td>1.086035</td>\n",
              "    </tr>\n",
              "    <tr>\n",
              "      <th>50%</th>\n",
              "      <td>1.000000</td>\n",
              "      <td>1.439158</td>\n",
              "    </tr>\n",
              "    <tr>\n",
              "      <th>75%</th>\n",
              "      <td>2.000000</td>\n",
              "      <td>1.935763</td>\n",
              "    </tr>\n",
              "    <tr>\n",
              "      <th>max</th>\n",
              "      <td>17.000000</td>\n",
              "      <td>6.383603</td>\n",
              "    </tr>\n",
              "  </tbody>\n",
              "</table>\n",
              "</div>"
            ],
            "text/plain": [
              "            Actual   Prediction\n",
              "count  4204.000000  4204.000000\n",
              "mean      1.584206     1.596359\n",
              "std       1.577047     0.774150\n",
              "min       0.000000     0.038928\n",
              "25%       0.000000     1.086035\n",
              "50%       1.000000     1.439158\n",
              "75%       2.000000     1.935763\n",
              "max      17.000000     6.383603"
            ]
          },
          "metadata": {
            "tags": []
          },
          "execution_count": 169
        }
      ]
    },
    {
      "cell_type": "code",
      "metadata": {
        "scrolled": false,
        "id": "7E_JGw1T_2He",
        "colab_type": "code",
        "colab": {},
        "outputId": "aa794087-fb66-45de-fa15-56ba9de29953"
      },
      "source": [
        "df1=df.head(50)\n",
        "df1.plot(kind='bar', figsize=(20,12))\n",
        "plt.show()"
      ],
      "execution_count": 0,
      "outputs": [
        {
          "output_type": "display_data",
          "data": {
            "image/png": "[encoded data removed]",
            "text/plain": [
              "<Figure size 1440x864 with 1 Axes>"
            ]
          },
          "metadata": {
            "tags": []
          }
        }
      ]
    },
    {
      "cell_type": "code",
      "metadata": {
        "id": "OeJG5Pzi_2Hi",
        "colab_type": "code",
        "colab": {},
        "outputId": "a36afa8f-028b-4743-d1e5-1e98b8558847"
      },
      "source": [
        "# Hyper-parameter tuning to improve the accuracy of the model.\n",
        "e_train, e_test, f_train, f_test = train_test_split(e, f, test_size=0.25, random_state=0)\n",
        "xgb1=XGBRegressor()\n",
        "parameters = {'nthread':[4], #when use hyperthread, xgboost may become slower\n",
        "              'objective':['reg:linear'],\n",
        "              'learning_rate': [.03, 0.05, .07], #so called `eta` value\n",
        "              'max_depth': [5, 6, 7],\n",
        "              'min_child_weight': [4],\n",
        "              'silent': [1],\n",
        "              'subsample': [0.7],\n",
        "              'colsample_bytree': [0.7],\n",
        "              'n_estimators': [500]}\n",
        "\n",
        "xgb_grid = GridSearchCV(xgb1,\n",
        "                        parameters,\n",
        "                        cv = 2,\n",
        "                        n_jobs = 5,\n",
        "                        verbose=True)\n",
        "\n",
        "xgb_grid.fit(e_train,f_train)\n",
        "\n",
        "print(xgb_grid.best_score_)\n",
        "print(xgb_grid.best_params_)"
      ],
      "execution_count": 0,
      "outputs": [
        {
          "output_type": "stream",
          "text": [
            "Fitting 2 folds for each of 9 candidates, totalling 18 fits\n"
          ],
          "name": "stdout"
        },
        {
          "output_type": "stream",
          "text": [
            "[Parallel(n_jobs=5)]: Using backend LokyBackend with 5 concurrent workers.\n",
            "[Parallel(n_jobs=5)]: Done  18 out of  18 | elapsed: 40.8min finished\n",
            "/usr/local/lib/python3.7/dist-packages/xgboost/core.py:587: FutureWarning: Series.base is deprecated and will be removed in a future version\n",
            "  if getattr(data, 'base', None) is not None and \\\n"
          ],
          "name": "stderr"
        },
        {
          "output_type": "stream",
          "text": [
            "0.249944935381589\n",
            "{'colsample_bytree': 0.7, 'learning_rate': 0.03, 'max_depth': 5, 'min_child_weight': 4, 'n_estimators': 500, 'nthread': 4, 'objective': 'reg:linear', 'silent': 1, 'subsample': 0.7}\n"
          ],
          "name": "stdout"
        }
      ]
    },
    {
      "cell_type": "code",
      "metadata": {
        "scrolled": true,
        "id": "RrjpBB1U_2Hu",
        "colab_type": "code",
        "colab": {},
        "outputId": "d25971d1-4fc3-48aa-d84f-9ff8559fa3e2"
      },
      "source": [
        "e_train, e_test, f_train, f_test = train_test_split(e, f, test_size=0.25, random_state=0)\n",
        "regress=XGBRegressor(colsample_bytree = 0.7, learning_rate = 0.03, max_depth = 5, min_child_weight = 4, n_estimators = 500, nthread = 4, objective = 'reg:linear', silent = 1, subsample = 0.7)\n",
        "regress.fit(e_train, f_train)\n",
        "f_pred=regress.predict(e_test)\n",
        "rmse1=np.sqrt(metrics.mean_squared_error(f_test, f_pred))\n",
        "print(rmse1)"
      ],
      "execution_count": 0,
      "outputs": [
        {
          "output_type": "stream",
          "text": [
            "/usr/local/lib/python3.7/dist-packages/xgboost/core.py:587: FutureWarning: Series.base is deprecated and will be removed in a future version\n",
            "  if getattr(data, 'base', None) is not None and \\\n"
          ],
          "name": "stderr"
        },
        {
          "output_type": "stream",
          "text": [
            "1.365714690399073\n"
          ],
          "name": "stdout"
        }
      ]
    },
    {
      "cell_type": "code",
      "metadata": {
        "id": "D56JLaIA_2Hx",
        "colab_type": "code",
        "colab": {},
        "outputId": "62107541-cc62-41a8-9bcc-53668650d551"
      },
      "source": [
        "df2=pd.DataFrame({'Actual': f_test, 'Prediction': f_pred})\n",
        "df2.describe()"
      ],
      "execution_count": 0,
      "outputs": [
        {
          "output_type": "execute_result",
          "data": {
            "text/html": [
              "<div>\n",
              "<style scoped>\n",
              "    .dataframe tbody tr th:only-of-type {\n",
              "        vertical-align: middle;\n",
              "    }\n",
              "\n",
              "    .dataframe tbody tr th {\n",
              "        vertical-align: top;\n",
              "    }\n",
              "\n",
              "    .dataframe thead th {\n",
              "        text-align: right;\n",
              "    }\n",
              "</style>\n",
              "<table border=\"1\" class=\"dataframe\">\n",
              "  <thead>\n",
              "    <tr style=\"text-align: right;\">\n",
              "      <th></th>\n",
              "      <th>Actual</th>\n",
              "      <th>Prediction</th>\n",
              "    </tr>\n",
              "  </thead>\n",
              "  <tbody>\n",
              "    <tr>\n",
              "      <th>count</th>\n",
              "      <td>4204.000000</td>\n",
              "      <td>4204.000000</td>\n",
              "    </tr>\n",
              "    <tr>\n",
              "      <th>mean</th>\n",
              "      <td>1.584206</td>\n",
              "      <td>1.591207</td>\n",
              "    </tr>\n",
              "    <tr>\n",
              "      <th>std</th>\n",
              "      <td>1.577047</td>\n",
              "      <td>0.832118</td>\n",
              "    </tr>\n",
              "    <tr>\n",
              "      <th>min</th>\n",
              "      <td>0.000000</td>\n",
              "      <td>-0.072519</td>\n",
              "    </tr>\n",
              "    <tr>\n",
              "      <th>25%</th>\n",
              "      <td>0.000000</td>\n",
              "      <td>1.040817</td>\n",
              "    </tr>\n",
              "    <tr>\n",
              "      <th>50%</th>\n",
              "      <td>1.000000</td>\n",
              "      <td>1.438128</td>\n",
              "    </tr>\n",
              "    <tr>\n",
              "      <th>75%</th>\n",
              "      <td>2.000000</td>\n",
              "      <td>1.947769</td>\n",
              "    </tr>\n",
              "    <tr>\n",
              "      <th>max</th>\n",
              "      <td>17.000000</td>\n",
              "      <td>10.489045</td>\n",
              "    </tr>\n",
              "  </tbody>\n",
              "</table>\n",
              "</div>"
            ],
            "text/plain": [
              "            Actual   Prediction\n",
              "count  4204.000000  4204.000000\n",
              "mean      1.584206     1.591207\n",
              "std       1.577047     0.832118\n",
              "min       0.000000    -0.072519\n",
              "25%       0.000000     1.040817\n",
              "50%       1.000000     1.438128\n",
              "75%       2.000000     1.947769\n",
              "max      17.000000    10.489045"
            ]
          },
          "metadata": {
            "tags": []
          },
          "execution_count": 178
        }
      ]
    },
    {
      "cell_type": "code",
      "metadata": {
        "scrolled": false,
        "id": "GYvQ8nww_2Hz",
        "colab_type": "code",
        "colab": {},
        "outputId": "7b6e0782-ef74-447a-854d-1234c4c43fb0"
      },
      "source": [
        "df3=df2.head(50)\n",
        "df3.plot(kind='bar', figsize=(20,12))\n",
        "plt.show()"
      ],
      "execution_count": 0,
      "outputs": [
        {
          "output_type": "display_data",
          "data": {
            "image/png": "[encoded data removed]",
            "text/plain": [
              "<Figure size 1440x864 with 1 Axes>"
            ]
          },
          "metadata": {
            "tags": []
          }
        }
      ]
    },
    {
      "cell_type": "markdown",
      "metadata": {
        "id": "2Nep5Lku_2H4",
        "colab_type": "raw"
      },
      "source": [
        "We increased the accuracy of the model from an RMSE of 1.3728882029005305 to 1.365714690399073 by hyper-parameter tuning. However, the model's prediction accuracy is still very poor."
      ]
    },
    {
      "cell_type": "markdown",
      "metadata": {
        "id": "4m92gATU_2H6",
        "colab_type": "text"
      },
      "source": [
        "#### Heteroskedasticity testing"
      ]
    },
    {
      "cell_type": "code",
      "metadata": {
        "id": "xuymdqmm_2H7",
        "colab_type": "code",
        "colab": {},
        "outputId": "a1e827fa-13d6-4db1-d0c4-6ea2b4d222b7"
      },
      "source": [
        "residuals=np.subtract(f_pred, f_test)\n",
        "pd.DataFrame(residuals).describe()"
      ],
      "execution_count": 0,
      "outputs": [
        {
          "output_type": "execute_result",
          "data": {
            "text/html": [
              "<div>\n",
              "<style scoped>\n",
              "    .dataframe tbody tr th:only-of-type {\n",
              "        vertical-align: middle;\n",
              "    }\n",
              "\n",
              "    .dataframe tbody tr th {\n",
              "        vertical-align: top;\n",
              "    }\n",
              "\n",
              "    .dataframe thead th {\n",
              "        text-align: right;\n",
              "    }\n",
              "</style>\n",
              "<table border=\"1\" class=\"dataframe\">\n",
              "  <thead>\n",
              "    <tr style=\"text-align: right;\">\n",
              "      <th></th>\n",
              "      <th>home_score</th>\n",
              "    </tr>\n",
              "  </thead>\n",
              "  <tbody>\n",
              "    <tr>\n",
              "      <th>count</th>\n",
              "      <td>4204.000000</td>\n",
              "    </tr>\n",
              "    <tr>\n",
              "      <th>mean</th>\n",
              "      <td>0.007001</td>\n",
              "    </tr>\n",
              "    <tr>\n",
              "      <th>std</th>\n",
              "      <td>1.365859</td>\n",
              "    </tr>\n",
              "    <tr>\n",
              "      <th>min</th>\n",
              "      <td>-14.549804</td>\n",
              "    </tr>\n",
              "    <tr>\n",
              "      <th>25%</th>\n",
              "      <td>-0.632738</td>\n",
              "    </tr>\n",
              "    <tr>\n",
              "      <th>50%</th>\n",
              "      <td>0.203007</td>\n",
              "    </tr>\n",
              "    <tr>\n",
              "      <th>75%</th>\n",
              "      <td>0.900632</td>\n",
              "    </tr>\n",
              "    <tr>\n",
              "      <th>max</th>\n",
              "      <td>5.681555</td>\n",
              "    </tr>\n",
              "  </tbody>\n",
              "</table>\n",
              "</div>"
            ],
            "text/plain": [
              "        home_score\n",
              "count  4204.000000\n",
              "mean      0.007001\n",
              "std       1.365859\n",
              "min     -14.549804\n",
              "25%      -0.632738\n",
              "50%       0.203007\n",
              "75%       0.900632\n",
              "max       5.681555"
            ]
          },
          "metadata": {
            "tags": []
          },
          "execution_count": 185
        }
      ]
    },
    {
      "cell_type": "code",
      "metadata": {
        "id": "6onBKahl_2H9",
        "colab_type": "code",
        "colab": {},
        "outputId": "80d11161-da6f-4262-a360-3f308ae9e0ca"
      },
      "source": [
        "plt.scatter(f_pred, residuals, color='black')\n",
        "plt.ylabel('residual')\n",
        "plt.xlabel('fitted values')\n",
        "plt.axhline(y= residuals.mean(), color='red', linewidth=1)\n",
        "plt.show()"
      ],
      "execution_count": 0,
      "outputs": [
        {
          "output_type": "display_data",
          "data": {
            "image/png": "[encoded data removed]",
            "text/plain": [
              "<Figure size 432x288 with 1 Axes>"
            ]
          },
          "metadata": {
            "tags": []
          }
        }
      ]
    },
    {
      "cell_type": "markdown",
      "metadata": {
        "id": "CJDtfS0Y_2H_",
        "colab_type": "text"
      },
      "source": [
        "This looks bad as although our residuals are centered around a mean that is very close to 0, there is a glaringly obvious pattern."
      ]
    },
    {
      "cell_type": "markdown",
      "metadata": {
        "id": "VsZNTKxL_2H_",
        "colab_type": "text"
      },
      "source": [
        "#### Bartlett's test"
      ]
    },
    {
      "cell_type": "code",
      "metadata": {
        "id": "OJm_B6RU_2IA",
        "colab_type": "code",
        "colab": {},
        "outputId": "5491fd3b-147f-4109-ebf2-6a793c35646a"
      },
      "source": [
        "# A Bartlett's test is used. It establishes a null hypothesis that the variance\n",
        "# is equal for all data points and that the new hypothesis that the variance is \n",
        "# different for at least one pair of the data points.\n",
        "test_result, p_value = sp.stats.bartlett(f_pred, residuals)\n",
        "\n",
        "# To interpret the results we must also compute a critical value of the chi squared distribution\n",
        "degree_of_freedom = len(f_pred)-1\n",
        "probability = 1 - p_value\n",
        "\n",
        "critical_value = sp.stats.chi2.ppf(probability, degree_of_freedom)\n",
        "print(critical_value)\n",
        "\n",
        "# If the test_result is greater than the critical value, then we reject our null\n",
        "# hypothesis. This would mean that there are patterns to the variance of the data\n",
        "\n",
        "# Otherwise, we can identify no patterns, and we accept the null hypothesis that \n",
        "# the variance is homogeneous across our data\n",
        "\n",
        "if (test_result > critical_value):\n",
        "  print('the variances are unequal, and the model should be reassessed')\n",
        "else:\n",
        "  print('the variances are homogeneous!')\n",
        "\n"
      ],
      "execution_count": 0,
      "outputs": [
        {
          "output_type": "stream",
          "text": [
            "inf\n",
            "the variances are homogeneous!\n"
          ],
          "name": "stdout"
        }
      ]
    },
    {
      "cell_type": "markdown",
      "metadata": {
        "id": "GKcdlB02_2ID",
        "colab_type": "text"
      },
      "source": [
        "### Approach 2: Logistic regression"
      ]
    },
    {
      "cell_type": "code",
      "metadata": {
        "id": "sc-JBn3o_2IF",
        "colab_type": "code",
        "colab": {}
      },
      "source": [
        "y=cleaned.home_performance"
      ],
      "execution_count": 0,
      "outputs": []
    },
    {
      "cell_type": "code",
      "metadata": {
        "id": "0zP4UoVT_2IJ",
        "colab_type": "code",
        "colab": {},
        "outputId": "2f9ec0a2-3345-4d74-b2d8-f70b801a2df3"
      },
      "source": [
        "logistic=cleaned.drop(columns=['home_team', 'away_team', 'neutral', 'year', 'month', 'home_performance'])\n",
        "logistic.head()"
      ],
      "execution_count": 0,
      "outputs": [
        {
          "output_type": "execute_result",
          "data": {
            "text/html": [
              "<div>\n",
              "<style scoped>\n",
              "    .dataframe tbody tr th:only-of-type {\n",
              "        vertical-align: middle;\n",
              "    }\n",
              "\n",
              "    .dataframe tbody tr th {\n",
              "        vertical-align: top;\n",
              "    }\n",
              "\n",
              "    .dataframe thead th {\n",
              "        text-align: right;\n",
              "    }\n",
              "</style>\n",
              "<table border=\"1\" class=\"dataframe\">\n",
              "  <thead>\n",
              "    <tr style=\"text-align: right;\">\n",
              "      <th></th>\n",
              "      <th>home_score</th>\n",
              "      <th>away_score</th>\n",
              "      <th>home_team_rank</th>\n",
              "      <th>home_team_total_points</th>\n",
              "      <th>home_team_previous_points</th>\n",
              "      <th>home_team_rank_change</th>\n",
              "      <th>away_team_rank</th>\n",
              "      <th>away_team_total_points</th>\n",
              "      <th>away_team_previous_points</th>\n",
              "      <th>away_team_rank_change</th>\n",
              "      <th>...</th>\n",
              "      <th>UEFA Euro qualification</th>\n",
              "      <th>UNCAF Cup</th>\n",
              "      <th>UNIFFAC Cup</th>\n",
              "      <th>USA Cup</th>\n",
              "      <th>United Arab Emirates Friendship Tournament</th>\n",
              "      <th>VFF Cup</th>\n",
              "      <th>WAFF Championship</th>\n",
              "      <th>Windward Islands Tournament</th>\n",
              "      <th>False</th>\n",
              "      <th>True</th>\n",
              "    </tr>\n",
              "  </thead>\n",
              "  <tbody>\n",
              "    <tr>\n",
              "      <th>0</th>\n",
              "      <td>3</td>\n",
              "      <td>1</td>\n",
              "      <td>59.0</td>\n",
              "      <td>0.0</td>\n",
              "      <td>13.0</td>\n",
              "      <td>28.0</td>\n",
              "      <td>22.0</td>\n",
              "      <td>0.0</td>\n",
              "      <td>47.0</td>\n",
              "      <td>-6.0</td>\n",
              "      <td>...</td>\n",
              "      <td>0</td>\n",
              "      <td>0</td>\n",
              "      <td>0</td>\n",
              "      <td>0</td>\n",
              "      <td>0</td>\n",
              "      <td>0</td>\n",
              "      <td>0</td>\n",
              "      <td>0</td>\n",
              "      <td>1</td>\n",
              "      <td>0</td>\n",
              "    </tr>\n",
              "    <tr>\n",
              "      <th>1</th>\n",
              "      <td>1</td>\n",
              "      <td>1</td>\n",
              "      <td>8.0</td>\n",
              "      <td>0.0</td>\n",
              "      <td>55.0</td>\n",
              "      <td>-5.0</td>\n",
              "      <td>14.0</td>\n",
              "      <td>0.0</td>\n",
              "      <td>42.0</td>\n",
              "      <td>11.0</td>\n",
              "      <td>...</td>\n",
              "      <td>0</td>\n",
              "      <td>0</td>\n",
              "      <td>0</td>\n",
              "      <td>0</td>\n",
              "      <td>0</td>\n",
              "      <td>0</td>\n",
              "      <td>0</td>\n",
              "      <td>0</td>\n",
              "      <td>1</td>\n",
              "      <td>0</td>\n",
              "    </tr>\n",
              "    <tr>\n",
              "      <th>2</th>\n",
              "      <td>5</td>\n",
              "      <td>0</td>\n",
              "      <td>35.0</td>\n",
              "      <td>0.0</td>\n",
              "      <td>23.0</td>\n",
              "      <td>30.0</td>\n",
              "      <td>94.0</td>\n",
              "      <td>0.0</td>\n",
              "      <td>4.0</td>\n",
              "      <td>31.0</td>\n",
              "      <td>...</td>\n",
              "      <td>0</td>\n",
              "      <td>0</td>\n",
              "      <td>0</td>\n",
              "      <td>0</td>\n",
              "      <td>0</td>\n",
              "      <td>0</td>\n",
              "      <td>0</td>\n",
              "      <td>0</td>\n",
              "      <td>1</td>\n",
              "      <td>0</td>\n",
              "    </tr>\n",
              "    <tr>\n",
              "      <th>3</th>\n",
              "      <td>1</td>\n",
              "      <td>0</td>\n",
              "      <td>65.0</td>\n",
              "      <td>0.0</td>\n",
              "      <td>23.0</td>\n",
              "      <td>-2.0</td>\n",
              "      <td>86.0</td>\n",
              "      <td>0.0</td>\n",
              "      <td>16.0</td>\n",
              "      <td>-7.0</td>\n",
              "      <td>...</td>\n",
              "      <td>0</td>\n",
              "      <td>0</td>\n",
              "      <td>0</td>\n",
              "      <td>0</td>\n",
              "      <td>0</td>\n",
              "      <td>0</td>\n",
              "      <td>0</td>\n",
              "      <td>0</td>\n",
              "      <td>1</td>\n",
              "      <td>0</td>\n",
              "    </tr>\n",
              "    <tr>\n",
              "      <th>4</th>\n",
              "      <td>1</td>\n",
              "      <td>3</td>\n",
              "      <td>67.0</td>\n",
              "      <td>0.0</td>\n",
              "      <td>22.0</td>\n",
              "      <td>1.0</td>\n",
              "      <td>5.0</td>\n",
              "      <td>0.0</td>\n",
              "      <td>51.0</td>\n",
              "      <td>5.0</td>\n",
              "      <td>...</td>\n",
              "      <td>0</td>\n",
              "      <td>0</td>\n",
              "      <td>0</td>\n",
              "      <td>0</td>\n",
              "      <td>0</td>\n",
              "      <td>0</td>\n",
              "      <td>0</td>\n",
              "      <td>0</td>\n",
              "      <td>1</td>\n",
              "      <td>0</td>\n",
              "    </tr>\n",
              "  </tbody>\n",
              "</table>\n",
              "<p>5 rows × 77 columns</p>\n",
              "</div>"
            ],
            "text/plain": [
              "   home_score  away_score  home_team_rank  home_team_total_points  \\\n",
              "0           3           1            59.0                     0.0   \n",
              "1           1           1             8.0                     0.0   \n",
              "2           5           0            35.0                     0.0   \n",
              "3           1           0            65.0                     0.0   \n",
              "4           1           3            67.0                     0.0   \n",
              "\n",
              "   home_team_previous_points  home_team_rank_change  away_team_rank  \\\n",
              "0                       13.0                   28.0            22.0   \n",
              "1                       55.0                   -5.0            14.0   \n",
              "2                       23.0                   30.0            94.0   \n",
              "3                       23.0                   -2.0            86.0   \n",
              "4                       22.0                    1.0             5.0   \n",
              "\n",
              "   away_team_total_points  away_team_previous_points  away_team_rank_change  \\\n",
              "0                     0.0                       47.0                   -6.0   \n",
              "1                     0.0                       42.0                   11.0   \n",
              "2                     0.0                        4.0                   31.0   \n",
              "3                     0.0                       16.0                   -7.0   \n",
              "4                     0.0                       51.0                    5.0   \n",
              "\n",
              "   ...  UEFA Euro qualification  UNCAF Cup  UNIFFAC Cup  USA Cup  \\\n",
              "0  ...                        0          0            0        0   \n",
              "1  ...                        0          0            0        0   \n",
              "2  ...                        0          0            0        0   \n",
              "3  ...                        0          0            0        0   \n",
              "4  ...                        0          0            0        0   \n",
              "\n",
              "   United Arab Emirates Friendship Tournament  VFF Cup  WAFF Championship  \\\n",
              "0                                           0        0                  0   \n",
              "1                                           0        0                  0   \n",
              "2                                           0        0                  0   \n",
              "3                                           0        0                  0   \n",
              "4                                           0        0                  0   \n",
              "\n",
              "   Windward Islands Tournament  False  True  \n",
              "0                            0      1     0  \n",
              "1                            0      1     0  \n",
              "2                            0      1     0  \n",
              "3                            0      1     0  \n",
              "4                            0      1     0  \n",
              "\n",
              "[5 rows x 77 columns]"
            ]
          },
          "metadata": {
            "tags": []
          },
          "execution_count": 119
        }
      ]
    },
    {
      "cell_type": "code",
      "metadata": {
        "id": "X9Z1GYqi_2IM",
        "colab_type": "code",
        "colab": {}
      },
      "source": [
        "x=logistic"
      ],
      "execution_count": 0,
      "outputs": []
    },
    {
      "cell_type": "code",
      "metadata": {
        "id": "fpsBRrxt_2IO",
        "colab_type": "code",
        "colab": {},
        "outputId": "c1a9cfaf-37b9-43bf-9251-6e272206c597"
      },
      "source": [
        "x_train, x_test, y_train, y_test = train_test_split(x, y, test_size=0.2, random_state=0)\n",
        "# Spot Check Algorithms\n",
        "models = []\n",
        "models.append(('LR', LogisticRegression(solver='liblinear', multi_class='ovr')))\n",
        "models.append(('LDA', LinearDiscriminantAnalysis()))\n",
        "models.append(('KNN', KNeighborsClassifier()))\n",
        "models.append(('CART', DecisionTreeClassifier()))\n",
        "models.append(('NB', GaussianNB()))\n",
        "models.append(('SVM', SVC(gamma='auto')))\n",
        "# evaluate each model in turn\n",
        "results = []\n",
        "names = []\n",
        "for name, model in models:\n",
        "   kfold = model_selection.KFold(n_splits=8, random_state=0)\n",
        "   cv_results = model_selection.cross_val_score(model, x_train, y_train, cv=kfold, scoring='accuracy')\n",
        "   results.append(cv_results)\n",
        "   names.append(name)\n",
        "   msg = \"%s: %f (%f)\" % (name, cv_results.mean(), cv_results.std())\n",
        "   print(msg)"
      ],
      "execution_count": 0,
      "outputs": [
        {
          "output_type": "stream",
          "text": [
            "LR: 0.999562 (0.000386)\n"
          ],
          "name": "stdout"
        },
        {
          "output_type": "stream",
          "text": [
            "/usr/local/lib/python3.7/dist-packages/sklearn/discriminant_analysis.py:388: UserWarning: Variables are collinear.\n",
            "  warnings.warn(\"Variables are collinear.\")\n",
            "/usr/local/lib/python3.7/dist-packages/sklearn/discriminant_analysis.py:388: UserWarning: Variables are collinear.\n",
            "  warnings.warn(\"Variables are collinear.\")\n",
            "/usr/local/lib/python3.7/dist-packages/sklearn/discriminant_analysis.py:388: UserWarning: Variables are collinear.\n",
            "  warnings.warn(\"Variables are collinear.\")\n",
            "/usr/local/lib/python3.7/dist-packages/sklearn/discriminant_analysis.py:388: UserWarning: Variables are collinear.\n",
            "  warnings.warn(\"Variables are collinear.\")\n",
            "/usr/local/lib/python3.7/dist-packages/sklearn/discriminant_analysis.py:388: UserWarning: Variables are collinear.\n",
            "  warnings.warn(\"Variables are collinear.\")\n",
            "/usr/local/lib/python3.7/dist-packages/sklearn/discriminant_analysis.py:388: UserWarning: Variables are collinear.\n",
            "  warnings.warn(\"Variables are collinear.\")\n",
            "/usr/local/lib/python3.7/dist-packages/sklearn/discriminant_analysis.py:388: UserWarning: Variables are collinear.\n",
            "  warnings.warn(\"Variables are collinear.\")\n",
            "/usr/local/lib/python3.7/dist-packages/sklearn/discriminant_analysis.py:388: UserWarning: Variables are collinear.\n",
            "  warnings.warn(\"Variables are collinear.\")\n"
          ],
          "name": "stderr"
        },
        {
          "output_type": "stream",
          "text": [
            "LDA: 0.878731 (0.004618)\n",
            "KNN: 0.522073 (0.015537)\n",
            "CART: 0.999708 (0.000413)\n",
            "NB: 0.565704 (0.040035)\n",
            "SVM: 0.510398 (0.009839)\n"
          ],
          "name": "stdout"
        }
      ]
    },
    {
      "cell_type": "code",
      "metadata": {
        "scrolled": true,
        "id": "vEp0MftC_2IR",
        "colab_type": "code",
        "colab": {},
        "outputId": "6876eabf-54d3-44bc-846d-5fee5fe8a305"
      },
      "source": [
        "# Compare Algorithms\n",
        "fig = plt.figure()\n",
        "fig.suptitle('Algorithm Comparison')\n",
        "ax = fig.add_subplot(111)\n",
        "plt.boxplot(results)\n",
        "ax.set_xticklabels(names)\n",
        "plt.show()"
      ],
      "execution_count": 0,
      "outputs": [
        {
          "output_type": "display_data",
          "data": {
            "image/png": "[encoded data removed]",
            "text/plain": [
              "<Figure size 432x288 with 1 Axes>"
            ]
          },
          "metadata": {
            "tags": []
          }
        }
      ]
    },
    {
      "cell_type": "markdown",
      "metadata": {
        "id": "u4aygyzD_2IT",
        "colab_type": "raw"
      },
      "source": [
        "Logistic Regression and Decision tree classifier are the two algorithms with high accuracy. However, only Logistic Regression will be used for the analysis. "
      ]
    },
    {
      "cell_type": "code",
      "metadata": {
        "scrolled": false,
        "id": "eayFazDx_2IT",
        "colab_type": "code",
        "colab": {},
        "outputId": "0ceacbeb-4a3e-4bf4-9525-b4ca16bfb856"
      },
      "source": [
        "x_train, x_test, y_train, y_test=train_test_split(x,y,test_size=0.2, random_state=0)\n",
        "classify=LogisticRegression(random_state=0, solver='liblinear', multi_class='ovr')\n",
        "classify.fit(x_train, y_train)\n",
        "y_pred=classify.predict(x_test)\n",
        "\n",
        "cm=confusion_matrix(y_test, y_pred)\n",
        "acc=accuracy_score(y_test, y_pred)\n",
        "print(classification_report(y_test, y_pred))\n",
        "#print('F1 score; ', f1_score(y_test, y_pred))\n",
        "print('Accuracy; ', acc)\n",
        "print(cm)\n",
        "\n",
        "\n",
        "ax=sns.heatmap(cm, annot=True)\n",
        "ax"
      ],
      "execution_count": 0,
      "outputs": [
        {
          "output_type": "stream",
          "text": [
            "              precision    recall  f1-score   support\n",
            "\n",
            "        Draw       1.00      1.00      1.00       836\n",
            "        Loss       1.00      1.00      1.00       952\n",
            "         Win       1.00      1.00      1.00      1639\n",
            "\n",
            "    accuracy                           1.00      3427\n",
            "   macro avg       1.00      1.00      1.00      3427\n",
            "weighted avg       1.00      1.00      1.00      3427\n",
            "\n",
            "Accuracy;  1.0\n",
            "[[ 836    0    0]\n",
            " [   0  952    0]\n",
            " [   0    0 1639]]\n"
          ],
          "name": "stdout"
        },
        {
          "output_type": "execute_result",
          "data": {
            "text/plain": [
              "<matplotlib.axes._subplots.AxesSubplot at 0x7fd7b8856ba8>"
            ]
          },
          "metadata": {
            "tags": []
          },
          "execution_count": 135
        },
        {
          "output_type": "display_data",
          "data": {
            "image/png": "[encoded data removed]",
            "text/plain": [
              "<Figure size 432x288 with 2 Axes>"
            ]
          },
          "metadata": {
            "tags": []
          }
        }
      ]
    },
    {
      "cell_type": "markdown",
      "metadata": {
        "colab_type": "text",
        "id": "lQ2G4ZPDVOXE"
      },
      "source": [
        "## 8. Challenging the solution"
      ]
    },
    {
      "cell_type": "markdown",
      "metadata": {
        "colab_type": "text",
        "id": "jWVGKGuiYMWg"
      },
      "source": [
        "> The polynomial approach yielded disappointing results as the number of goals scored and conceded is not only dependent on the FIFA ranking. The models therefore cannot be used to predict the number of goals with any level of accuracy.\n",
        "The Multiple regression approach employed to predict the number of goals scored by home and away team had RMSE scores of more than 90% of the mean. They should therefore be disregarded.\n",
        "This is mainly because the outcome of a match is highly dependent on other variables like key player fitness, morale, playing surface, time of match and red cards in the game that were not present in the dataset.\n",
        "\n",
        "\n",
        "\n"
      ]
    },
    {
      "cell_type": "markdown",
      "metadata": {
        "id": "_NeGAgTbARiJ",
        "colab_type": "text"
      },
      "source": [
        "> Approach 2 was our best performing model as we could predict with 100% accuracy whether a team would win, draw or loose at home based on the tounament, if the ground was neutral and home team and away team FIFA ranking.\n",
        ">The model should be however be continually be checked and updated with data and it's performance evaluated to make sure that the accuracy is not due to overfitting. "
      ]
    }
  ]
}